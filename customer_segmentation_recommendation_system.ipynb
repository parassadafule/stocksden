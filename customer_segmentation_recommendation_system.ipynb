{
  "metadata": {
    "kernelspec": {
      "name": "python3",
      "display_name": "Python 3",
      "language": "python"
    },
    "language_info": {
      "name": "python",
      "version": "3.10.12",
      "mimetype": "text/x-python",
      "codemirror_mode": {
        "name": "ipython",
        "version": 3
      },
      "pygments_lexer": "ipython3",
      "nbconvert_exporter": "python",
      "file_extension": ".py"
    },
    "kaggle": {
      "accelerator": "none",
      "dataSources": [
        {
          "sourceId": 3404,
          "sourceType": "datasetVersion",
          "datasetId": 1985
        }
      ],
      "dockerImageVersionId": 30558,
      "isInternetEnabled": false,
      "language": "python",
      "sourceType": "notebook",
      "isGpuEnabled": false
    },
    "colab": {
      "provenance": []
    }
  },
  "nbformat_minor": 0,
  "nbformat": 4,
  "cells": [
    {
      "cell_type": "markdown",
      "source": [
        "<a id=\"contents_tabel\"></a>    \n",
        "<div style=\"border-radius:10px; padding: 15px; background-color: #ffeacc; font-size:130%; text-align:left\">\n",
        "\n",
        "<h2 align=\"left\"><font color=#ff6200>Table of Contents:</font></h2>\n",
        "    \n",
        "* [Step 1 | Setup and Initialization](#setup)\n",
        "    - [Step 1.1 | Importing Necessary Libraries](#libraries)\n",
        "    - [Step 1.2 | Loading the Dataset](#load_dataset)\n",
        "* [Step 2 | Initial Data Analysis](#initial_analysis)\n",
        "    - [Step 2.1 | Dataset Overview](#overview)\n",
        "    - [Step 2.2 | Summary Statistics](#statistics)\n",
        "* [Step 3 | Data Cleaning & Transformation](#data_cleaning)\n",
        "    - [Step 3.1 | Handling Missing Values](#missing_values)\n",
        "    - [Step 3.2 | Handling Duplicates](#duplicates)\n",
        "    - [Step 3.3 | Treating Cancelled Transactions](#InvoiceNo_cleaning)\n",
        "    - [Step 3.4 | Correcting StockCode Anomalies](#StockCode_cleaning)\n",
        "    - [Step 3.5 | Cleaning Description Column](#Description_cleaning)\n",
        "    - [Step 3.6 | Treating Zero Unit Prices](#UnitPrice_cleaning)\n",
        "    - [Step 3.7 | Outlier Treatment](#outlier_cleaning)\n",
        "* [Step 4 | Feature Engineering](#feature_engineering)\n",
        "    - [Step 4.1 | RFM Features](#rfm_features)\n",
        "        - [Step 4.1.1 | Recency (R)](#recency)\n",
        "        - [Step 4.1.2 | Frequency (F)](#frequency)\n",
        "        - [Step 4.1.3 | Monetary (M)](#monetary)\n",
        "    - [Step 4.2 | Product Diversity](#product_diversity)\n",
        "    - [Step 4.3 | Behavioral Features](#behaviroal_features)\n",
        "    - [Step 4.4 | Geographic Features](#geographical_features)\n",
        "    - [Step 4.5 | Cancellation Insights](#cancellation_insights)\n",
        "    - [Step 4.6 | Seasonality & Trends](#seasonality_trends)\n",
        "* [Step 5 | Outlier Detection and Treatment](#outlier_detection)\n",
        "* [Step 6 | Correlation Analysis](#correlation)\n",
        "* [Step 7 | Feature Scaling](#scaling)\n",
        "* [Step 8 | Dimensionality Reduction](#pca)\n",
        "* [Step 9 | K-Means Clustering](#kmeans)\n",
        "    - [Step 9.1 | Determining the Optimal Number of Clusters](#optimal_k)\n",
        "        - [Step 9.1.1 | Elbow Method](#elbow)\n",
        "        - [Step 9.1.2 | Silhouette Method](#silhouette)\n",
        "    - [Step 9.2 | Clustering Model - K-means](#kmeans_model)\n",
        "* [Step 10 | Clustering Evaluation](#evaluation)  \n",
        "    - [Step 10.1 | 3D Visualization of Top Principal Components](#3d_visualization)\n",
        "    - [Step 10.2 | Cluster Distribution Visualization](#cluster_distributuion)\n",
        "    - [Step 10.3 | Evaluation Metrics](#evaluations_metrics)\n",
        "* [Step 11 | Cluster Analysis and Profiling](#profiling)\n",
        "    - [Step 11.1 | Radar Chart Approach](#radar_chart)\n",
        "    - [Step 11.2 | Histogram Chart Approach](#histogram)\n",
        "* [Step 12 | Recommendation System](#recommendation_system)"
      ],
      "metadata": {
        "id": "mdIjaHnL3cAS"
      }
    },
    {
      "cell_type": "markdown",
      "source": [
        "<h2 align=\"left\"><font color=#ff6200>Let's get started:</font></h2>"
      ],
      "metadata": {
        "id": "ziXsSl8m3cAT"
      }
    },
    {
      "cell_type": "markdown",
      "source": [
        "<a id=\"setup\"></a>\n",
        "# <p style=\"background-color: #ff6200; font-family:calibri; color:white; font-size:140%; font-family:Verdana; text-align:center; border-radius:15px 50px;\">Step 1 | Setup and Initialization</p>\n",
        "⬆️ [Tabel of Contents](#contents_tabel)"
      ],
      "metadata": {
        "id": "DASoYCI-3cAU"
      }
    },
    {
      "cell_type": "markdown",
      "source": [
        "<a id=\"libraries\"></a>\n",
        "# <b><span style='color:#fcc36d'>Step 1.1 |</span><span style='color:#ff6200'> Importing Necessary Libraries</span></b>\n",
        "⬆️ [Tabel of Contents](#contents_tabel)"
      ],
      "metadata": {
        "id": "bZStyrA63cAp"
      }
    },
    {
      "cell_type": "markdown",
      "source": [
        "<div style=\"border-radius:10px; padding: 15px; background-color: #ffeacc; font-size:120%; text-align:left\">\n",
        "    \n",
        "First of all, I will import all the necessary libraries that we will use throughout the project. This generally includes libraries for data manipulation, data visualization, and others based on the specific needs of the project:"
      ],
      "metadata": {
        "id": "Pg1TKb4s3cAr"
      }
    },
    {
      "cell_type": "code",
      "source": [
        "# Ignore warnings\n",
        "import warnings\n",
        "warnings.filterwarnings('ignore')\n",
        "\n",
        "import numpy as np\n",
        "import pandas as pd\n",
        "import seaborn as sns\n",
        "import matplotlib.pyplot as plt\n",
        "import matplotlib.gridspec as gridspec\n",
        "import plotly.graph_objects as go\n",
        "from matplotlib.colors import LinearSegmentedColormap\n",
        "from matplotlib import colors as mcolors\n",
        "from scipy.stats import linregress\n",
        "from sklearn.ensemble import IsolationForest\n",
        "from sklearn.preprocessing import StandardScaler\n",
        "from sklearn.decomposition import PCA\n",
        "from yellowbrick.cluster import KElbowVisualizer, SilhouetteVisualizer\n",
        "from sklearn.metrics import silhouette_score, calinski_harabasz_score, davies_bouldin_score\n",
        "from sklearn.cluster import KMeans\n",
        "from tabulate import tabulate\n",
        "from collections import Counter\n",
        "\n",
        "%matplotlib inline"
      ],
      "metadata": {
        "execution": {
          "iopub.status.busy": "2023-09-13T18:53:12.972243Z",
          "iopub.execute_input": "2023-09-13T18:53:12.972938Z",
          "iopub.status.idle": "2023-09-13T18:53:14.373679Z",
          "shell.execute_reply.started": "2023-09-13T18:53:12.972902Z",
          "shell.execute_reply": "2023-09-13T18:53:14.372505Z"
        },
        "trusted": true,
        "id": "p4W-S4Ht3cAs"
      },
      "execution_count": null,
      "outputs": []
    },
    {
      "cell_type": "code",
      "source": [
        "# Initialize Plotly for use in the notebook\n",
        "from plotly.offline import init_notebook_mode\n",
        "init_notebook_mode(connected=True)"
      ],
      "metadata": {
        "execution": {
          "iopub.status.busy": "2023-09-13T18:53:14.376154Z",
          "iopub.execute_input": "2023-09-13T18:53:14.376696Z",
          "iopub.status.idle": "2023-09-13T18:53:14.521967Z",
          "shell.execute_reply.started": "2023-09-13T18:53:14.376663Z",
          "shell.execute_reply": "2023-09-13T18:53:14.521129Z"
        },
        "trusted": true,
        "colab": {
          "base_uri": "https://localhost:8080/",
          "height": 17
        },
        "id": "nrj8WgMC3cAw",
        "outputId": "75337a2b-ec02-4395-9760-fb51940c2594"
      },
      "execution_count": null,
      "outputs": [
        {
          "output_type": "display_data",
          "data": {
            "text/html": [
              "        <script type=\"text/javascript\">\n",
              "        window.PlotlyConfig = {MathJaxConfig: 'local'};\n",
              "        if (window.MathJax && window.MathJax.Hub && window.MathJax.Hub.Config) {window.MathJax.Hub.Config({SVG: {font: \"STIX-Web\"}});}\n",
              "        if (typeof require !== 'undefined') {\n",
              "        require.undef(\"plotly\");\n",
              "        requirejs.config({\n",
              "            paths: {\n",
              "                'plotly': ['https://cdn.plot.ly/plotly-2.24.1.min']\n",
              "            }\n",
              "        });\n",
              "        require(['plotly'], function(Plotly) {\n",
              "            window._Plotly = Plotly;\n",
              "        });\n",
              "        }\n",
              "        </script>\n",
              "        "
            ]
          },
          "metadata": {}
        }
      ]
    },
    {
      "cell_type": "code",
      "source": [
        "# Configure Seaborn plot styles: Set background color and use dark grid\n",
        "sns.set(rc={'axes.facecolor': '#fcf0dc'}, style='darkgrid')"
      ],
      "metadata": {
        "execution": {
          "iopub.status.busy": "2023-09-13T18:53:14.523084Z",
          "iopub.execute_input": "2023-09-13T18:53:14.523872Z",
          "iopub.status.idle": "2023-09-13T18:53:14.530486Z",
          "shell.execute_reply.started": "2023-09-13T18:53:14.523839Z",
          "shell.execute_reply": "2023-09-13T18:53:14.529107Z"
        },
        "trusted": true,
        "id": "VN3SNb5U3cAw"
      },
      "execution_count": null,
      "outputs": []
    },
    {
      "cell_type": "markdown",
      "source": [
        "<a id=\"load_dataset\"></a>\n",
        "# <b><span style='color:#fcc36d'>Step 1.2 |</span><span style='color:#ff6200'> Loading the Dataset</span></b>\n",
        "⬆️ [Tabel of Contents](#contents_tabel)"
      ],
      "metadata": {
        "id": "eaAyWt_i3cAx"
      }
    },
    {
      "cell_type": "markdown",
      "source": [
        "<div style=\"border-radius:10px; padding: 15px; background-color: #ffeacc; font-size:120%; text-align:left\">\n",
        "    \n",
        "Next, I will load the dataset into a pandas DataFrame which will facilitate easy manipulation and analysis:"
      ],
      "metadata": {
        "id": "q2X2Ei783cAy"
      }
    },
    {
      "cell_type": "code",
      "source": [
        "df = pd.read_csv('data.csv', encoding=\"ISO-8859-1\")"
      ],
      "metadata": {
        "execution": {
          "iopub.status.busy": "2023-09-13T18:53:14.532112Z",
          "iopub.execute_input": "2023-09-13T18:53:14.532525Z",
          "iopub.status.idle": "2023-09-13T18:53:15.620773Z",
          "shell.execute_reply.started": "2023-09-13T18:53:14.532495Z",
          "shell.execute_reply": "2023-09-13T18:53:15.619464Z"
        },
        "trusted": true,
        "id": "BV_tYFhI3cAy",
        "outputId": "3d90a647-a12f-4736-c45b-ba5fa1ad845e",
        "colab": {
          "base_uri": "https://localhost:8080/",
          "height": 321
        }
      },
      "execution_count": null,
      "outputs": [
        {
          "output_type": "error",
          "ename": "FileNotFoundError",
          "evalue": "ignored",
          "traceback": [
            "\u001b[0;31m---------------------------------------------------------------------------\u001b[0m",
            "\u001b[0;31mFileNotFoundError\u001b[0m                         Traceback (most recent call last)",
            "\u001b[0;32m<ipython-input-4-f473f98fe29c>\u001b[0m in \u001b[0;36m<cell line: 1>\u001b[0;34m()\u001b[0m\n\u001b[0;32m----> 1\u001b[0;31m \u001b[0mdf\u001b[0m \u001b[0;34m=\u001b[0m \u001b[0mpd\u001b[0m\u001b[0;34m.\u001b[0m\u001b[0mread_csv\u001b[0m\u001b[0;34m(\u001b[0m\u001b[0;34m'data.csv'\u001b[0m\u001b[0;34m,\u001b[0m \u001b[0mencoding\u001b[0m\u001b[0;34m=\u001b[0m\u001b[0;34m\"ISO-8859-1\"\u001b[0m\u001b[0;34m)\u001b[0m\u001b[0;34m\u001b[0m\u001b[0;34m\u001b[0m\u001b[0m\n\u001b[0m",
            "\u001b[0;32m/usr/local/lib/python3.10/dist-packages/pandas/util/_decorators.py\u001b[0m in \u001b[0;36mwrapper\u001b[0;34m(*args, **kwargs)\u001b[0m\n\u001b[1;32m    209\u001b[0m                 \u001b[0;32melse\u001b[0m\u001b[0;34m:\u001b[0m\u001b[0;34m\u001b[0m\u001b[0;34m\u001b[0m\u001b[0m\n\u001b[1;32m    210\u001b[0m                     \u001b[0mkwargs\u001b[0m\u001b[0;34m[\u001b[0m\u001b[0mnew_arg_name\u001b[0m\u001b[0;34m]\u001b[0m \u001b[0;34m=\u001b[0m \u001b[0mnew_arg_value\u001b[0m\u001b[0;34m\u001b[0m\u001b[0;34m\u001b[0m\u001b[0m\n\u001b[0;32m--> 211\u001b[0;31m             \u001b[0;32mreturn\u001b[0m \u001b[0mfunc\u001b[0m\u001b[0;34m(\u001b[0m\u001b[0;34m*\u001b[0m\u001b[0margs\u001b[0m\u001b[0;34m,\u001b[0m \u001b[0;34m**\u001b[0m\u001b[0mkwargs\u001b[0m\u001b[0;34m)\u001b[0m\u001b[0;34m\u001b[0m\u001b[0;34m\u001b[0m\u001b[0m\n\u001b[0m\u001b[1;32m    212\u001b[0m \u001b[0;34m\u001b[0m\u001b[0m\n\u001b[1;32m    213\u001b[0m         \u001b[0;32mreturn\u001b[0m \u001b[0mcast\u001b[0m\u001b[0;34m(\u001b[0m\u001b[0mF\u001b[0m\u001b[0;34m,\u001b[0m \u001b[0mwrapper\u001b[0m\u001b[0;34m)\u001b[0m\u001b[0;34m\u001b[0m\u001b[0;34m\u001b[0m\u001b[0m\n",
            "\u001b[0;32m/usr/local/lib/python3.10/dist-packages/pandas/util/_decorators.py\u001b[0m in \u001b[0;36mwrapper\u001b[0;34m(*args, **kwargs)\u001b[0m\n\u001b[1;32m    329\u001b[0m                     \u001b[0mstacklevel\u001b[0m\u001b[0;34m=\u001b[0m\u001b[0mfind_stack_level\u001b[0m\u001b[0;34m(\u001b[0m\u001b[0;34m)\u001b[0m\u001b[0;34m,\u001b[0m\u001b[0;34m\u001b[0m\u001b[0;34m\u001b[0m\u001b[0m\n\u001b[1;32m    330\u001b[0m                 )\n\u001b[0;32m--> 331\u001b[0;31m             \u001b[0;32mreturn\u001b[0m \u001b[0mfunc\u001b[0m\u001b[0;34m(\u001b[0m\u001b[0;34m*\u001b[0m\u001b[0margs\u001b[0m\u001b[0;34m,\u001b[0m \u001b[0;34m**\u001b[0m\u001b[0mkwargs\u001b[0m\u001b[0;34m)\u001b[0m\u001b[0;34m\u001b[0m\u001b[0;34m\u001b[0m\u001b[0m\n\u001b[0m\u001b[1;32m    332\u001b[0m \u001b[0;34m\u001b[0m\u001b[0m\n\u001b[1;32m    333\u001b[0m         \u001b[0;31m# error: \"Callable[[VarArg(Any), KwArg(Any)], Any]\" has no\u001b[0m\u001b[0;34m\u001b[0m\u001b[0;34m\u001b[0m\u001b[0m\n",
            "\u001b[0;32m/usr/local/lib/python3.10/dist-packages/pandas/io/parsers/readers.py\u001b[0m in \u001b[0;36mread_csv\u001b[0;34m(filepath_or_buffer, sep, delimiter, header, names, index_col, usecols, squeeze, prefix, mangle_dupe_cols, dtype, engine, converters, true_values, false_values, skipinitialspace, skiprows, skipfooter, nrows, na_values, keep_default_na, na_filter, verbose, skip_blank_lines, parse_dates, infer_datetime_format, keep_date_col, date_parser, dayfirst, cache_dates, iterator, chunksize, compression, thousands, decimal, lineterminator, quotechar, quoting, doublequote, escapechar, comment, encoding, encoding_errors, dialect, error_bad_lines, warn_bad_lines, on_bad_lines, delim_whitespace, low_memory, memory_map, float_precision, storage_options)\u001b[0m\n\u001b[1;32m    948\u001b[0m     \u001b[0mkwds\u001b[0m\u001b[0;34m.\u001b[0m\u001b[0mupdate\u001b[0m\u001b[0;34m(\u001b[0m\u001b[0mkwds_defaults\u001b[0m\u001b[0;34m)\u001b[0m\u001b[0;34m\u001b[0m\u001b[0;34m\u001b[0m\u001b[0m\n\u001b[1;32m    949\u001b[0m \u001b[0;34m\u001b[0m\u001b[0m\n\u001b[0;32m--> 950\u001b[0;31m     \u001b[0;32mreturn\u001b[0m \u001b[0m_read\u001b[0m\u001b[0;34m(\u001b[0m\u001b[0mfilepath_or_buffer\u001b[0m\u001b[0;34m,\u001b[0m \u001b[0mkwds\u001b[0m\u001b[0;34m)\u001b[0m\u001b[0;34m\u001b[0m\u001b[0;34m\u001b[0m\u001b[0m\n\u001b[0m\u001b[1;32m    951\u001b[0m \u001b[0;34m\u001b[0m\u001b[0m\n\u001b[1;32m    952\u001b[0m \u001b[0;34m\u001b[0m\u001b[0m\n",
            "\u001b[0;32m/usr/local/lib/python3.10/dist-packages/pandas/io/parsers/readers.py\u001b[0m in \u001b[0;36m_read\u001b[0;34m(filepath_or_buffer, kwds)\u001b[0m\n\u001b[1;32m    603\u001b[0m \u001b[0;34m\u001b[0m\u001b[0m\n\u001b[1;32m    604\u001b[0m     \u001b[0;31m# Create the parser.\u001b[0m\u001b[0;34m\u001b[0m\u001b[0;34m\u001b[0m\u001b[0m\n\u001b[0;32m--> 605\u001b[0;31m     \u001b[0mparser\u001b[0m \u001b[0;34m=\u001b[0m \u001b[0mTextFileReader\u001b[0m\u001b[0;34m(\u001b[0m\u001b[0mfilepath_or_buffer\u001b[0m\u001b[0;34m,\u001b[0m \u001b[0;34m**\u001b[0m\u001b[0mkwds\u001b[0m\u001b[0;34m)\u001b[0m\u001b[0;34m\u001b[0m\u001b[0;34m\u001b[0m\u001b[0m\n\u001b[0m\u001b[1;32m    606\u001b[0m \u001b[0;34m\u001b[0m\u001b[0m\n\u001b[1;32m    607\u001b[0m     \u001b[0;32mif\u001b[0m \u001b[0mchunksize\u001b[0m \u001b[0;32mor\u001b[0m \u001b[0miterator\u001b[0m\u001b[0;34m:\u001b[0m\u001b[0;34m\u001b[0m\u001b[0;34m\u001b[0m\u001b[0m\n",
            "\u001b[0;32m/usr/local/lib/python3.10/dist-packages/pandas/io/parsers/readers.py\u001b[0m in \u001b[0;36m__init__\u001b[0;34m(self, f, engine, **kwds)\u001b[0m\n\u001b[1;32m   1440\u001b[0m \u001b[0;34m\u001b[0m\u001b[0m\n\u001b[1;32m   1441\u001b[0m         \u001b[0mself\u001b[0m\u001b[0;34m.\u001b[0m\u001b[0mhandles\u001b[0m\u001b[0;34m:\u001b[0m \u001b[0mIOHandles\u001b[0m \u001b[0;34m|\u001b[0m \u001b[0;32mNone\u001b[0m \u001b[0;34m=\u001b[0m \u001b[0;32mNone\u001b[0m\u001b[0;34m\u001b[0m\u001b[0;34m\u001b[0m\u001b[0m\n\u001b[0;32m-> 1442\u001b[0;31m         \u001b[0mself\u001b[0m\u001b[0;34m.\u001b[0m\u001b[0m_engine\u001b[0m \u001b[0;34m=\u001b[0m \u001b[0mself\u001b[0m\u001b[0;34m.\u001b[0m\u001b[0m_make_engine\u001b[0m\u001b[0;34m(\u001b[0m\u001b[0mf\u001b[0m\u001b[0;34m,\u001b[0m \u001b[0mself\u001b[0m\u001b[0;34m.\u001b[0m\u001b[0mengine\u001b[0m\u001b[0;34m)\u001b[0m\u001b[0;34m\u001b[0m\u001b[0;34m\u001b[0m\u001b[0m\n\u001b[0m\u001b[1;32m   1443\u001b[0m \u001b[0;34m\u001b[0m\u001b[0m\n\u001b[1;32m   1444\u001b[0m     \u001b[0;32mdef\u001b[0m \u001b[0mclose\u001b[0m\u001b[0;34m(\u001b[0m\u001b[0mself\u001b[0m\u001b[0;34m)\u001b[0m \u001b[0;34m->\u001b[0m \u001b[0;32mNone\u001b[0m\u001b[0;34m:\u001b[0m\u001b[0;34m\u001b[0m\u001b[0;34m\u001b[0m\u001b[0m\n",
            "\u001b[0;32m/usr/local/lib/python3.10/dist-packages/pandas/io/parsers/readers.py\u001b[0m in \u001b[0;36m_make_engine\u001b[0;34m(self, f, engine)\u001b[0m\n\u001b[1;32m   1733\u001b[0m                 \u001b[0;32mif\u001b[0m \u001b[0;34m\"b\"\u001b[0m \u001b[0;32mnot\u001b[0m \u001b[0;32min\u001b[0m \u001b[0mmode\u001b[0m\u001b[0;34m:\u001b[0m\u001b[0;34m\u001b[0m\u001b[0;34m\u001b[0m\u001b[0m\n\u001b[1;32m   1734\u001b[0m                     \u001b[0mmode\u001b[0m \u001b[0;34m+=\u001b[0m \u001b[0;34m\"b\"\u001b[0m\u001b[0;34m\u001b[0m\u001b[0;34m\u001b[0m\u001b[0m\n\u001b[0;32m-> 1735\u001b[0;31m             self.handles = get_handle(\n\u001b[0m\u001b[1;32m   1736\u001b[0m                 \u001b[0mf\u001b[0m\u001b[0;34m,\u001b[0m\u001b[0;34m\u001b[0m\u001b[0;34m\u001b[0m\u001b[0m\n\u001b[1;32m   1737\u001b[0m                 \u001b[0mmode\u001b[0m\u001b[0;34m,\u001b[0m\u001b[0;34m\u001b[0m\u001b[0;34m\u001b[0m\u001b[0m\n",
            "\u001b[0;32m/usr/local/lib/python3.10/dist-packages/pandas/io/common.py\u001b[0m in \u001b[0;36mget_handle\u001b[0;34m(path_or_buf, mode, encoding, compression, memory_map, is_text, errors, storage_options)\u001b[0m\n\u001b[1;32m    854\u001b[0m         \u001b[0;32mif\u001b[0m \u001b[0mioargs\u001b[0m\u001b[0;34m.\u001b[0m\u001b[0mencoding\u001b[0m \u001b[0;32mand\u001b[0m \u001b[0;34m\"b\"\u001b[0m \u001b[0;32mnot\u001b[0m \u001b[0;32min\u001b[0m \u001b[0mioargs\u001b[0m\u001b[0;34m.\u001b[0m\u001b[0mmode\u001b[0m\u001b[0;34m:\u001b[0m\u001b[0;34m\u001b[0m\u001b[0;34m\u001b[0m\u001b[0m\n\u001b[1;32m    855\u001b[0m             \u001b[0;31m# Encoding\u001b[0m\u001b[0;34m\u001b[0m\u001b[0;34m\u001b[0m\u001b[0m\n\u001b[0;32m--> 856\u001b[0;31m             handle = open(\n\u001b[0m\u001b[1;32m    857\u001b[0m                 \u001b[0mhandle\u001b[0m\u001b[0;34m,\u001b[0m\u001b[0;34m\u001b[0m\u001b[0;34m\u001b[0m\u001b[0m\n\u001b[1;32m    858\u001b[0m                 \u001b[0mioargs\u001b[0m\u001b[0;34m.\u001b[0m\u001b[0mmode\u001b[0m\u001b[0;34m,\u001b[0m\u001b[0;34m\u001b[0m\u001b[0;34m\u001b[0m\u001b[0m\n",
            "\u001b[0;31mFileNotFoundError\u001b[0m: [Errno 2] No such file or directory: 'data.csv'"
          ]
        }
      ]
    },
    {
      "cell_type": "markdown",
      "source": [
        "<div style=\"border-radius:10px; padding: 15px; background-color: #ffeacc; font-size:130%; text-align:left\">\n",
        "\n",
        "<h2 align=\"left\"><font color=#ff6200>Dataset Description:</font></h2>\n",
        "\n",
        "| __Variable__   | __Description__ |\n",
        "|     :---       |       :---      |      \n",
        "| __InvoiceNo__  | Code representing each unique transaction.  If this code starts with letter 'c', it indicates a cancellation. |\n",
        "| __StockCode__  | Code uniquely assigned to each distinct product. |\n",
        "| __Description__| Description of each product. |\n",
        "| __Quantity__   | The number of units of a product in a transaction. |\n",
        "| __InvoiceDate__| The date and time of the transaction. |\n",
        "| __UnitPrice__  | The unit price of the product in sterling. |\n",
        "| __CustomerID__ | Identifier uniquely assigned to each customer. |\n",
        "| __Country__    | The country of the customer. |\n"
      ],
      "metadata": {
        "id": "OIatgZLU3cAz"
      }
    },
    {
      "cell_type": "markdown",
      "source": [
        "<a id=\"initial_analysis\"></a>\n",
        "# <p style=\"background-color: #ff6200; font-family:calibri; color:white; font-size:140%; font-family:Verdana; text-align:center; border-radius:15px 50px;\">Step 2 | Initial Data Analysis</p>\n",
        "⬆️ [Tabel of Contents](#contents_tabel)"
      ],
      "metadata": {
        "id": "kvqz6GRg3cAz"
      }
    },
    {
      "cell_type": "markdown",
      "source": [
        "<div style=\"border-radius:10px; padding: 15px; background-color: #ffeacc; font-size:120%; text-align:left\">\n",
        "    \n",
        "Afterward, I am going to gain a thorough understanding of the dataset before proceeding to the data cleaning and transformation stages."
      ],
      "metadata": {
        "id": "-LFxwrd43cA0"
      }
    },
    {
      "cell_type": "markdown",
      "source": [
        "<a id=\"overview\"></a>\n",
        "# <b><span style='color:#fcc36d'>Step 2.1 |</span><span style='color:#ff6200'> Dataset Overview</span></b>\n",
        "⬆️ [Tabel of Contents](#contents_tabel)"
      ],
      "metadata": {
        "id": "S5sWweWf3cA0"
      }
    },
    {
      "cell_type": "markdown",
      "source": [
        "<div style=\"border-radius:10px; padding: 15px; background-color: #ffeacc; font-size:120%; text-align:left\">\n",
        "\n",
        "First I will perform a preliminary analysis to understand the structure and types of data columns:"
      ],
      "metadata": {
        "id": "097peaSW3cA0"
      }
    },
    {
      "cell_type": "code",
      "source": [
        "df.head(10)"
      ],
      "metadata": {
        "execution": {
          "iopub.status.busy": "2023-09-13T18:53:15.62437Z",
          "iopub.execute_input": "2023-09-13T18:53:15.625323Z",
          "iopub.status.idle": "2023-09-13T18:53:15.651377Z",
          "shell.execute_reply.started": "2023-09-13T18:53:15.625274Z",
          "shell.execute_reply": "2023-09-13T18:53:15.64976Z"
        },
        "trusted": true,
        "id": "OIQJfTr-3cA1"
      },
      "execution_count": null,
      "outputs": []
    },
    {
      "cell_type": "code",
      "source": [
        "df.info()"
      ],
      "metadata": {
        "execution": {
          "iopub.status.busy": "2023-09-13T18:53:15.65346Z",
          "iopub.execute_input": "2023-09-13T18:53:15.654441Z",
          "iopub.status.idle": "2023-09-13T18:53:15.995554Z",
          "shell.execute_reply.started": "2023-09-13T18:53:15.654392Z",
          "shell.execute_reply": "2023-09-13T18:53:15.994534Z"
        },
        "trusted": true,
        "id": "7x1LADUf3cA1"
      },
      "execution_count": null,
      "outputs": []
    },
    {
      "cell_type": "markdown",
      "source": [
        "<div style=\"border-radius:10px; padding: 15px; background-color: #ffeacc; font-size:120%; text-align:left\">\n",
        "<h3 align=\"left\"><font color=#ff6200>Inferences:</font></h3>\n",
        "    \n",
        "The dataset consists of 541,909 entries and 8 columns. Here is a brief overview of each column:\n",
        "\n",
        "- __`InvoiceNo`__: This is an object data type column that contains the invoice number for each transaction. Each invoice number can represent multiple items purchased in a single transaction.\n",
        "   \n",
        "    \n",
        "- __`StockCode`__: An object data type column representing the product code for each item.\n",
        "\n",
        "    \n",
        "- __`Description`__: This column, also an object data type, contains descriptions of the products. It has some missing values, with 540,455 non-null entries out of 541,909.\n",
        "\n",
        "    \n",
        "- __`Quantity`__: This is an integer column indicating the quantity of products purchased in each transaction.\n",
        "   \n",
        "\n",
        "- __`InvoiceDate`__: A datetime column that records the date and time of each transaction.\n",
        "\n",
        "    \n",
        "- __`UnitPrice`__: A float column representing the unit price of each product.\n",
        "\n",
        "    \n",
        "- __`CustomerID`__: A float column that contains the customer ID for each transaction. This column has a significant number of missing values, with only 406,829 non-null entries out of 541,909.\n",
        "\n",
        "    \n",
        "- __`Country`__: An object column recording the country where each transaction took place.\n",
        "\n",
        "From a preliminary overview, it seems that there are missing values in the `Description` and `CustomerID` columns which need to be addressed. The `InvoiceDate` column is already in datetime format, which will facilitate further time series analysis. We also observe that a single customer can have multiple transactions as inferred from the repeated `CustomerID` in the initial rows.\n",
        "\n",
        "The next steps would include deeper data cleaning and preprocessing to handle missing values, potentially erroneous data, and to create new features that can help in achieving the project goals."
      ],
      "metadata": {
        "id": "V0EFsZbE3cA1"
      }
    },
    {
      "cell_type": "markdown",
      "source": [
        "<a id=\"statistics\"></a>\n",
        "# <b><span style='color:#fcc36d'>Step 2.2 |</span><span style='color:#ff6200'> Summary Statistics</span></b>\n",
        "⬆️ [Tabel of Contents](#contents_tabel)"
      ],
      "metadata": {
        "id": "pZGUrQqV3cA2"
      }
    },
    {
      "cell_type": "markdown",
      "source": [
        "<div style=\"border-radius:10px; padding: 15px; background-color: #ffeacc; font-size:120%; text-align:left\">\n",
        "    \n",
        "Now, I am going to generate summary statistics to gain initial insights into the data distribution:"
      ],
      "metadata": {
        "id": "RDQkyDsh3cA2"
      }
    },
    {
      "cell_type": "code",
      "source": [
        "# Summary statistics for numerical variables\n",
        "df.describe().T"
      ],
      "metadata": {
        "execution": {
          "iopub.status.busy": "2023-09-13T18:53:15.996938Z",
          "iopub.execute_input": "2023-09-13T18:53:15.997277Z",
          "iopub.status.idle": "2023-09-13T18:53:16.086984Z",
          "shell.execute_reply.started": "2023-09-13T18:53:15.997246Z",
          "shell.execute_reply": "2023-09-13T18:53:16.085502Z"
        },
        "trusted": true,
        "id": "c9s4Op4V3cA3"
      },
      "execution_count": null,
      "outputs": []
    },
    {
      "cell_type": "code",
      "source": [
        "# Summary statistics for categorical variables\n",
        "df.describe(include='object').T"
      ],
      "metadata": {
        "scrolled": true,
        "execution": {
          "iopub.status.busy": "2023-09-13T18:53:16.088538Z",
          "iopub.execute_input": "2023-09-13T18:53:16.088885Z",
          "iopub.status.idle": "2023-09-13T18:53:16.871154Z",
          "shell.execute_reply.started": "2023-09-13T18:53:16.088855Z",
          "shell.execute_reply": "2023-09-13T18:53:16.869957Z"
        },
        "trusted": true,
        "id": "Bs0hGdvm3cA3"
      },
      "execution_count": null,
      "outputs": []
    },
    {
      "cell_type": "markdown",
      "source": [
        "<div style=\"border-radius:10px; padding: 15px; background-color: #ffeacc; font-size:120%; text-align:left\">\n",
        "<h3 align=\"left\"><font color=#ff6200>Inferences:</font></h3>\n",
        "\n",
        "\n",
        "- __`Quantity`__:\n",
        "   - The average quantity of products in a transaction is approximately 9.55.\n",
        "   - The quantity has a wide range, with a minimum value of -80995 and a maximum value of 80995. The negative values indicate returned or cancelled orders, which need to be handled appropriately.\n",
        "   - The standard deviation is quite large, indicating a significant spread in the data. The presence of outliers is indicated by a large difference between the maximum and the 75th percentile values.\n",
        "\n",
        "    \n",
        "- __`UnitPrice`__:\n",
        "   - The average unit price of the products is approximately 4.61.\n",
        "   - The unit price also shows a wide range, from -11062.06 to 38970, which suggests the presence of errors or noise in the data, as negative prices don't make sense.\n",
        "   - Similar to the Quantity column, the presence of outliers is indicated by a large difference between the maximum and the 75th percentile values.\n",
        "\n",
        "    \n",
        "- __`CustomerID`__:\n",
        "   - There are 406829 non-null entries, indicating missing values in the dataset which need to be addressed.\n",
        "   - The Customer IDs range from 12346 to 18287, helping in identifying unique customers.\n",
        "\n",
        "    \n",
        "- __`InvoiceNo`__:\n",
        "   - There are 25900 unique invoice numbers, indicating 25900 separate transactions.\n",
        "   - The most frequent invoice number is 573585, appearing 1114 times, possibly representing a large transaction or an order with multiple items.\n",
        "\n",
        "    \n",
        "- __`StockCode`__:\n",
        "   - There are 4070 unique stock codes representing different products.\n",
        "   - The most frequent stock code is 85123A, appearing 2313 times in the dataset.\n",
        "\n",
        "    \n",
        "- __`Description`__:\n",
        "   - There are 4223 unique product descriptions.\n",
        "   - The most frequent product description is \"WHITE HANGING HEART T-LIGHT HOLDER\", appearing 2369 times.\n",
        "   - There are some missing values in this column which need to be treated.\n",
        "\n",
        "    \n",
        "- __`Country`__:\n",
        "   - The transactions come from 38 different countries, with a dominant majority of the transactions (approximately 91.4%) originating from the United Kingdom."
      ],
      "metadata": {
        "id": "EwbpD1Yc3cA3"
      }
    },
    {
      "cell_type": "markdown",
      "source": [
        "<a id=\"data_cleaning\"></a>\n",
        "# <p style=\"background-color: #ff6200; font-family:calibri; color:white; font-size:140%; font-family:Verdana; text-align:center; border-radius:15px 50px;\">Step 3 |  Data Cleaning & Transformation</p>\n",
        "⬆️ [Tabel of Contents](#contents_tabel)"
      ],
      "metadata": {
        "id": "pRuNtVFd3cA4"
      }
    },
    {
      "cell_type": "markdown",
      "source": [
        "<div style=\"border-radius:10px; padding: 15px; background-color: #ffeacc; font-size:120%; text-align:left\">\n",
        "\n",
        "This step encompasses a comprehensive cleaning and transformation process to refine the dataset. It includes addressing missing values, eliminating duplicate entries, correcting anomalies in product codes and descriptions, and other necessary adjustments to prepare the data for in-depth analysis and modeling."
      ],
      "metadata": {
        "id": "aYnuj6_f3cA4"
      }
    },
    {
      "cell_type": "markdown",
      "source": [
        "<a id=\"missing_values\"></a>\n",
        "# <b><span style='color:#fcc36d'>Step 3.1 |</span><span style='color:#ff6200'> Handling Missing Values</span></b>\n",
        "⬆️ [Tabel of Contents](#contents_tabel)"
      ],
      "metadata": {
        "id": "F4byeu-e3cA5"
      }
    },
    {
      "cell_type": "markdown",
      "source": [
        "<div style=\"border-radius:10px; padding: 15px; background-color: #ffeacc; font-size:120%; text-align:left\">\n",
        "    \n",
        "Initially, I will determine the percentage of missing values present in each column, followed by selecting the most effective strategy to address them:"
      ],
      "metadata": {
        "id": "wc0bzCUX3cA5"
      }
    },
    {
      "cell_type": "code",
      "source": [
        "# Calculating the percentage of missing values for each column\n",
        "missing_data = df.isnull().sum()\n",
        "missing_percentage = (missing_data[missing_data > 0] / df.shape[0]) * 100\n",
        "\n",
        "# Prepare values\n",
        "missing_percentage.sort_values(ascending=True, inplace=True)\n",
        "\n",
        "# Plot the barh chart\n",
        "fig, ax = plt.subplots(figsize=(15, 4))\n",
        "ax.barh(missing_percentage.index, missing_percentage, color='#ff6200')\n",
        "\n",
        "# Annotate the values and indexes\n",
        "for i, (value, name) in enumerate(zip(missing_percentage, missing_percentage.index)):\n",
        "    ax.text(value+0.5, i, f\"{value:.2f}%\", ha='left', va='center', fontweight='bold', fontsize=18, color='black')\n",
        "\n",
        "# Set x-axis limit\n",
        "ax.set_xlim([0, 40])\n",
        "\n",
        "# Add title and xlabel\n",
        "plt.title(\"Percentage of Missing Values\", fontweight='bold', fontsize=22)\n",
        "plt.xlabel('Percentages (%)', fontsize=16)\n",
        "plt.show()"
      ],
      "metadata": {
        "execution": {
          "iopub.status.busy": "2023-09-13T18:53:16.872642Z",
          "iopub.execute_input": "2023-09-13T18:53:16.873719Z",
          "iopub.status.idle": "2023-09-13T18:53:17.55516Z",
          "shell.execute_reply.started": "2023-09-13T18:53:16.873669Z",
          "shell.execute_reply": "2023-09-13T18:53:17.553979Z"
        },
        "trusted": true,
        "id": "QOu_jfam3cA6"
      },
      "execution_count": null,
      "outputs": []
    },
    {
      "cell_type": "markdown",
      "source": [
        "<div style=\"border-radius:10px; padding: 15px; background-color: #ffeacc; font-size:120%; text-align:left\">\n",
        "\n",
        "<h3 align=\"left\"><font color=#ff6200>Handling Missing Values Strategy:</font></h3>\n",
        "\n",
        "- __`CustomerID` (24.93% missing values)__\n",
        "   - The `CustomerID` column contains nearly a quarter of missing data. This column is essential for clustering customers and creating a recommendation system. Imputing such a large percentage of missing values might introduce significant bias or noise into the analysis.\n",
        "    \n",
        "   - Moreover, since the clustering is based on customer behavior and preferences, it's crucial to have accurate data on customer identifiers. Therefore, removing the rows with missing `CustomerID`s seems to be the most reasonable approach to maintain the integrity of the clusters and the analysis.\n",
        "\n",
        "    \n",
        "- __`Description` (0.27% missing values)__\n",
        "   - The `Description` column has a minor percentage of missing values. However, it has been noticed that there are inconsistencies in the data where the same `StockCode` does not always have the same `Description`. This indicates data quality issues and potential errors in the product descriptions.\n",
        "    \n",
        "   - Given these inconsistencies, imputing the missing descriptions based on `StockCode` might not be reliable. Moreover, since the missing percentage is quite low, it would be prudent to remove the rows with missing `Description`s to avoid propagating errors and inconsistencies into the subsequent analyses.\n",
        "   \n",
        "By removing rows with missing values in the `CustomerID` and `Description` columns, we aim to construct a cleaner and more reliable dataset, which is essential for achieving accurate clustering and creating an effective recommendation system.\n"
      ],
      "metadata": {
        "id": "rWOJnUVS3cA6"
      }
    },
    {
      "cell_type": "code",
      "source": [
        "# Extracting rows with missing values in 'CustomerID' or 'Description' columns\n",
        "df[df['CustomerID'].isnull() | df['Description'].isnull()].head()"
      ],
      "metadata": {
        "execution": {
          "iopub.status.busy": "2023-09-13T18:53:17.556522Z",
          "iopub.execute_input": "2023-09-13T18:53:17.556875Z",
          "iopub.status.idle": "2023-09-13T18:53:17.644649Z",
          "shell.execute_reply.started": "2023-09-13T18:53:17.556846Z",
          "shell.execute_reply": "2023-09-13T18:53:17.643409Z"
        },
        "trusted": true,
        "id": "ibO9dfKs3cA7"
      },
      "execution_count": null,
      "outputs": []
    },
    {
      "cell_type": "code",
      "source": [
        "# Removing rows with missing values in 'CustomerID' and 'Description' columns\n",
        "df = df.dropna(subset=['CustomerID', 'Description'])"
      ],
      "metadata": {
        "execution": {
          "iopub.status.busy": "2023-09-13T18:53:17.646283Z",
          "iopub.execute_input": "2023-09-13T18:53:17.646854Z",
          "iopub.status.idle": "2023-09-13T18:53:17.771021Z",
          "shell.execute_reply.started": "2023-09-13T18:53:17.646812Z",
          "shell.execute_reply": "2023-09-13T18:53:17.769678Z"
        },
        "trusted": true,
        "id": "A0QSVoOc3cA8"
      },
      "execution_count": null,
      "outputs": []
    },
    {
      "cell_type": "code",
      "source": [
        "# Verifying the removal of missing values\n",
        "df.isnull().sum().sum()"
      ],
      "metadata": {
        "execution": {
          "iopub.status.busy": "2023-09-13T18:53:17.772605Z",
          "iopub.execute_input": "2023-09-13T18:53:17.775259Z",
          "iopub.status.idle": "2023-09-13T18:53:18.013028Z",
          "shell.execute_reply.started": "2023-09-13T18:53:17.775219Z",
          "shell.execute_reply": "2023-09-13T18:53:18.011717Z"
        },
        "trusted": true,
        "id": "wT3VkCnL3cA8"
      },
      "execution_count": null,
      "outputs": []
    },
    {
      "cell_type": "markdown",
      "source": [
        "<a id=\"duplicates\"></a>\n",
        "# <b><span style='color:#fcc36d'>Step 3.2 |</span><span style='color:#ff6200'> Handling Duplicates</span></b>\n",
        "⬆️ [Tabel of Contents](#contents_tabel)"
      ],
      "metadata": {
        "id": "rQOuRwHM3cA8"
      }
    },
    {
      "cell_type": "markdown",
      "source": [
        "<div style=\"border-radius:10px; padding: 15px; background-color: #ffeacc; font-size:120%; text-align:left\">\n",
        "    \n",
        "Next, I am going to recognize duplicate rows in the dataset:"
      ],
      "metadata": {
        "id": "BgbHz5_s3cA9"
      }
    },
    {
      "cell_type": "code",
      "source": [
        "# Finding duplicate rows (keeping all instances)\n",
        "duplicate_rows = df[df.duplicated(keep=False)]\n",
        "\n",
        "# Sorting the data by certain columns to see the duplicate rows next to each other\n",
        "duplicate_rows_sorted = duplicate_rows.sort_values(by=['InvoiceNo', 'StockCode', 'Description', 'CustomerID', 'Quantity'])\n",
        "\n",
        "# Displaying the first 10 records\n",
        "duplicate_rows_sorted.head(10)"
      ],
      "metadata": {
        "execution": {
          "iopub.status.busy": "2023-09-13T18:53:18.015063Z",
          "iopub.execute_input": "2023-09-13T18:53:18.015543Z",
          "iopub.status.idle": "2023-09-13T18:53:18.383613Z",
          "shell.execute_reply.started": "2023-09-13T18:53:18.015501Z",
          "shell.execute_reply": "2023-09-13T18:53:18.382444Z"
        },
        "trusted": true,
        "id": "rLa-R3Ik3cA9"
      },
      "execution_count": null,
      "outputs": []
    },
    {
      "cell_type": "markdown",
      "source": [
        "<div style=\"border-radius:10px; padding: 15px; background-color: #ffeacc; font-size:120%; text-align:left\">\n",
        "\n",
        "<h3 align=\"left\"><font color=#ff6200>Handling Duplicates Strategy:</font></h3>\n",
        "    \n",
        "In the context of this project, the presence of completely identical rows, including identical transaction times, suggests that these might be data recording errors rather than genuine repeated transactions. Keeping these duplicate rows can introduce noise and potential inaccuracies in the clustering and recommendation system.\n",
        "\n",
        "Therefore, I am going to remove these completely identical duplicate rows from the dataset. Removing these rows will help in achieving a cleaner dataset, which in turn would aid in building more accurate customer clusters based on their unique purchasing behaviors. Moreover, it would help in creating a more precise recommendation system by correctly identifying the products with the most purchases."
      ],
      "metadata": {
        "id": "26Um71xp3cBU"
      }
    },
    {
      "cell_type": "code",
      "source": [
        "# Displaying the number of duplicate rows\n",
        "print(f\"The dataset contains {df.duplicated().sum()} duplicate rows that need to be removed.\")\n",
        "\n",
        "# Removing duplicate rows\n",
        "df.drop_duplicates(inplace=True)"
      ],
      "metadata": {
        "execution": {
          "iopub.status.busy": "2023-09-13T18:53:18.390383Z",
          "iopub.execute_input": "2023-09-13T18:53:18.391248Z",
          "iopub.status.idle": "2023-09-13T18:53:19.099288Z",
          "shell.execute_reply.started": "2023-09-13T18:53:18.391199Z",
          "shell.execute_reply": "2023-09-13T18:53:19.097898Z"
        },
        "trusted": true,
        "id": "xd3EqM9E3cBU"
      },
      "execution_count": null,
      "outputs": []
    },
    {
      "cell_type": "code",
      "source": [
        "# Getting the number of rows in the dataframe\n",
        "df.shape[0]"
      ],
      "metadata": {
        "execution": {
          "iopub.status.busy": "2023-09-13T18:53:19.10064Z",
          "iopub.execute_input": "2023-09-13T18:53:19.101001Z",
          "iopub.status.idle": "2023-09-13T18:53:19.108624Z",
          "shell.execute_reply.started": "2023-09-13T18:53:19.100971Z",
          "shell.execute_reply": "2023-09-13T18:53:19.107441Z"
        },
        "trusted": true,
        "id": "ENnh1mMD3cBV"
      },
      "execution_count": null,
      "outputs": []
    },
    {
      "cell_type": "markdown",
      "source": [
        "<a id=\"InvoiceNo_cleaning\"></a>\n",
        "# <b><span style='color:#fcc36d'>Step 3.3 |</span><span style='color:#ff6200'> Treating Cancelled Transactions</span></b>\n",
        "⬆️ [Tabel of Contents](#contents_tabel)"
      ],
      "metadata": {
        "id": "Qvc1SRXI3cBV"
      }
    },
    {
      "cell_type": "markdown",
      "source": [
        "<div style=\"border-radius:10px; padding: 15px; background-color: #ffeacc; font-size:120%; text-align:left\">\n",
        "\n",
        "To refine our understanding of customer behavior and preferences, we need to take into account the transactions that were cancelled. Initially, we will identify these transactions by filtering the rows where the `InvoiceNo` starts with \"C\". Subsequently, we will analyze these rows to understand their common characteristics or patterns:"
      ],
      "metadata": {
        "id": "Dcc4jXcr3cBW"
      }
    },
    {
      "cell_type": "code",
      "source": [
        "# Filter out the rows with InvoiceNo starting with \"C\" and create a new column indicating the transaction status\n",
        "df['Transaction_Status'] = np.where(df['InvoiceNo'].astype(str).str.startswith('C'), 'Cancelled', 'Completed')\n",
        "\n",
        "# Analyze the characteristics of these rows (considering the new column)\n",
        "cancelled_transactions = df[df['Transaction_Status'] == 'Cancelled']\n",
        "cancelled_transactions.describe().drop('CustomerID', axis=1)"
      ],
      "metadata": {
        "execution": {
          "iopub.status.busy": "2023-09-13T18:53:19.110267Z",
          "iopub.execute_input": "2023-09-13T18:53:19.111022Z",
          "iopub.status.idle": "2023-09-13T18:53:19.5331Z",
          "shell.execute_reply.started": "2023-09-13T18:53:19.110989Z",
          "shell.execute_reply": "2023-09-13T18:53:19.531888Z"
        },
        "trusted": true,
        "id": "R5RAIaY-3cBW"
      },
      "execution_count": null,
      "outputs": []
    },
    {
      "cell_type": "markdown",
      "source": [
        "<div style=\"border-radius:10px; padding: 15px; background-color: #ffeacc; font-size:120%; text-align:left\">\n",
        "<h3 align=\"left\"><font color=#ff6200>Inferences from the Cancelled Transactions Data:</font></h3>\n",
        "\n",
        "- All quantities in the cancelled transactions are negative, indicating that these are indeed orders that were cancelled.\n",
        "    \n",
        "    \n",
        "- The `UnitPrice` column has a considerable spread, showing that a variety of products, from low to high value, were part of the cancelled transactions.\n",
        "\n"
      ],
      "metadata": {
        "id": "gFU3x0-n3cBW"
      }
    },
    {
      "cell_type": "markdown",
      "source": [
        "<div style=\"border-radius:10px; padding: 15px; background-color: #ffeacc; font-size:120%; text-align:left\">\n",
        "<h3 align=\"left\"><font color=#ff6200>Strategy for Handling Cancelled Transactions:</font></h3>\n",
        "    \n",
        "Considering the project's objective to cluster customers based on their purchasing behavior and preferences and to eventually create a recommendation system, it's imperative to understand the cancellation patterns of customers. Therefore, the strategy is to retain these cancelled transactions in the dataset, marking them distinctly to facilitate further analysis. This approach will:\n",
        "\n",
        "- Enhance the clustering process by incorporating patterns and trends observed in cancellation data, which might represent certain customer behaviors or preferences.\n",
        "    \n",
        "    \n",
        "- Allow the recommendation system to possibly prevent suggesting products that have a high likelihood of being cancelled, thereby improving the quality of recommendations.\n",
        "\n"
      ],
      "metadata": {
        "id": "gZOO4Rv83cBX"
      }
    },
    {
      "cell_type": "code",
      "source": [
        "# Finding the percentage of cancelled transactions\n",
        "cancelled_percentage = (cancelled_transactions.shape[0] / df.shape[0]) * 100\n",
        "\n",
        "# Printing the percentage of cancelled transactions\n",
        "print(f\"The percentage of cancelled transactions in the dataset is: {cancelled_percentage:.2f}%\")"
      ],
      "metadata": {
        "execution": {
          "iopub.status.busy": "2023-09-13T18:53:19.534638Z",
          "iopub.execute_input": "2023-09-13T18:53:19.535637Z",
          "iopub.status.idle": "2023-09-13T18:53:19.541539Z",
          "shell.execute_reply.started": "2023-09-13T18:53:19.535601Z",
          "shell.execute_reply": "2023-09-13T18:53:19.540265Z"
        },
        "trusted": true,
        "id": "a3D5ep3Y3cBX"
      },
      "execution_count": null,
      "outputs": []
    },
    {
      "cell_type": "markdown",
      "source": [
        "<a id=\"StockCode_cleaning\"></a>\n",
        "# <b><span style='color:#fcc36d'>Step 3.4 |</span><span style='color:#ff6200'> Correcting StockCode Anomalies</span></b>\n",
        "⬆️ [Tabel of Contents](#contents_tabel)"
      ],
      "metadata": {
        "id": "QFAUCMnv3cBY"
      }
    },
    {
      "cell_type": "markdown",
      "source": [
        "<div style=\"border-radius:10px; padding: 15px; background-color: #ffeacc; font-size:120%; text-align:left\">\n",
        "\n",
        "First of all, lets find the number of unique stock codes and to plot the top 10 most frequent stock codes along with their percentage frequency:"
      ],
      "metadata": {
        "id": "JWsyEuXC3cBY"
      }
    },
    {
      "cell_type": "code",
      "source": [
        "# Finding the number of unique stock codes\n",
        "unique_stock_codes = df['StockCode'].nunique()\n",
        "\n",
        "# Printing the number of unique stock codes\n",
        "print(f\"The number of unique stock codes in the dataset is: {unique_stock_codes}\")"
      ],
      "metadata": {
        "execution": {
          "iopub.status.busy": "2023-09-13T18:53:19.54298Z",
          "iopub.execute_input": "2023-09-13T18:53:19.543733Z",
          "iopub.status.idle": "2023-09-13T18:53:19.603938Z",
          "shell.execute_reply.started": "2023-09-13T18:53:19.5437Z",
          "shell.execute_reply": "2023-09-13T18:53:19.602802Z"
        },
        "trusted": true,
        "id": "sHLHVlKb3cBY"
      },
      "execution_count": null,
      "outputs": []
    },
    {
      "cell_type": "code",
      "source": [
        "# Finding the top 10 most frequent stock codes\n",
        "top_10_stock_codes = df['StockCode'].value_counts(normalize=True).head(10) * 100\n",
        "\n",
        "# Plotting the top 10 most frequent stock codes\n",
        "plt.figure(figsize=(12, 5))\n",
        "top_10_stock_codes.plot(kind='barh', color='#ff6200')\n",
        "\n",
        "# Adding the percentage frequency on the bars\n",
        "for index, value in enumerate(top_10_stock_codes):\n",
        "    plt.text(value, index+0.25, f'{value:.2f}%', fontsize=10)\n",
        "\n",
        "plt.title('Top 10 Most Frequent Stock Codes')\n",
        "plt.xlabel('Percentage Frequency (%)')\n",
        "plt.ylabel('Stock Codes')\n",
        "plt.gca().invert_yaxis()\n",
        "plt.show()"
      ],
      "metadata": {
        "execution": {
          "iopub.status.busy": "2023-09-13T18:53:19.605221Z",
          "iopub.execute_input": "2023-09-13T18:53:19.605588Z",
          "iopub.status.idle": "2023-09-13T18:53:20.16058Z",
          "shell.execute_reply.started": "2023-09-13T18:53:19.605559Z",
          "shell.execute_reply": "2023-09-13T18:53:20.159419Z"
        },
        "trusted": true,
        "id": "Reh9eC3o3cBZ"
      },
      "execution_count": null,
      "outputs": []
    },
    {
      "cell_type": "markdown",
      "source": [
        "<div style=\"border-radius:10px; padding: 15px; background-color: #ffeacc; font-size:120%; text-align:left\">\n",
        "<h3 align=\"left\"><font color=#ff6200>Inferences on Stock Codes:</font></h3>\n",
        "\n",
        "- __Product Variety__: The dataset contains 3684 unique stock codes, indicating a substantial variety of products available in the online retail store. This diversity can potentially lead to the identification of distinct customer clusters, with preferences for different types of products.\n",
        "\n",
        "    \n",
        "- __Popular Items__: A closer look at the top 10 most frequent stock codes can offer insights into the popular products or categories that are frequently purchased by customers.\n",
        "\n",
        "    \n",
        "- __Stock Code Anomalies__: We observe that while most stock codes are composed of 5 or 6 characters, there are some anomalies like the code '__POST__'. These anomalies might represent services or non-product transactions (perhaps postage fees) rather than actual products. To maintain the focus of the project, which is clustering based on product purchases and creating a recommendation system, these anomalies should be further investigated and possibly treated appropriately to ensure data integrity."
      ],
      "metadata": {
        "id": "SIta2Jjn3cBZ"
      }
    },
    {
      "cell_type": "markdown",
      "source": [
        "<div style=\"border-radius:10px; padding: 15px; background-color: #ffeacc; font-size:120%; text-align:left\">\n",
        "    \n",
        "To delve deeper into identifying these anomalies, let's explore the frequency of the number of numeric characters in the stock codes, which can provide insights into the nature of these unusual entries:"
      ],
      "metadata": {
        "id": "OgagB5oq3cBa"
      }
    },
    {
      "cell_type": "code",
      "source": [
        "# Finding the number of numeric characters in each unique stock code\n",
        "unique_stock_codes = df['StockCode'].unique()\n",
        "numeric_char_counts_in_unique_codes = pd.Series(unique_stock_codes).apply(lambda x: sum(c.isdigit() for c in str(x))).value_counts()\n",
        "\n",
        "# Printing the value counts for unique stock codes\n",
        "print(\"Value counts of numeric character frequencies in unique stock codes:\")\n",
        "print(\"-\"*70)\n",
        "print(numeric_char_counts_in_unique_codes)"
      ],
      "metadata": {
        "execution": {
          "iopub.status.busy": "2023-09-13T18:53:20.162026Z",
          "iopub.execute_input": "2023-09-13T18:53:20.162396Z",
          "iopub.status.idle": "2023-09-13T18:53:20.218195Z",
          "shell.execute_reply.started": "2023-09-13T18:53:20.162339Z",
          "shell.execute_reply": "2023-09-13T18:53:20.217036Z"
        },
        "trusted": true,
        "id": "WAmtmkXA3cBb"
      },
      "execution_count": null,
      "outputs": []
    },
    {
      "cell_type": "markdown",
      "source": [
        "<div style=\"border-radius:10px; padding: 15px; background-color: #ffeacc; font-size:120%; text-align:left\">\n",
        "<h3 align=\"left\"><font color=#ff6200>Inference:</font></h3>\n",
        "\n",
        "The output indicates the following:\n",
        "\n",
        "- A majority of the unique stock codes (3676 out of 3684) contain exactly 5 numeric characters, which seems to be the standard format for representing product codes in this dataset.\n",
        "\n",
        "    \n",
        "- There are a few anomalies: 7 stock codes contain no numeric characters and 1 stock code contains only 1 numeric character. These are clearly deviating from the standard format and need further investigation to understand their nature and whether they represent valid product transactions.\n",
        "\n",
        "Now, let's identify the stock codes that contain 0 or 1 numeric characters to further understand these anomalies:"
      ],
      "metadata": {
        "id": "1Zk8dLDl3cBb"
      }
    },
    {
      "cell_type": "code",
      "source": [
        "# Finding and printing the stock codes with 0 and 1 numeric characters\n",
        "anomalous_stock_codes = [code for code in unique_stock_codes if sum(c.isdigit() for c in str(code)) in (0, 1)]\n",
        "\n",
        "# Printing each stock code on a new line\n",
        "print(\"Anomalous stock codes:\")\n",
        "print(\"-\"*22)\n",
        "for code in anomalous_stock_codes:\n",
        "    print(code)"
      ],
      "metadata": {
        "execution": {
          "iopub.status.busy": "2023-09-13T18:53:20.219643Z",
          "iopub.execute_input": "2023-09-13T18:53:20.219992Z",
          "iopub.status.idle": "2023-09-13T18:53:20.23408Z",
          "shell.execute_reply.started": "2023-09-13T18:53:20.219962Z",
          "shell.execute_reply": "2023-09-13T18:53:20.232712Z"
        },
        "trusted": true,
        "id": "3aobzvzW3cBc"
      },
      "execution_count": null,
      "outputs": []
    },
    {
      "cell_type": "markdown",
      "source": [
        "<div style=\"border-radius:10px; padding: 15px; background-color: #ffeacc; font-size:120%; text-align:left\">\n",
        "    \n",
        "Let's calculate the percentage of records with these anomalous stock codes:    "
      ],
      "metadata": {
        "id": "uiwDVo1t3cBd"
      }
    },
    {
      "cell_type": "code",
      "source": [
        "# Calculating the percentage of records with these stock codes\n",
        "percentage_anomalous = (df['StockCode'].isin(anomalous_stock_codes).sum() / len(df)) * 100\n",
        "\n",
        "# Printing the percentage\n",
        "print(f\"The percentage of records with anomalous stock codes in the dataset is: {percentage_anomalous:.2f}%\")"
      ],
      "metadata": {
        "execution": {
          "iopub.status.busy": "2023-09-13T18:53:20.235724Z",
          "iopub.execute_input": "2023-09-13T18:53:20.236073Z",
          "iopub.status.idle": "2023-09-13T18:53:20.277119Z",
          "shell.execute_reply.started": "2023-09-13T18:53:20.236043Z",
          "shell.execute_reply": "2023-09-13T18:53:20.276167Z"
        },
        "trusted": true,
        "id": "N74FbVqa3cBe"
      },
      "execution_count": null,
      "outputs": []
    },
    {
      "cell_type": "markdown",
      "source": [
        "<div style=\"border-radius:10px; padding: 15px; background-color: #ffeacc; font-size:120%; text-align:left\">\n",
        "\n",
        "<h3 align=\"left\"><font color=#ff6200>Inference:</font></h3>\n",
        "\n",
        "Based on the analysis, we find that a very small proportion of the records, __0.48%__, have anomalous stock codes, which deviate from the typical format observed in the majority of the data. Also, these anomalous codes are just a fraction among all unique stock codes (__only 8 out of 3684__).\n",
        "\n",
        "These codes seem to represent non-product transactions like \"__BANK CHARGES__\", \"__POST__\" (possibly postage fees), etc. Since they do not represent actual products and are a very small proportion of the dataset, including them in the analysis might introduce noise and distort the clustering and recommendation system."
      ],
      "metadata": {
        "id": "K-8aYNrQ3cBe"
      }
    },
    {
      "cell_type": "markdown",
      "source": [
        "<div style=\"border-radius:10px; padding: 15px; background-color: #ffeacc; font-size:120%; text-align:left\">\n",
        "<h3 align=\"left\"><font color=#ff6200>Strategy:</font></h3>\n",
        "\n",
        "Given the context of the project, where the aim is to cluster customers based on their product purchasing behaviors and develop a product recommendation system, it would be prudent to exclude these records with anomalous stock codes from the dataset. This way, the focus remains strictly on genuine product transactions, which would lead to a more accurate and meaningful analysis."
      ],
      "metadata": {
        "id": "4BwIuE1g3cBf"
      }
    },
    {
      "cell_type": "markdown",
      "source": [
        "<div style=\"border-radius:10px; padding: 15px; background-color: #ffeacc; font-size:120%; text-align:left\">\n",
        "    \n",
        "Thus, the strategy would be to filter out and remove rows with these anomalous stock codes from the dataset before proceeding with further analysis and model development:"
      ],
      "metadata": {
        "id": "30OwYmgY3cBf"
      }
    },
    {
      "cell_type": "code",
      "source": [
        "# Removing rows with anomalous stock codes from the dataset\n",
        "df = df[~df['StockCode'].isin(anomalous_stock_codes)]"
      ],
      "metadata": {
        "execution": {
          "iopub.status.busy": "2023-09-13T18:53:20.278663Z",
          "iopub.execute_input": "2023-09-13T18:53:20.279015Z",
          "iopub.status.idle": "2023-09-13T18:53:20.368658Z",
          "shell.execute_reply.started": "2023-09-13T18:53:20.278986Z",
          "shell.execute_reply": "2023-09-13T18:53:20.367429Z"
        },
        "trusted": true,
        "id": "sIUIrwca3cBg"
      },
      "execution_count": null,
      "outputs": []
    },
    {
      "cell_type": "code",
      "source": [
        "# Getting the number of rows in the dataframe\n",
        "df.shape[0]"
      ],
      "metadata": {
        "execution": {
          "iopub.status.busy": "2023-09-13T18:53:20.370268Z",
          "iopub.execute_input": "2023-09-13T18:53:20.371274Z",
          "iopub.status.idle": "2023-09-13T18:53:20.379612Z",
          "shell.execute_reply.started": "2023-09-13T18:53:20.371231Z",
          "shell.execute_reply": "2023-09-13T18:53:20.378307Z"
        },
        "trusted": true,
        "id": "LWY8P6qJ3cBh"
      },
      "execution_count": null,
      "outputs": []
    },
    {
      "cell_type": "markdown",
      "source": [
        "<a id=\"Description_cleaning\"></a>\n",
        "# <b><span style='color:#fcc36d'>Step 3.5 |</span><span style='color:#ff6200'> Cleaning Description Column</span></b>\n",
        "⬆️ [Tabel of Contents](#contents_tabel)"
      ],
      "metadata": {
        "id": "MuDJNCob3cBh"
      }
    },
    {
      "cell_type": "markdown",
      "source": [
        "<div style=\"border-radius:10px; padding: 15px; background-color: #ffeacc; font-size:120%; text-align:left\">\n",
        "    \n",
        "First, I will calculate the occurrence count of each unique description in the dataset. Then, I will plot the top 30 descriptions. This visualization will give a clear view of the highest occurring descriptions in the dataset:"
      ],
      "metadata": {
        "id": "d-5uXeYW3cBi"
      }
    },
    {
      "cell_type": "code",
      "source": [
        "# Calculate the occurrence of each unique description and sort them\n",
        "description_counts = df['Description'].value_counts()\n",
        "\n",
        "# Get the top 30 descriptions\n",
        "top_30_descriptions = description_counts[:30]\n",
        "\n",
        "# Plotting\n",
        "plt.figure(figsize=(12,8))\n",
        "plt.barh(top_30_descriptions.index[::-1], top_30_descriptions.values[::-1], color='#ff6200')\n",
        "\n",
        "# Adding labels and title\n",
        "plt.xlabel('Number of Occurrences')\n",
        "plt.ylabel('Description')\n",
        "plt.title('Top 30 Most Frequent Descriptions')\n",
        "\n",
        "# Show the plot\n",
        "plt.show()"
      ],
      "metadata": {
        "execution": {
          "iopub.status.busy": "2023-09-13T18:53:20.381246Z",
          "iopub.execute_input": "2023-09-13T18:53:20.381787Z",
          "iopub.status.idle": "2023-09-13T18:53:21.328243Z",
          "shell.execute_reply.started": "2023-09-13T18:53:20.381748Z",
          "shell.execute_reply": "2023-09-13T18:53:21.327013Z"
        },
        "trusted": true,
        "id": "cW2efyYp3cBi"
      },
      "execution_count": null,
      "outputs": []
    },
    {
      "cell_type": "markdown",
      "source": [
        "<div style=\"border-radius:10px; padding: 15px; background-color: #ffeacc; font-size:120%; text-align:left\">\n",
        "<h3 align=\"left\"><font color=#ff6200>Inferences on Descriptions:</font></h3>\n",
        "\n",
        "- The most frequent descriptions are generally household items, particularly those associated with kitchenware, lunch bags, and decorative items.\n",
        "       \n",
        "    \n",
        "- Interestingly, all the descriptions are in uppercase, which might be a standardized format for entering product descriptions in the database. However, considering the inconsistencies and anomalies encountered in the dataset so far, it would be prudent to check if there are descriptions entered in lowercase or a mix of case styles."
      ],
      "metadata": {
        "id": "XKD6P9S13cBj"
      }
    },
    {
      "cell_type": "code",
      "source": [
        "# Find unique descriptions containing lowercase characters\n",
        "lowercase_descriptions = df['Description'].unique()\n",
        "lowercase_descriptions = [desc for desc in lowercase_descriptions if any(char.islower() for char in desc)]\n",
        "\n",
        "# Print the unique descriptions containing lowercase characters\n",
        "print(\"The unique descriptions containing lowercase characters are:\")\n",
        "print(\"-\"*60)\n",
        "for desc in lowercase_descriptions:\n",
        "    print(desc)"
      ],
      "metadata": {
        "execution": {
          "iopub.status.busy": "2023-09-13T18:53:21.329523Z",
          "iopub.execute_input": "2023-09-13T18:53:21.329945Z",
          "iopub.status.idle": "2023-09-13T18:53:21.413803Z",
          "shell.execute_reply.started": "2023-09-13T18:53:21.329908Z",
          "shell.execute_reply": "2023-09-13T18:53:21.412454Z"
        },
        "trusted": true,
        "id": "d4DknXYx3cBj"
      },
      "execution_count": null,
      "outputs": []
    },
    {
      "cell_type": "markdown",
      "source": [
        "<div style=\"border-radius:10px; padding: 15px; background-color: #ffeacc; font-size:120%; text-align:left\">\n",
        "<h3 align=\"left\"><font color=#ff6200>Inference:</font></h3>\n",
        "    \n",
        "- Upon reviewing the descriptions that contain lowercase characters, it is evident that some entries are not product descriptions, such as \"__Next Day Carriage__\" and \"__High Resolution Image__\". These entries seem to be unrelated to the actual products and might represent other types of information or service details."
      ],
      "metadata": {
        "id": "POqYO3ki3cBj"
      }
    },
    {
      "cell_type": "markdown",
      "source": [
        "<div style=\"border-radius:10px; padding: 15px; background-color: #ffeacc; font-size:120%; text-align:left\">\n",
        "<h3 align=\"left\"><font color=#ff6200>Strategy:</font></h3>\n",
        "\n",
        "- __Step 1__: Remove the rows where the descriptions contain service-related information like \"__Next Day Carriage__\" and \"__High Resolution Image__\", as these do not represent actual products and would not contribute to the clustering and recommendation system we aim to build.\n",
        "\n",
        "    \n",
        "- __Step 2__: For the remaining descriptions with mixed case, standardize the text to uppercase to maintain uniformity across the dataset. This will also assist in reducing the chances of having duplicate entries with different case styles.\n",
        "\n",
        "By implementing the above strategy, we can enhance the quality of our dataset, making it more suitable for the analysis and modeling phases of our project."
      ],
      "metadata": {
        "id": "7sy3voFw3cBk"
      }
    },
    {
      "cell_type": "code",
      "source": [
        "service_related_descriptions = [\"Next Day Carriage\", \"High Resolution Image\"]\n",
        "\n",
        "# Calculate the percentage of records with service-related descriptions\n",
        "service_related_percentage = df[df['Description'].isin(service_related_descriptions)].shape[0] / df.shape[0] * 100\n",
        "\n",
        "# Print the percentage of records with service-related descriptions\n",
        "print(f\"The percentage of records with service-related descriptions in the dataset is: {service_related_percentage:.2f}%\")\n",
        "\n",
        "# Remove rows with service-related information in the description\n",
        "df = df[~df['Description'].isin(service_related_descriptions)]\n",
        "\n",
        "# Standardize the text to uppercase to maintain uniformity across the dataset\n",
        "df['Description'] = df['Description'].str.upper()"
      ],
      "metadata": {
        "execution": {
          "iopub.status.busy": "2023-09-13T18:53:21.415496Z",
          "iopub.execute_input": "2023-09-13T18:53:21.415959Z",
          "iopub.status.idle": "2023-09-13T18:53:21.740756Z",
          "shell.execute_reply.started": "2023-09-13T18:53:21.415916Z",
          "shell.execute_reply": "2023-09-13T18:53:21.739503Z"
        },
        "trusted": true,
        "id": "HO73R4F93cBk"
      },
      "execution_count": null,
      "outputs": []
    },
    {
      "cell_type": "code",
      "source": [
        "# Getting the number of rows in the dataframe\n",
        "df.shape[0]"
      ],
      "metadata": {
        "execution": {
          "iopub.status.busy": "2023-09-13T18:53:21.74283Z",
          "iopub.execute_input": "2023-09-13T18:53:21.743263Z",
          "iopub.status.idle": "2023-09-13T18:53:21.751067Z",
          "shell.execute_reply.started": "2023-09-13T18:53:21.743223Z",
          "shell.execute_reply": "2023-09-13T18:53:21.749778Z"
        },
        "trusted": true,
        "id": "DWl6vjcR3cBl"
      },
      "execution_count": null,
      "outputs": []
    },
    {
      "cell_type": "markdown",
      "source": [
        "<a id=\"UnitPrice_cleaning\"></a>\n",
        "# <b><span style='color:#fcc36d'>Step 3.6 |</span><span style='color:#ff6200'> Treating Zero Unit Prices</span></b>\n",
        "⬆️ [Tabel of Contents](#contents_tabel)"
      ],
      "metadata": {
        "id": "YaiZ7ZNz3cBl"
      }
    },
    {
      "cell_type": "markdown",
      "source": [
        "<div style=\"border-radius:10px; padding: 15px; background-color: #ffeacc; font-size:120%; text-align:left\">\n",
        "    \n",
        "In this step, first I am going to take a look at the statistical description of the `UnitPrice` column:"
      ],
      "metadata": {
        "id": "Fb9j0vel3cBm"
      }
    },
    {
      "cell_type": "code",
      "source": [
        "df['UnitPrice'].describe()"
      ],
      "metadata": {
        "scrolled": true,
        "execution": {
          "iopub.status.busy": "2023-09-13T18:53:21.753408Z",
          "iopub.execute_input": "2023-09-13T18:53:21.753904Z",
          "iopub.status.idle": "2023-09-13T18:53:21.786326Z",
          "shell.execute_reply.started": "2023-09-13T18:53:21.753865Z",
          "shell.execute_reply": "2023-09-13T18:53:21.78545Z"
        },
        "trusted": true,
        "id": "xqbW2J2w3cBm"
      },
      "execution_count": null,
      "outputs": []
    },
    {
      "cell_type": "markdown",
      "source": [
        "<div style=\"border-radius:10px; padding: 15px; background-color: #ffeacc; font-size:120%; text-align:left\">\n",
        "<h3 align=\"left\"><font color=#ff6200>Inference:</font></h3>\n",
        "    \n",
        "The minimum unit price value is zero. This suggests that there are some transactions where the unit price is zero, potentially indicating a free item or a data entry error. To understand their nature, it is essential to investigate these zero unit price transactions further. A detailed analysis of the product descriptions associated with zero unit prices will be conducted to determine if they adhere to a specific pattern:"
      ],
      "metadata": {
        "id": "VOFQi9Qh3cBn"
      }
    },
    {
      "cell_type": "code",
      "source": [
        "df[df['UnitPrice']==0].describe()[['Quantity']]"
      ],
      "metadata": {
        "execution": {
          "iopub.status.busy": "2023-09-13T18:53:21.787679Z",
          "iopub.execute_input": "2023-09-13T18:53:21.791185Z",
          "iopub.status.idle": "2023-09-13T18:53:21.812269Z",
          "shell.execute_reply.started": "2023-09-13T18:53:21.791149Z",
          "shell.execute_reply": "2023-09-13T18:53:21.811122Z"
        },
        "trusted": true,
        "id": "l11de3Cu3cBn"
      },
      "execution_count": null,
      "outputs": []
    },
    {
      "cell_type": "markdown",
      "source": [
        "<div style=\"border-radius:10px; padding: 15px; background-color: #ffeacc; font-size:120%; text-align:left\">\n",
        "<h3 align=\"left\"><font color=#ff6200>Inferences on UnitPrice: </font></h3>\n",
        "\n",
        "- The transactions with a unit price of zero are relatively few in number (33 transactions).\n",
        "    \n",
        "    \n",
        "- These transactions have a large variability in the quantity of items involved, ranging from 1 to 12540, with a substantial standard deviation.\n",
        "    \n",
        "    \n",
        "- Including these transactions in the clustering analysis might introduce noise and could potentially distort the customer behavior patterns identified by the clustering algorithm."
      ],
      "metadata": {
        "id": "1PldkHY-3cBn"
      }
    },
    {
      "cell_type": "markdown",
      "source": [
        "<div style=\"border-radius:10px; padding: 15px; background-color: #ffeacc; font-size:120%; text-align:left\">\n",
        "<h3 align=\"left\"><font color=#ff6200>Strategy: </font></h3>\n",
        "\n",
        "Given the small number of these transactions and their potential to introduce noise in the data analysis, the strategy should be to remove these transactions from the dataset. This would help in maintaining a cleaner and more consistent dataset, which is essential for building an accurate and reliable clustering model and recommendation system."
      ],
      "metadata": {
        "id": "HNkE4oal3cBo"
      }
    },
    {
      "cell_type": "code",
      "source": [
        "# Removing records with a unit price of zero to avoid potential data entry errors\n",
        "df = df[df['UnitPrice'] > 0]"
      ],
      "metadata": {
        "execution": {
          "iopub.status.busy": "2023-09-13T18:53:21.813656Z",
          "iopub.execute_input": "2023-09-13T18:53:21.81469Z",
          "iopub.status.idle": "2023-09-13T18:53:21.874798Z",
          "shell.execute_reply.started": "2023-09-13T18:53:21.814646Z",
          "shell.execute_reply": "2023-09-13T18:53:21.873214Z"
        },
        "trusted": true,
        "id": "4E0-UG_d3cBo"
      },
      "execution_count": null,
      "outputs": []
    },
    {
      "cell_type": "markdown",
      "source": [
        "<a id=\"outlier_cleaning\"></a>\n",
        "# <b><span style='color:#fcc36d'>Step 3.7 |</span><span style='color:#ff6200'> Outlier Treatment</span></b>\n",
        "⬆️ [Tabel of Contents](#contents_tabel)"
      ],
      "metadata": {
        "id": "ae1wzGJl3cBp"
      }
    },
    {
      "cell_type": "markdown",
      "source": [
        "<div style=\"border-radius:10px; padding: 15px; background-color: #ffeacc; font-size:120%; text-align:left\">\n",
        "    \n",
        "In K-means clustering, the algorithm is sensitive to both the scale of data and the presence of outliers, as they can significantly influence the position of centroids, potentially leading to incorrect cluster assignments. However, considering the context of this project where the final goal is to understand customer behavior and preferences through K-means clustering, it would be more prudent to address the issue of outliers __after the feature engineering phase__ where we create a customer-centric dataset. At this stage, the data is transactional, and removing outliers might eliminate valuable information that could play a crucial role in segmenting customers later on. Therefore, we will postpone the outlier treatment and proceed to the next stage for now."
      ],
      "metadata": {
        "id": "Cel5iQ6c3cBp"
      }
    },
    {
      "cell_type": "code",
      "source": [
        "# Resetting the index of the cleaned dataset\n",
        "df.reset_index(drop=True, inplace=True)"
      ],
      "metadata": {
        "execution": {
          "iopub.status.busy": "2023-09-13T18:53:21.876213Z",
          "iopub.execute_input": "2023-09-13T18:53:21.876587Z",
          "iopub.status.idle": "2023-09-13T18:53:21.882187Z",
          "shell.execute_reply.started": "2023-09-13T18:53:21.876553Z",
          "shell.execute_reply": "2023-09-13T18:53:21.881Z"
        },
        "trusted": true,
        "id": "M529lLiv3cBq"
      },
      "execution_count": null,
      "outputs": []
    },
    {
      "cell_type": "code",
      "source": [
        "# Getting the number of rows in the dataframe\n",
        "df.shape[0]"
      ],
      "metadata": {
        "execution": {
          "iopub.status.busy": "2023-09-13T18:53:21.883627Z",
          "iopub.execute_input": "2023-09-13T18:53:21.88396Z",
          "iopub.status.idle": "2023-09-13T18:53:21.900935Z",
          "shell.execute_reply.started": "2023-09-13T18:53:21.883932Z",
          "shell.execute_reply": "2023-09-13T18:53:21.899255Z"
        },
        "trusted": true,
        "id": "ZskrMPYw3cBr"
      },
      "execution_count": null,
      "outputs": []
    },
    {
      "cell_type": "markdown",
      "source": [
        "<a id=\"feature_engineering\"></a>\n",
        "# <p style=\"background-color: #ff6200; font-family:calibri; color:white; font-size:140%; font-family:Verdana; text-align:center; border-radius:15px 50px;\">Step 4 | Feature Engineering</p>\n",
        "⬆️ [Tabel of Contents](#contents_tabel)"
      ],
      "metadata": {
        "id": "uOLt8nTs3cBs"
      }
    },
    {
      "cell_type": "markdown",
      "source": [
        "<div style=\"border-radius:10px; padding: 15px; background-color: #ffeacc; font-size:120%; text-align:left\">\n",
        "\n",
        "In order to create a comprehensive customer-centric dataset for clustering and recommendation, the following features can be engineered from the available data:"
      ],
      "metadata": {
        "id": "uqrGo_IK3cBt"
      }
    },
    {
      "cell_type": "markdown",
      "source": [
        "<a id=\"rfm_features\"></a>\n",
        "# <b><span style='color:#fcc36d'>Step 4.1 |</span><span style='color:#ff6200'> RFM Features</span></b>\n",
        "⬆️ [Tabel of Contents](#contents_tabel)"
      ],
      "metadata": {
        "id": "Kkf-oZ9o3cBt"
      }
    },
    {
      "cell_type": "markdown",
      "source": [
        "<div style=\"border-radius:10px; padding: 15px; background-color: #ffeacc; font-size:120%; text-align:left\">\n",
        "\n",
        "RFM is a method used for analyzing customer value and segmenting the customer base. It is an acronym that stands for:\n",
        "\n",
        "- __Recency (R):__ This metric indicates how recently a customer has made a purchase. A lower recency value means the customer has purchased more recently, indicating higher engagement with the brand.\n",
        "\n",
        "    \n",
        "- __Frequency (F):__ This metric signifies how often a customer makes a purchase within a certain period. A higher frequency value indicates a customer who interacts with the business more often, suggesting higher loyalty or satisfaction.\n",
        "\n",
        "    \n",
        "- __Monetary (M):__ This metric represents the total amount of money a customer has spent over a certain period. Customers who have a higher monetary value have contributed more to the business, indicating their potential high lifetime value.\n",
        "\n",
        "    \n",
        "Together, these metrics help in understanding a customer's buying behavior and preferences, which is pivotal in personalizing marketing strategies and creating a recommendation system."
      ],
      "metadata": {
        "id": "Cbpu0Kzn3cBu"
      }
    },
    {
      "cell_type": "markdown",
      "source": [
        "<a id=\"recency\"></a>\n",
        "## <b><span style='color:#fcc36d'>Step 4.1.1 |</span><span style='color:#ff6200'> Recency (R)</span></b>\n",
        "⬆️ [Tabel of Contents](#contents_tabel)"
      ],
      "metadata": {
        "id": "W_3n7_rt3cBu"
      }
    },
    {
      "cell_type": "markdown",
      "source": [
        "<div style=\"border-radius:10px; padding: 15px; background-color: #ffeacc; font-size:120%; text-align:left\">\n",
        "    \n",
        "In this step, we focus on understanding how recently a customer has made a purchase. This is a crucial aspect of customer segmentation as it helps in identifying the engagement level of customers. Here, I am going to define the following feature:\n",
        "\n",
        "- __Days Since Last Purchas__: This feature represents the number of days that have passed since the customer's last purchase. A lower value indicates that the customer has purchased recently, implying a higher engagement level with the business, whereas a higher value may indicate a lapse or decreased engagement. By understanding the recency of purchases, businesses can tailor their marketing strategies to re-engage customers who have not made purchases in a while, potentially increasing customer retention and fostering loyalty."
      ],
      "metadata": {
        "id": "o1fw5W1A3cBv"
      }
    },
    {
      "cell_type": "code",
      "source": [
        "# Convert InvoiceDate to datetime type\n",
        "df['InvoiceDate'] = pd.to_datetime(df['InvoiceDate'])\n",
        "\n",
        "# Convert InvoiceDate to datetime and extract only the date\n",
        "df['InvoiceDay'] = df['InvoiceDate'].dt.date\n",
        "\n",
        "# Find the most recent purchase date for each customer\n",
        "customer_data = df.groupby('CustomerID')['InvoiceDay'].max().reset_index()\n",
        "\n",
        "# Find the most recent date in the entire dataset\n",
        "most_recent_date = df['InvoiceDay'].max()\n",
        "\n",
        "# Convert InvoiceDay to datetime type before subtraction\n",
        "customer_data['InvoiceDay'] = pd.to_datetime(customer_data['InvoiceDay'])\n",
        "most_recent_date = pd.to_datetime(most_recent_date)\n",
        "\n",
        "# Calculate the number of days since the last purchase for each customer\n",
        "customer_data['Days_Since_Last_Purchase'] = (most_recent_date - customer_data['InvoiceDay']).dt.days\n",
        "\n",
        "# Remove the InvoiceDay column\n",
        "customer_data.drop(columns=['InvoiceDay'], inplace=True)"
      ],
      "metadata": {
        "execution": {
          "iopub.status.busy": "2023-09-13T18:53:21.902703Z",
          "iopub.execute_input": "2023-09-13T18:53:21.903553Z",
          "iopub.status.idle": "2023-09-13T18:53:22.931503Z",
          "shell.execute_reply.started": "2023-09-13T18:53:21.903522Z",
          "shell.execute_reply": "2023-09-13T18:53:22.930281Z"
        },
        "trusted": true,
        "id": "aTt-g3fU3cBv"
      },
      "execution_count": null,
      "outputs": []
    },
    {
      "cell_type": "markdown",
      "source": [
        "<div style=\"border-radius:10px; padding: 15px; background-color: #ffeacc; font-size:120%; text-align:left\">\n",
        "    \n",
        "Now, __customer_data__ dataframe contains the __`Days_Since_Last_Purchase`__ feature:"
      ],
      "metadata": {
        "id": "19o4GD9j3cBv"
      }
    },
    {
      "cell_type": "code",
      "source": [
        "customer_data.head()"
      ],
      "metadata": {
        "execution": {
          "iopub.status.busy": "2023-09-13T18:53:22.934585Z",
          "iopub.execute_input": "2023-09-13T18:53:22.935036Z",
          "iopub.status.idle": "2023-09-13T18:53:22.946882Z",
          "shell.execute_reply.started": "2023-09-13T18:53:22.934996Z",
          "shell.execute_reply": "2023-09-13T18:53:22.945492Z"
        },
        "trusted": true,
        "id": "8Q5CjWwZ3cBv"
      },
      "execution_count": null,
      "outputs": []
    },
    {
      "cell_type": "markdown",
      "source": [
        "<div style=\"border-radius:10px; padding: 15px; background-color: #ffeacc; font-size:120%; text-align:left\">\n",
        "<h3 align=\"left\"><font color=#ff6200>Note: </font></h3>\n",
        "    \n",
        "- I've named the customer-centric dataframe as __customer_data__, which will eventually contain all the customer-based features we plan to create."
      ],
      "metadata": {
        "id": "fR53XV413cBw"
      }
    },
    {
      "cell_type": "markdown",
      "source": [
        "<a id=\"frequency\"></a>\n",
        "## <b><span style='color:#fcc36d'>Step 4.1.2 |</span><span style='color:#ff6200'> Frequency (F)</span></b>\n",
        "⬆️ [Tabel of Contents](#contents_tabel)"
      ],
      "metadata": {
        "id": "og3AK0o63cBw"
      }
    },
    {
      "cell_type": "markdown",
      "source": [
        "<div style=\"border-radius:10px; padding: 15px; background-color: #ffeacc; font-size:120%; text-align:left\">\n",
        "\n",
        "In this step, I am going to create two features that quantify the frequency of a customer's engagement with the retailer:\n",
        "\n",
        "- __Total Transactions__: This feature represents the total number of transactions made by a customer. It helps in understanding the engagement level of a customer with the retailer.\n",
        "\n",
        "    \n",
        "\n",
        "- __Total Products Purchased__: This feature indicates the total number of products (sum of quantities) purchased by a customer across all transactions. It gives an insight into the customer's buying behavior in terms of the volume of products purchased.\n",
        "\n",
        "    \n",
        "These features will be crucial in segmenting customers based on their buying frequency, which is a key aspect in determining customer segments for targeted marketing and personalized recommendations."
      ],
      "metadata": {
        "id": "Eeiz6o333cBx"
      }
    },
    {
      "cell_type": "code",
      "source": [
        "# Calculate the total number of transactions made by each customer\n",
        "total_transactions = df.groupby('CustomerID')['InvoiceNo'].nunique().reset_index()\n",
        "total_transactions.rename(columns={'InvoiceNo': 'Total_Transactions'}, inplace=True)\n",
        "\n",
        "# Calculate the total number of products purchased by each customer\n",
        "total_products_purchased = df.groupby('CustomerID')['Quantity'].sum().reset_index()\n",
        "total_products_purchased.rename(columns={'Quantity': 'Total_Products_Purchased'}, inplace=True)\n",
        "\n",
        "# Merge the new features into the customer_data dataframe\n",
        "customer_data = pd.merge(customer_data, total_transactions, on='CustomerID')\n",
        "customer_data = pd.merge(customer_data, total_products_purchased, on='CustomerID')\n",
        "\n",
        "# Display the first few rows of the customer_data dataframe\n",
        "customer_data.head()"
      ],
      "metadata": {
        "execution": {
          "iopub.status.busy": "2023-09-13T18:53:22.948641Z",
          "iopub.execute_input": "2023-09-13T18:53:22.949269Z",
          "iopub.status.idle": "2023-09-13T18:53:23.052113Z",
          "shell.execute_reply.started": "2023-09-13T18:53:22.949229Z",
          "shell.execute_reply": "2023-09-13T18:53:23.050913Z"
        },
        "trusted": true,
        "id": "01F5YABS3cBx"
      },
      "execution_count": null,
      "outputs": []
    },
    {
      "cell_type": "markdown",
      "source": [
        "<a id=\"monetary\"></a>\n",
        "## <b><span style='color:#fcc36d'>Step 4.1.3 |</span><span style='color:#ff6200'> Monetary (M)</span></b>\n",
        "⬆️ [Tabel of Contents](#contents_tabel)"
      ],
      "metadata": {
        "id": "J8Inm7tD3cBx"
      }
    },
    {
      "cell_type": "markdown",
      "source": [
        "<div style=\"border-radius:10px; padding: 15px; background-color: #ffeacc; font-size:120%; text-align:left\">\n",
        "\n",
        "In this step, I am going to create two features that represent the monetary aspect of customer's transactions:\n",
        "\n",
        "- __Total Spend__: This feature represents the total amount of money spent by each customer. It is calculated as the sum of the product of `UnitPrice` and `Quantity` for all transactions made by a customer. This feature is crucial as it helps in identifying the total revenue generated by each customer, which is a direct indicator of a customer's value to the business.\n",
        "\n",
        "    \n",
        "- __Average Transaction Value__: This feature is calculated as the __Total Spend__ divided by the __Total Transactions__ for each customer. It indicates the average value of a transaction carried out by a customer. This metric is useful in understanding the spending behavior of customers per transaction, which can assist in tailoring marketing strategies and offers to different customer segments based on their average spending patterns."
      ],
      "metadata": {
        "id": "F-vRrCWY3cBx"
      }
    },
    {
      "cell_type": "code",
      "source": [
        "# Calculate the total spend by each customer\n",
        "df['Total_Spend'] = df['UnitPrice'] * df['Quantity']\n",
        "total_spend = df.groupby('CustomerID')['Total_Spend'].sum().reset_index()\n",
        "\n",
        "# Calculate the average transaction value for each customer\n",
        "average_transaction_value = total_spend.merge(total_transactions, on='CustomerID')\n",
        "average_transaction_value['Average_Transaction_Value'] = average_transaction_value['Total_Spend'] / average_transaction_value['Total_Transactions']\n",
        "\n",
        "# Merge the new features into the customer_data dataframe\n",
        "customer_data = pd.merge(customer_data, total_spend, on='CustomerID')\n",
        "customer_data = pd.merge(customer_data, average_transaction_value[['CustomerID', 'Average_Transaction_Value']], on='CustomerID')\n",
        "\n",
        "# Display the first few rows of the customer_data dataframe\n",
        "customer_data.head()"
      ],
      "metadata": {
        "execution": {
          "iopub.status.busy": "2023-09-13T18:53:23.053855Z",
          "iopub.execute_input": "2023-09-13T18:53:23.054592Z",
          "iopub.status.idle": "2023-09-13T18:53:23.098656Z",
          "shell.execute_reply.started": "2023-09-13T18:53:23.054549Z",
          "shell.execute_reply": "2023-09-13T18:53:23.097447Z"
        },
        "trusted": true,
        "id": "49GByJfS3cBy"
      },
      "execution_count": null,
      "outputs": []
    },
    {
      "cell_type": "markdown",
      "source": [
        "<a id=\"product_diversity\"></a>\n",
        "# <b><span style='color:#fcc36d'>Step 4.2 |</span><span style='color:#ff6200'> Product Diversity</span></b>\n",
        "⬆️ [Tabel of Contents](#contents_tabel)"
      ],
      "metadata": {
        "id": "Y8SktUl23cBy"
      }
    },
    {
      "cell_type": "markdown",
      "source": [
        "<div style=\"border-radius:10px; padding: 15px; background-color: #ffeacc; font-size:120%; text-align:left\">\n",
        "\n",
        "In this step, we are going to understand the diversity in the product purchase behavior of customers. Understanding product diversity can help in crafting personalized marketing strategies and product recommendations. Here, I am going to define the following feature:\n",
        "\n",
        "- __Unique Products Purchased__: This feature represents the number of distinct products bought by a customer. A higher value indicates that the customer has a diverse taste or preference, buying a wide range of products, while a lower value might indicate a focused or specific preference. Understanding the diversity in product purchases can help in segmenting customers based on their buying diversity, which can be a critical input in personalizing product recommendations."
      ],
      "metadata": {
        "id": "OBTtmVjs3cBy"
      }
    },
    {
      "cell_type": "code",
      "source": [
        "# Calculate the number of unique products purchased by each customer\n",
        "unique_products_purchased = df.groupby('CustomerID')['StockCode'].nunique().reset_index()\n",
        "unique_products_purchased.rename(columns={'StockCode': 'Unique_Products_Purchased'}, inplace=True)\n",
        "\n",
        "# Merge the new feature into the customer_data dataframe\n",
        "customer_data = pd.merge(customer_data, unique_products_purchased, on='CustomerID')\n",
        "\n",
        "# Display the first few rows of the customer_data dataframe\n",
        "customer_data.head()"
      ],
      "metadata": {
        "execution": {
          "iopub.status.busy": "2023-09-13T18:53:23.100115Z",
          "iopub.execute_input": "2023-09-13T18:53:23.101464Z",
          "iopub.status.idle": "2023-09-13T18:53:23.278539Z",
          "shell.execute_reply.started": "2023-09-13T18:53:23.101424Z",
          "shell.execute_reply": "2023-09-13T18:53:23.277409Z"
        },
        "trusted": true,
        "id": "3L_-RgGh3cBz"
      },
      "execution_count": null,
      "outputs": []
    },
    {
      "cell_type": "markdown",
      "source": [
        "<a id=\"behaviroal_features\"></a>\n",
        "# <b><span style='color:#fcc36d'>Step 4.3 |</span><span style='color:#ff6200'> Behavioral Features</span></b>\n",
        "⬆️ [Tabel of Contents](#contents_tabel)"
      ],
      "metadata": {
        "id": "JaICfkK73cBz"
      }
    },
    {
      "cell_type": "markdown",
      "source": [
        "<div style=\"border-radius:10px; padding: 15px; background-color: #ffeacc; font-size:120%; text-align:left\">\n",
        "\n",
        "In this step, we aim to understand and capture the shopping patterns and behaviors of customers. These features will give us insights into the customers' preferences regarding when they like to shop, which can be crucial information for personalizing their shopping experience. Here are the features I am planning to introduce:\n",
        "\n",
        "- __Average Days Between Purchases__: This feature represents the average number of days a customer waits before making another purchase. Understanding this can help in predicting when the customer is likely to make their next purchase, which can be a crucial metric for targeted marketing and personalized promotions.\n",
        "\n",
        "    \n",
        "- __Favorite Shopping Day__: This denotes the day of the week when the customer shops the most. This information can help in identifying the preferred shopping days of different customer segments, which can be used to optimize marketing strategies and promotions for different days of the week.\n",
        "\n",
        "    \n",
        "- __Favorite Shopping Hour__: This refers to the hour of the day when the customer shops the most. Identifying the favorite shopping hour can aid in optimizing the timing of marketing campaigns and promotions to align with the times when different customer segments are most active.\n",
        "\n",
        "    \n",
        "By including these behavioral features in our dataset, we can create a more rounded view of our customers, which will potentially enhance the effectiveness of the clustering algorithm, leading to more meaningful customer segments."
      ],
      "metadata": {
        "id": "wZZDiwtd3cBz"
      }
    },
    {
      "cell_type": "code",
      "source": [
        "# Extract day of week and hour from InvoiceDate\n",
        "df['Day_Of_Week'] = df['InvoiceDate'].dt.dayofweek\n",
        "df['Hour'] = df['InvoiceDate'].dt.hour\n",
        "\n",
        "# Calculate the average number of days between consecutive purchases\n",
        "days_between_purchases = df.groupby('CustomerID')['InvoiceDay'].apply(lambda x: (x.diff().dropna()).apply(lambda y: y.days))\n",
        "average_days_between_purchases = days_between_purchases.groupby('CustomerID').mean().reset_index()\n",
        "average_days_between_purchases.rename(columns={'InvoiceDay': 'Average_Days_Between_Purchases'}, inplace=True)\n",
        "\n",
        "# Find the favorite shopping day of the week\n",
        "favorite_shopping_day = df.groupby(['CustomerID', 'Day_Of_Week']).size().reset_index(name='Count')\n",
        "favorite_shopping_day = favorite_shopping_day.loc[favorite_shopping_day.groupby('CustomerID')['Count'].idxmax()][['CustomerID', 'Day_Of_Week']]\n",
        "\n",
        "# Find the favorite shopping hour of the day\n",
        "favorite_shopping_hour = df.groupby(['CustomerID', 'Hour']).size().reset_index(name='Count')\n",
        "favorite_shopping_hour = favorite_shopping_hour.loc[favorite_shopping_hour.groupby('CustomerID')['Count'].idxmax()][['CustomerID', 'Hour']]\n",
        "\n",
        "# Merge the new features into the customer_data dataframe\n",
        "customer_data = pd.merge(customer_data, average_days_between_purchases, on='CustomerID')\n",
        "customer_data = pd.merge(customer_data, favorite_shopping_day, on='CustomerID')\n",
        "customer_data = pd.merge(customer_data, favorite_shopping_hour, on='CustomerID')\n",
        "\n",
        "# Display the first few rows of the customer_data dataframe\n",
        "customer_data.head()"
      ],
      "metadata": {
        "execution": {
          "iopub.status.busy": "2023-09-13T18:53:23.279989Z",
          "iopub.execute_input": "2023-09-13T18:53:23.280698Z",
          "iopub.status.idle": "2023-09-13T18:53:30.545965Z",
          "shell.execute_reply.started": "2023-09-13T18:53:23.280657Z",
          "shell.execute_reply": "2023-09-13T18:53:30.544569Z"
        },
        "trusted": true,
        "id": "8CoON7Wf3cB0"
      },
      "execution_count": null,
      "outputs": []
    },
    {
      "cell_type": "markdown",
      "source": [
        "<a id=\"geographical_features\"></a>\n",
        "# <b><span style='color:#fcc36d'>Step 4.4 |</span><span style='color:#ff6200'> Geographic Features</span></b>\n",
        "⬆️ [Tabel of Contents](#contents_tabel)"
      ],
      "metadata": {
        "id": "UsiapZ-23cB0"
      }
    },
    {
      "cell_type": "markdown",
      "source": [
        "<div style=\"border-radius:10px; padding: 15px; background-color: #ffeacc; font-size:120%; text-align:left\">\n",
        "    \n",
        "In this step, we will introduce a geographic feature that reflects the geographical location of customers. Understanding the geographic distribution of customers is pivotal for several reasons:\n",
        "\n",
        "- __Country__: This feature identifies the country where each customer is located. Including the country data can help us understand region-specific buying patterns and preferences. Different regions might have varying preferences and purchasing behaviors which can be critical in personalizing marketing strategies and inventory planning. Furthermore, it can be instrumental in logistics and supply chain optimization, particularly for an online retailer where shipping and delivery play a significant role."
      ],
      "metadata": {
        "id": "pA6y7aBQ3cB0"
      }
    },
    {
      "cell_type": "code",
      "source": [
        "df['Country'].value_counts(normalize=True).head()"
      ],
      "metadata": {
        "execution": {
          "iopub.status.busy": "2023-09-13T18:53:30.547314Z",
          "iopub.execute_input": "2023-09-13T18:53:30.547689Z",
          "iopub.status.idle": "2023-09-13T18:53:30.627592Z",
          "shell.execute_reply.started": "2023-09-13T18:53:30.547659Z",
          "shell.execute_reply": "2023-09-13T18:53:30.626272Z"
        },
        "trusted": true,
        "id": "lucuvWqD3cB1"
      },
      "execution_count": null,
      "outputs": []
    },
    {
      "cell_type": "markdown",
      "source": [
        "<div style=\"border-radius:10px; padding: 15px; background-color: #ffeacc; font-size:120%; text-align:left\">\n",
        "<h3 align=\"left\"><font color=#ff6200>Inference: </font></h3>\n",
        "    \n",
        "Given that a substantial portion (__89%__) of transactions are originating from the __United Kingdom__, we might consider creating a binary feature indicating whether the transaction is from the UK or not. This approach can potentially streamline the clustering process without losing critical geographical information, especially when considering the application of algorithms like K-means which are sensitive to the dimensionality of the feature space."
      ],
      "metadata": {
        "id": "5Qjk1fhb3cB1"
      }
    },
    {
      "cell_type": "markdown",
      "source": [
        "<div style=\"border-radius:10px; padding: 15px; background-color: #ffeacc; font-size:120%; text-align:left\">\n",
        "<h3 align=\"left\"><font color=#ff6200>Methodology: </font></h3>\n",
        "\n",
        "- First, I will group the data by `CustomerID` and `Country` and calculate the number of transactions per country for each customer.\n",
        "\n",
        "- Next, I will identify the main country for each customer (the country from which they have the maximum transactions).\n",
        "    \n",
        "- Then, I will create a binary column indicating whether the customer is from the UK or not.\n",
        "    \n",
        "- Finally, I will merge this information with the `customer_data` dataframe to include the new feature in our analysis."
      ],
      "metadata": {
        "id": "bSaS9ZRJ3cB1"
      }
    },
    {
      "cell_type": "code",
      "source": [
        "# Group by CustomerID and Country to get the number of transactions per country for each customer\n",
        "customer_country = df.groupby(['CustomerID', 'Country']).size().reset_index(name='Number_of_Transactions')\n",
        "\n",
        "# Get the country with the maximum number of transactions for each customer (in case a customer has transactions from multiple countries)\n",
        "customer_main_country = customer_country.sort_values('Number_of_Transactions', ascending=False).drop_duplicates('CustomerID')\n",
        "\n",
        "# Create a binary column indicating whether the customer is from the UK or not\n",
        "customer_main_country['Is_UK'] = customer_main_country['Country'].apply(lambda x: 1 if x == 'United Kingdom' else 0)\n",
        "\n",
        "# Merge this data with our customer_data dataframe\n",
        "customer_data = pd.merge(customer_data, customer_main_country[['CustomerID', 'Is_UK']], on='CustomerID', how='left')\n",
        "\n",
        "# Display the first few rows of the customer_data dataframe\n",
        "customer_data.head()"
      ],
      "metadata": {
        "execution": {
          "iopub.status.busy": "2023-09-13T18:53:30.63727Z",
          "iopub.execute_input": "2023-09-13T18:53:30.63773Z",
          "iopub.status.idle": "2023-09-13T18:53:30.73415Z",
          "shell.execute_reply.started": "2023-09-13T18:53:30.637696Z",
          "shell.execute_reply": "2023-09-13T18:53:30.732706Z"
        },
        "trusted": true,
        "id": "H30c2EhP3cB2"
      },
      "execution_count": null,
      "outputs": []
    },
    {
      "cell_type": "code",
      "source": [
        "# Display feature distribution\n",
        "customer_data['Is_UK'].value_counts()"
      ],
      "metadata": {
        "execution": {
          "iopub.status.busy": "2023-09-13T18:53:30.73563Z",
          "iopub.execute_input": "2023-09-13T18:53:30.735987Z",
          "iopub.status.idle": "2023-09-13T18:53:30.74549Z",
          "shell.execute_reply.started": "2023-09-13T18:53:30.735959Z",
          "shell.execute_reply": "2023-09-13T18:53:30.744188Z"
        },
        "trusted": true,
        "id": "hk4mM0kc3cB2"
      },
      "execution_count": null,
      "outputs": []
    },
    {
      "cell_type": "markdown",
      "source": [
        "<a id=\"cancellation_insights\"></a>\n",
        "# <b><span style='color:#fcc36d'>Step 4.5 |</span><span style='color:#ff6200'> Cancellation Insights</span></b>\n",
        "⬆️ [Tabel of Contents](#contents_tabel)"
      ],
      "metadata": {
        "id": "wBQ5Lhco3cB2"
      }
    },
    {
      "cell_type": "markdown",
      "source": [
        "<div style=\"border-radius:10px; padding: 15px; background-color: #ffeacc; font-size:120%; text-align:left\">\n",
        "\n",
        "In this step, I am going to delve deeper into the cancellation patterns of customers to gain insights that can enhance our customer segmentation model. The features I am planning to introduce are:\n",
        "\n",
        "- __Cancellation Frequency__: This metric represents the total number of transactions a customer has canceled. Understanding the frequency of cancellations can help us identify customers who are more likely to cancel transactions. This could be an indicator of dissatisfaction or other issues, and understanding this can help us tailor strategies to reduce cancellations and enhance customer satisfaction.\n",
        "\n",
        "    \n",
        "- __Cancellation Rate__: This represents the proportion of transactions that a customer has canceled out of all their transactions. This metric gives a normalized view of cancellation behavior. A high cancellation rate might be indicative of an unsatisfied customer segment. By identifying these segments, we can develop targeted strategies to improve their shopping experience and potentially reduce the cancellation rate.\n",
        "\n",
        "By incorporating these cancellation insights into our dataset, we can build a more comprehensive view of customer behavior, which could potentially aid in creating more effective and nuanced customer segmentation.\n"
      ],
      "metadata": {
        "id": "ySWEg0pj3cB2"
      }
    },
    {
      "cell_type": "code",
      "source": [
        "# Calculate the total number of transactions made by each customer\n",
        "total_transactions = df.groupby('CustomerID')['InvoiceNo'].nunique().reset_index()\n",
        "\n",
        "# Calculate the number of cancelled transactions for each customer\n",
        "cancelled_transactions = df[df['Transaction_Status'] == 'Cancelled']\n",
        "cancellation_frequency = cancelled_transactions.groupby('CustomerID')['InvoiceNo'].nunique().reset_index()\n",
        "cancellation_frequency.rename(columns={'InvoiceNo': 'Cancellation_Frequency'}, inplace=True)\n",
        "\n",
        "# Merge the Cancellation Frequency data into the customer_data dataframe\n",
        "customer_data = pd.merge(customer_data, cancellation_frequency, on='CustomerID', how='left')\n",
        "\n",
        "# Replace NaN values with 0 (for customers who have not cancelled any transaction)\n",
        "customer_data['Cancellation_Frequency'].fillna(0, inplace=True)\n",
        "\n",
        "# Calculate the Cancellation Rate\n",
        "customer_data['Cancellation_Rate'] = customer_data['Cancellation_Frequency'] / total_transactions['InvoiceNo']\n",
        "\n",
        "# Display the first few rows of the customer_data dataframe\n",
        "customer_data.head()"
      ],
      "metadata": {
        "execution": {
          "iopub.status.busy": "2023-09-13T18:53:30.746891Z",
          "iopub.execute_input": "2023-09-13T18:53:30.747207Z",
          "iopub.status.idle": "2023-09-13T18:53:30.934697Z",
          "shell.execute_reply.started": "2023-09-13T18:53:30.74718Z",
          "shell.execute_reply": "2023-09-13T18:53:30.933492Z"
        },
        "trusted": true,
        "id": "JFRMfMBZ3cB3"
      },
      "execution_count": null,
      "outputs": []
    },
    {
      "cell_type": "markdown",
      "source": [
        "<a id=\"seasonality_trends\"></a>\n",
        "# <b><span style='color:#fcc36d'>Step 4.6 |</span><span style='color:#ff6200'> Seasonality & Trends</span></b>\n",
        "⬆️ [Tabel of Contents](#contents_tabel)"
      ],
      "metadata": {
        "id": "i2fmIcFJ3cB3"
      }
    },
    {
      "cell_type": "markdown",
      "source": [
        "<div style=\"border-radius:10px; padding: 15px; background-color: #ffeacc; font-size:120%; text-align:left\">\n",
        "\n",
        "In this step, I will delve into the seasonality and trends in customers' purchasing behaviors, which can offer invaluable insights for tailoring marketing strategies and enhancing customer satisfaction. Here are the features I am looking to introduce:\n",
        "\n",
        "- __Monthly_Spending_Mean__: This is the average amount a customer spends monthly. It helps us gauge the general spending habit of each customer. A higher mean indicates a customer who spends more, potentially showing interest in premium products, whereas a lower mean might indicate a more budget-conscious customer.\n",
        "\n",
        "    \n",
        "- __Monthly_Spending_Std__: This feature indicates the variability in a customer's monthly spending. A higher value signals that the customer's spending fluctuates significantly month-to-month, perhaps indicating sporadic large purchases. In contrast, a lower value suggests more stable, consistent spending habits. Understanding this variability can help in crafting personalized promotions or discounts during periods they are expected to spend more.\n",
        "\n",
        "    \n",
        "- __Spending_Trend__: This reflects the trend in a customer's spending over time, calculated as the slope of the linear trend line fitted to their spending data. A positive value indicates an increasing trend in spending, possibly pointing to growing loyalty or satisfaction. Conversely, a negative trend might signal decreasing interest or satisfaction, highlighting a need for re-engagement strategies. A near-zero value signifies stable spending habits. Recognizing these trends can help in developing strategies to either maintain or alter customer spending patterns, enhancing the effectiveness of marketing campaigns.\n",
        "\n",
        "By incorporating these detailed insights into our customer segmentation model, we can create more precise and actionable customer groups, facilitating the development of highly targeted marketing strategies and promotions.\n"
      ],
      "metadata": {
        "id": "AMzDMvAy3cB3"
      }
    },
    {
      "cell_type": "code",
      "source": [
        "# Extract month and year from InvoiceDate\n",
        "df['Year'] = df['InvoiceDate'].dt.year\n",
        "df['Month'] = df['InvoiceDate'].dt.month\n",
        "\n",
        "# Calculate monthly spending for each customer\n",
        "monthly_spending = df.groupby(['CustomerID', 'Year', 'Month'])['Total_Spend'].sum().reset_index()\n",
        "\n",
        "# Calculate Seasonal Buying Patterns: We are using monthly frequency as a proxy for seasonal buying patterns\n",
        "seasonal_buying_patterns = monthly_spending.groupby('CustomerID')['Total_Spend'].agg(['mean', 'std']).reset_index()\n",
        "seasonal_buying_patterns.rename(columns={'mean': 'Monthly_Spending_Mean', 'std': 'Monthly_Spending_Std'}, inplace=True)\n",
        "\n",
        "# Replace NaN values in Monthly_Spending_Std with 0, implying no variability for customers with single transaction month\n",
        "seasonal_buying_patterns['Monthly_Spending_Std'].fillna(0, inplace=True)\n",
        "\n",
        "# Calculate Trends in Spending\n",
        "# We are using the slope of the linear trend line fitted to the customer's spending over time as an indicator of spending trends\n",
        "def calculate_trend(spend_data):\n",
        "    # If there are more than one data points, we calculate the trend using linear regression\n",
        "    if len(spend_data) > 1:\n",
        "        x = np.arange(len(spend_data))\n",
        "        slope, _, _, _, _ = linregress(x, spend_data)\n",
        "        return slope\n",
        "    # If there is only one data point, no trend can be calculated, hence we return 0\n",
        "    else:\n",
        "        return 0\n",
        "\n",
        "# Apply the calculate_trend function to find the spending trend for each customer\n",
        "spending_trends = monthly_spending.groupby('CustomerID')['Total_Spend'].apply(calculate_trend).reset_index()\n",
        "spending_trends.rename(columns={'Total_Spend': 'Spending_Trend'}, inplace=True)\n",
        "\n",
        "# Merge the new features into the customer_data dataframe\n",
        "customer_data = pd.merge(customer_data, seasonal_buying_patterns, on='CustomerID')\n",
        "customer_data = pd.merge(customer_data, spending_trends, on='CustomerID')\n",
        "\n",
        "# Display the first few rows of the customer_data dataframe\n",
        "customer_data.head()"
      ],
      "metadata": {
        "execution": {
          "iopub.status.busy": "2023-09-13T18:53:30.936259Z",
          "iopub.execute_input": "2023-09-13T18:53:30.936679Z",
          "iopub.status.idle": "2023-09-13T18:53:31.675277Z",
          "shell.execute_reply.started": "2023-09-13T18:53:30.936647Z",
          "shell.execute_reply": "2023-09-13T18:53:31.674008Z"
        },
        "trusted": true,
        "id": "8RCknTvx3cB4"
      },
      "execution_count": null,
      "outputs": []
    },
    {
      "cell_type": "markdown",
      "source": [
        "<div style=\"border-radius:10px; padding: 15px; background-color: #ffeacc; font-size:120%; text-align:left\">\n",
        "\n",
        "We've done a great job so far! We have created a dataset that focuses on our customers, using a variety of new features that give us a deeper understanding of their buying patterns and preferences."
      ],
      "metadata": {
        "id": "dYzlPk5x3cB4"
      }
    },
    {
      "cell_type": "code",
      "source": [
        "# Changing the data type of 'CustomerID' to string as it is a unique identifier and not used in mathematical operations\n",
        "customer_data['CustomerID'] = customer_data['CustomerID'].astype(str)\n",
        "\n",
        "# Convert data types of columns to optimal types\n",
        "customer_data = customer_data.convert_dtypes()"
      ],
      "metadata": {
        "execution": {
          "iopub.status.busy": "2023-09-13T18:53:31.676888Z",
          "iopub.execute_input": "2023-09-13T18:53:31.677616Z",
          "iopub.status.idle": "2023-09-13T18:53:31.707847Z",
          "shell.execute_reply.started": "2023-09-13T18:53:31.677572Z",
          "shell.execute_reply": "2023-09-13T18:53:31.706425Z"
        },
        "trusted": true,
        "id": "AKECcRY33cB4"
      },
      "execution_count": null,
      "outputs": []
    },
    {
      "cell_type": "code",
      "source": [
        "customer_data.head(10)"
      ],
      "metadata": {
        "execution": {
          "iopub.status.busy": "2023-09-13T18:53:31.70926Z",
          "iopub.execute_input": "2023-09-13T18:53:31.709635Z",
          "iopub.status.idle": "2023-09-13T18:53:31.738538Z",
          "shell.execute_reply.started": "2023-09-13T18:53:31.709605Z",
          "shell.execute_reply": "2023-09-13T18:53:31.737111Z"
        },
        "trusted": true,
        "id": "CAtN0PQ33cB5"
      },
      "execution_count": null,
      "outputs": []
    },
    {
      "cell_type": "code",
      "source": [
        "customer_data.info()"
      ],
      "metadata": {
        "execution": {
          "iopub.status.busy": "2023-09-13T18:53:31.740456Z",
          "iopub.execute_input": "2023-09-13T18:53:31.740901Z",
          "iopub.status.idle": "2023-09-13T18:53:31.758008Z",
          "shell.execute_reply.started": "2023-09-13T18:53:31.740861Z",
          "shell.execute_reply": "2023-09-13T18:53:31.756836Z"
        },
        "trusted": true,
        "id": "4Tw-ewWs3cB5"
      },
      "execution_count": null,
      "outputs": []
    },
    {
      "cell_type": "markdown",
      "source": [
        "<div style=\"border-radius:10px; padding: 15px; background-color: #ffeacc; font-size:120%; text-align:left\">\n",
        "    \n",
        "Let's review the descriptions of the columns in our newly created `customer_data` dataset:"
      ],
      "metadata": {
        "id": "BG0Z2Qx23cB5"
      }
    },
    {
      "cell_type": "markdown",
      "source": [
        "<div style=\"border-radius:10px; padding: 15px; background-color: #ffeacc; font-size:130%; text-align:left\">\n",
        "\n",
        "<h2 align=\"left\"><font color=#ff6200>Customer Dataset Description:</font></h2>\n",
        "\n",
        "| __Variable__                       | __Description__ |\n",
        "|     :---                           |       :---      |\n",
        "| __CustomerID__                     | Identifier uniquely assigned to each customer, used to distinguish individual customers. |\n",
        "| __Days_Since_Last_Purchase__       | The number of days that have passed since the customer's last purchase. |\n",
        "| __Total_Transactions__             | The total number of transactions made by the customer. |\n",
        "| __Total_Products_Purchased__       | The total quantity of products purchased by the customer across all transactions. |\n",
        "| __Total_Spend__                    | The total amount of money the customer has spent across all transactions. |\n",
        "| __Average_Transaction_Value__      | The average value of the customer's transactions, calculated as total spend divided by the number of transactions. |\n",
        "| __Unique_Products_Purchased__      | The number of different products the customer has purchased. |\n",
        "| __Average_Days_Between_Purchases__ | The average number of days between consecutive purchases made by the customer. |\n",
        "| __Day_Of_Week__                    | The day of the week when the customer prefers to shop, represented numerically (0 for Monday, 6 for Sunday). |\n",
        "| __Hour__                           | The hour of the day when the customer prefers to shop, represented in a 24-hour format. |\n",
        "| __Is_UK__                          | A binary variable indicating whether the customer is based in the UK (1) or not (0). |\n",
        "| __Cancellation_Frequency__         | The total number of transactions that the customer has cancelled. |\n",
        "| __Cancellation_Rate__              | The proportion of transactions that the customer has cancelled, calculated as cancellation frequency divided by total transactions. |\n",
        "| __Monthly_Spending_Mean__          | The average monthly spending of the customer. |\n",
        "| __Monthly_Spending_Std__           | The standard deviation of the customer's monthly spending, indicating the variability in their spending pattern. |\n",
        "| __Spending_Trend__                 | A numerical representation of the trend in the customer's spending over time. A positive value indicates an increasing trend, a negative value indicates a decreasing trend, and a value close to zero indicates a stable trend. |\n"
      ],
      "metadata": {
        "id": "Z25EMoDd3cB6"
      }
    },
    {
      "cell_type": "markdown",
      "source": [
        "<div style=\"border-radius:10px; padding: 15px; background-color: #ffeacc; font-size:120%; text-align:left\">\n",
        "\n",
        "We've done a great job so far! We have created a dataset that focuses on our customers, using a variety of new features that give us a deeper understanding of their buying patterns and preferences.\n",
        "\n",
        "Now that our dataset is ready, we can move on to the next steps of our project. This includes looking at our data more closely to find any patterns or trends, making sure our data is in the best shape by checking for and handling any outliers, and preparing our data for the clustering process. All of these steps will help us build a strong foundation for creating our customer segments and, eventually, a personalized recommendation system."
      ],
      "metadata": {
        "id": "-M1D-8km3cB6"
      }
    },
    {
      "cell_type": "markdown",
      "source": [
        "<h3 align=\"left\"><font color=#ff6200>Let's dive in!</font></h3>"
      ],
      "metadata": {
        "id": "cnSJQV_d3cB6"
      }
    },
    {
      "cell_type": "markdown",
      "source": [
        "<a id=\"outlier_detection\"></a>\n",
        "# <p style=\"background-color: #ff6200; font-family:calibri; color:white; font-size:140%; font-family:Verdana; text-align:center; border-radius:15px 50px;\">Step 5 | Outlier Detection and Treatment</p>\n",
        "⬆️ [Tabel of Contents](#contents_tabel)"
      ],
      "metadata": {
        "id": "doqyEFqZ3cB7"
      }
    },
    {
      "cell_type": "markdown",
      "source": [
        "<div style=\"border-radius:10px; padding: 15px; background-color: #ffeacc; font-size:120%; text-align:left\">\n",
        "\n",
        "In this section, I will identify and handle outliers in our dataset. Outliers are data points that are significantly different from the majority of other points in the dataset. These points can potentially skew the results of our analysis, especially in k-means clustering where they can significantly influence the position of the cluster centroids. Therefore, it is essential to identify and treat these outliers appropriately to achieve more accurate and meaningful clustering results.\n",
        "\n",
        "Given the multi-dimensional nature of the data, it would be prudent to use algorithms that can detect outliers in multi-dimensional spaces. I am going to use the __Isolation Forest__ algorithm for this task. This algorithm works well for multi-dimensional data and is computationally efficient. It isolates observations by randomly selecting a feature and then randomly selecting a split value between the maximum and minimum values of the selected feature.\n",
        "\n",
        "Let's proceed with this approach:"
      ],
      "metadata": {
        "id": "kdQuQ5JA3cB7"
      }
    },
    {
      "cell_type": "code",
      "source": [
        "# Initializing the IsolationForest model with a contamination parameter of 0.05\n",
        "model = IsolationForest(contamination=0.05, random_state=0)\n",
        "\n",
        "# Fitting the model on our dataset (converting DataFrame to NumPy to avoid warning)\n",
        "customer_data['Outlier_Scores'] = model.fit_predict(customer_data.iloc[:, 1:].to_numpy())\n",
        "\n",
        "# Creating a new column to identify outliers (1 for inliers and -1 for outliers)\n",
        "customer_data['Is_Outlier'] = [1 if x == -1 else 0 for x in customer_data['Outlier_Scores']]\n",
        "\n",
        "# Display the first few rows of the customer_data dataframe\n",
        "customer_data.head()"
      ],
      "metadata": {
        "execution": {
          "iopub.status.busy": "2023-09-13T18:53:31.759615Z",
          "iopub.execute_input": "2023-09-13T18:53:31.760049Z",
          "iopub.status.idle": "2023-09-13T18:53:32.356373Z",
          "shell.execute_reply.started": "2023-09-13T18:53:31.760009Z",
          "shell.execute_reply": "2023-09-13T18:53:32.355105Z"
        },
        "trusted": true,
        "id": "K__UbmGC3cB7"
      },
      "execution_count": null,
      "outputs": []
    },
    {
      "cell_type": "markdown",
      "source": [
        "<div style=\"border-radius:10px; padding: 15px; background-color: #ffeacc; font-size:120%; text-align:left\">\n",
        "    \n",
        "After applying the Isolation Forest algorithm, we have identified the outliers and marked them in a new column named `Is_Outlier`. We have also calculated the outlier scores which represent the anomaly score of each record.\n",
        "\n",
        "Now let's visualize the distribution of these scores and the number of inliers and outliers detected by the model:"
      ],
      "metadata": {
        "id": "JqlUK5Zz3cB8"
      }
    },
    {
      "cell_type": "code",
      "source": [
        "# Calculate the percentage of inliers and outliers\n",
        "outlier_percentage = customer_data['Is_Outlier'].value_counts(normalize=True) * 100\n",
        "\n",
        "# Plotting the percentage of inliers and outliers\n",
        "plt.figure(figsize=(12, 4))\n",
        "outlier_percentage.plot(kind='barh', color='#ff6200')\n",
        "\n",
        "# Adding the percentage labels on the bars\n",
        "for index, value in enumerate(outlier_percentage):\n",
        "    plt.text(value, index, f'{value:.2f}%', fontsize=15)\n",
        "\n",
        "plt.title('Percentage of Inliers and Outliers')\n",
        "plt.xticks(ticks=np.arange(0, 115, 5))\n",
        "plt.xlabel('Percentage (%)')\n",
        "plt.ylabel('Is Outlier')\n",
        "plt.gca().invert_yaxis()\n",
        "plt.show()"
      ],
      "metadata": {
        "execution": {
          "iopub.status.busy": "2023-09-13T18:53:32.358029Z",
          "iopub.execute_input": "2023-09-13T18:53:32.358387Z",
          "iopub.status.idle": "2023-09-13T18:53:32.888918Z",
          "shell.execute_reply.started": "2023-09-13T18:53:32.358327Z",
          "shell.execute_reply": "2023-09-13T18:53:32.887796Z"
        },
        "trusted": true,
        "id": "woZwdCVr3cCD"
      },
      "execution_count": null,
      "outputs": []
    },
    {
      "cell_type": "markdown",
      "source": [
        "<div style=\"border-radius:10px; padding: 15px; background-color: #ffeacc; font-size:120%; text-align:left\">\n",
        "<h3 align=\"left\"><font color=#ff6200>Inference: </font></h3>\n",
        "    \n",
        "From the above plot, we can observe that about 5% of the customers have been identified as outliers in our dataset. This percentage seems to be a reasonable proportion, not too high to lose a significant amount of data, and not too low to retain potentially noisy data points. It suggests that our isolation forest algorithm has worked well in identifying a moderate percentage of outliers, which will be critical in refining our customer segmentation."
      ],
      "metadata": {
        "id": "tbjsbqvC3cCE"
      }
    },
    {
      "cell_type": "markdown",
      "source": [
        "<div style=\"border-radius:10px; padding: 15px; background-color: #ffeacc; font-size:120%; text-align:left\">\n",
        "<h3 align=\"left\"><font color=#ff6200>Strategy: </font></h3>\n",
        "\n",
        "Considering the nature of the project (customer segmentation using clustering), it is crucial to handle these outliers to prevent them from affecting the clusters' quality significantly. Therefore, I will separate these outliers for further analysis and remove them from our main dataset to prepare it for the clustering analysis.\n",
        "\n",
        "Let's proceed with the following steps:\n",
        "\n",
        "- Separate the identified outliers for further analysis and save them as a separate file (optional).\n",
        "- Remove the outliers from the main dataset to prevent them from influencing the clustering process.\n",
        "- Drop the `Outlier_Scores` and `Is_Outlier` columns as they were auxiliary columns used for the outlier detection process.\n",
        "\n",
        "Let's implement these steps:"
      ],
      "metadata": {
        "id": "_o3pCS3y3cCE"
      }
    },
    {
      "cell_type": "code",
      "source": [
        "# Separate the outliers for analysis\n",
        "outliers_data = customer_data[customer_data['Is_Outlier'] == 1]\n",
        "\n",
        "# Remove the outliers from the main dataset\n",
        "customer_data_cleaned = customer_data[customer_data['Is_Outlier'] == 0]\n",
        "\n",
        "# Drop the 'Outlier_Scores' and 'Is_Outlier' columns\n",
        "customer_data_cleaned = customer_data_cleaned.drop(columns=['Outlier_Scores', 'Is_Outlier'])\n",
        "\n",
        "# Reset the index of the cleaned data\n",
        "customer_data_cleaned.reset_index(drop=True, inplace=True)"
      ],
      "metadata": {
        "execution": {
          "iopub.status.busy": "2023-09-13T18:53:32.890464Z",
          "iopub.execute_input": "2023-09-13T18:53:32.890929Z",
          "iopub.status.idle": "2023-09-13T18:53:32.910277Z",
          "shell.execute_reply.started": "2023-09-13T18:53:32.890889Z",
          "shell.execute_reply": "2023-09-13T18:53:32.90881Z"
        },
        "trusted": true,
        "id": "VuL1-goo3cCE"
      },
      "execution_count": null,
      "outputs": []
    },
    {
      "cell_type": "markdown",
      "source": [
        "<div style=\"border-radius:10px; padding: 15px; background-color: #ffeacc; font-size:120%; text-align:left\">\n",
        "    \n",
        "We have successfully separated the outliers for further analysis and cleaned our main dataset by removing these outliers. This cleaned dataset is now ready for the next steps in our customer segmentation project, which includes scaling the features and applying clustering algorithms to identify distinct customer segments."
      ],
      "metadata": {
        "id": "wZfrx9VC3cCF"
      }
    },
    {
      "cell_type": "code",
      "source": [
        "# Getting the number of rows in the cleaned customer dataset\n",
        "customer_data_cleaned.shape[0]"
      ],
      "metadata": {
        "execution": {
          "iopub.status.busy": "2023-09-13T18:53:32.911797Z",
          "iopub.execute_input": "2023-09-13T18:53:32.912232Z",
          "iopub.status.idle": "2023-09-13T18:53:32.919436Z",
          "shell.execute_reply.started": "2023-09-13T18:53:32.912192Z",
          "shell.execute_reply": "2023-09-13T18:53:32.918569Z"
        },
        "trusted": true,
        "id": "Mk9pbajl3cCF"
      },
      "execution_count": null,
      "outputs": []
    },
    {
      "cell_type": "markdown",
      "source": [
        "<a id=\"correlation\"></a>\n",
        "# <p style=\"background-color: #ff6200; font-family:calibri; color:white; font-size:140%; font-family:Verdana; text-align:center; border-radius:15px 50px;\">Step 6 | Correlation Analysis</p>\n",
        "⬆️ [Tabel of Contents](#contents_tabel)"
      ],
      "metadata": {
        "id": "hPJZuEhF3cCF"
      }
    },
    {
      "cell_type": "markdown",
      "source": [
        "<div style=\"border-radius:10px; padding: 15px; background-color: #ffeacc; font-size:120%; text-align:left\">\n",
        "\n",
        "Before we proceed to KMeans clustering, it's essential to check the correlation between features in our dataset. The presence of __multicollinearity__, where __features are highly correlated__, can potentially affect the clustering process by not allowing the model to learn the actual underlying patterns in the data, as the features do not provide unique information. This could lead to clusters that are not well-separated and meaningful.\n",
        "\n",
        "If we identify multicollinearity, we can utilize dimensionality reduction techniques like PCA. These techniques help in neutralizing the effect of multicollinearity by transforming the correlated features into a new set of uncorrelated variables, preserving most of the original data's variance. This step not only enhances the quality of clusters formed but also makes the clustering process more computationally efficient."
      ],
      "metadata": {
        "id": "OBnfmf0R3cCG"
      }
    },
    {
      "cell_type": "code",
      "source": [
        "# Reset background style\n",
        "sns.set_style('whitegrid')\n",
        "\n",
        "# Calculate the correlation matrix excluding the 'CustomerID' column\n",
        "corr = customer_data_cleaned.drop(columns=['CustomerID']).corr()\n",
        "\n",
        "# Define a custom colormap\n",
        "colors = ['#ff6200', '#ffcaa8', 'white', '#ffcaa8', '#ff6200']\n",
        "my_cmap = LinearSegmentedColormap.from_list('custom_map', colors, N=256)\n",
        "\n",
        "# Create a mask to only show the lower triangle of the matrix (since it's mirrored around its\n",
        "# top-left to bottom-right diagonal)\n",
        "mask = np.zeros_like(corr)\n",
        "mask[np.triu_indices_from(mask, k=1)] = True\n",
        "\n",
        "# Plot the heatmap\n",
        "plt.figure(figsize=(12, 10))\n",
        "sns.heatmap(corr, mask=mask, cmap=my_cmap, annot=True, center=0, fmt='.2f', linewidths=2)\n",
        "plt.title('Correlation Matrix', fontsize=14)\n",
        "plt.show()"
      ],
      "metadata": {
        "execution": {
          "iopub.status.busy": "2023-09-13T18:53:32.920795Z",
          "iopub.execute_input": "2023-09-13T18:53:32.921375Z",
          "iopub.status.idle": "2023-09-13T18:53:34.017938Z",
          "shell.execute_reply.started": "2023-09-13T18:53:32.92132Z",
          "shell.execute_reply": "2023-09-13T18:53:34.016639Z"
        },
        "trusted": true,
        "id": "Qwrsx1w73cCG"
      },
      "execution_count": null,
      "outputs": []
    },
    {
      "cell_type": "markdown",
      "source": [
        "<div style=\"border-radius:10px; padding: 15px; background-color: #ffeacc; font-size:120%; text-align:left\">\n",
        "<h3 align=\"left\"><font color=#ff6200>Inference: </font></h3>\n",
        "\n",
        "Looking at the heatmap, we can see that there are some pairs of variables that have high correlations, for instance:\n",
        "\n",
        "- `Monthly_Spending_Mean` and `Average_Transaction_Value`\n",
        "    \n",
        "    \n",
        "- `Total_Spend` and `Total_Products_Purchased`\n",
        "\n",
        "    \n",
        "- `Total_Transactions` and `Total_Spend`\n",
        "    \n",
        "    \n",
        "- `Cancellation_Rate` and `Cancellation_Frequency`\n",
        "    \n",
        "    \n",
        "- `Total_Transactions` and `Total_Products_Purchased`\n",
        "\n",
        "    \n",
        "These high correlations indicate that these variables move closely together, implying a degree of multicollinearity."
      ],
      "metadata": {
        "id": "6zfgp1623cCG"
      }
    },
    {
      "cell_type": "markdown",
      "source": [
        "<div style=\"border-radius:10px; padding: 15px; background-color: #ffeacc; font-size:120%; text-align:left\">\n",
        "    \n",
        "\n",
        "Before moving to the next steps, considering the impact of multicollinearity on KMeans clustering, it might be beneficial to treat this multicollinearity possibly through dimensionality reduction techniques such as PCA to create a set of uncorrelated variables. This will help in achieving more stable clusters during the KMeans clustering process."
      ],
      "metadata": {
        "id": "63bu1Ayi3cCH"
      }
    },
    {
      "cell_type": "markdown",
      "source": [
        "<a id=\"scaling\"></a>\n",
        "# <p style=\"background-color: #ff6200; font-family:calibri; color:white; font-size:140%; font-family:Verdana; text-align:center; border-radius:15px 50px;\">Step 7 | Feature Scaling</p>\n",
        "⬆️ [Tabel of Contents](#contents_tabel)"
      ],
      "metadata": {
        "id": "-RU9ezpy3cCH"
      }
    },
    {
      "cell_type": "markdown",
      "source": [
        "<div style=\"border-radius:10px; padding: 15px; background-color: #ffeacc; font-size:120%; text-align:left\">\n",
        "\n",
        "Before we move forward with the clustering and dimensionality reduction, it's imperative to scale our features. This step holds significant importance, especially in the context of distance-based algorithms like K-means and dimensionality reduction methods like PCA. Here's why:\n",
        "\n",
        "  - __For K-means Clustering__: K-means relies heavily on the concept of '__distance__' between data points to form clusters. When features are not on a similar scale, features with larger values can disproportionately influence the clustering outcome, potentially leading to incorrect groupings.\n",
        "  \n",
        "    \n",
        "  - __For PCA__: PCA aims to find the directions where the data varies the most. When features are not scaled, those with larger values might dominate these components, not accurately reflecting the underlying patterns in the data.\n"
      ],
      "metadata": {
        "id": "AaAR-S793cCH"
      }
    },
    {
      "cell_type": "markdown",
      "source": [
        "<div style=\"border-radius:10px; padding: 15px; background-color: #ffeacc; font-size:120%; text-align:left\">\n",
        "<h3 align=\"left\"><font color=#ff6200>Methodology: </font></h3>\n",
        "    \n",
        "Therefore, to ensure a balanced influence on the model and to reveal the true patterns in the data, I am going to standardize our data, meaning transforming the features to have a mean of 0 and a standard deviation of 1. However, not all features require scaling. Here are the exceptions and the reasons why they are excluded:\n",
        "\n",
        "- __CustomerID__: This feature is just an identifier for the customers and does not contain any meaningful information for clustering.\n",
        "    \n",
        "    \n",
        "- __Is_UK__: This is a binary feature indicating whether the customer is from the UK or not. Since it already takes a value of 0 or 1, scaling it won't make any significant difference.\n",
        "    \n",
        "    \n",
        "- __Day_Of_Week__: This feature represents the most frequent day of the week that the customer made transactions. Since it's a categorical feature represented by integers (1 to 7), scaling it would not be necessary.\n",
        "\n",
        "    \n",
        "I will proceed to scale the other features in the dataset to prepare it for PCA and K-means clustering."
      ],
      "metadata": {
        "id": "Yen8X1QS3cCH"
      }
    },
    {
      "cell_type": "code",
      "source": [
        "# Initialize the StandardScaler\n",
        "scaler = StandardScaler()\n",
        "\n",
        "# List of columns that don't need to be scaled\n",
        "columns_to_exclude = ['CustomerID', 'Is_UK', 'Day_Of_Week']\n",
        "\n",
        "# List of columns that need to be scaled\n",
        "columns_to_scale = customer_data_cleaned.columns.difference(columns_to_exclude)\n",
        "\n",
        "# Copy the cleaned dataset\n",
        "customer_data_scaled = customer_data_cleaned.copy()\n",
        "\n",
        "# Applying the scaler to the necessary columns in the dataset\n",
        "customer_data_scaled[columns_to_scale] = scaler.fit_transform(customer_data_scaled[columns_to_scale])\n",
        "\n",
        "# Display the first few rows of the scaled data\n",
        "customer_data_scaled.head()"
      ],
      "metadata": {
        "execution": {
          "iopub.status.busy": "2023-09-13T18:53:34.019534Z",
          "iopub.execute_input": "2023-09-13T18:53:34.019934Z",
          "iopub.status.idle": "2023-09-13T18:53:34.062026Z",
          "shell.execute_reply.started": "2023-09-13T18:53:34.0199Z",
          "shell.execute_reply": "2023-09-13T18:53:34.060834Z"
        },
        "trusted": true,
        "id": "YTTPIAwx3cCI"
      },
      "execution_count": null,
      "outputs": []
    },
    {
      "cell_type": "markdown",
      "source": [
        "<a id=\"pca\"></a>\n",
        "# <p style=\"background-color: #ff6200; font-family:calibri; color:white; font-size:140%; font-family:Verdana; text-align:center; border-radius:15px 50px;\">Step 8 | Dimensionality Reduction</p>\n",
        "⬆️ [Tabel of Contents](#contents_tabel)"
      ],
      "metadata": {
        "id": "3Fr5FCvp3cCI"
      }
    },
    {
      "cell_type": "markdown",
      "source": [
        "<div style=\"border-radius:10px; padding: 15px; background-color: #ffeacc; font-size:120%; text-align:left\">\n",
        "<h3 align=\"left\"><font color=#ff6200>Why We Need Dimensionality Reduction? </font></h3>\n",
        "\n",
        "- __Multicollinearity Detected__: In the previous steps, we identified that our dataset contains multicollinear features. Dimensionality reduction can help us remove redundant information and alleviate the multicollinearity issue.\n",
        "\n",
        "    \n",
        "- __Better Clustering with K-means__: Since K-means is a distance-based algorithm, having a large number of features can sometimes dilute the meaningful underlying patterns in the data. By reducing the dimensionality, we can help K-means to find more compact and well-separated clusters.    \n",
        "   \n",
        "    \n",
        "- __Noise Reduction__: By focusing only on the most important features, we can potentially remove noise in the data, leading to more accurate and stable clusters.    \n",
        "   \n",
        "    \n",
        "- __Enhanced Visualization__: In the context of customer segmentation, being able to visualize customer groups in two or three dimensions can provide intuitive insights. Dimensionality reduction techniques can facilitate this by reducing the data to a few principal components which can be plotted easily.\n",
        "    \n",
        "    \n",
        "- __Improved Computational Efficiency__: Reducing the number of features can speed up the computation time during the modeling process, making our clustering algorithm more efficient.\n",
        "\n",
        "\n",
        "Let's proceed to select an appropriate dimensionality reduction method to our data."
      ],
      "metadata": {
        "id": "kaNoACdO3cCI"
      }
    },
    {
      "cell_type": "markdown",
      "source": [
        "<div style=\"border-radius:10px; padding: 15px; background-color: #ffeacc; font-size:120%; text-align:left\">\n",
        "<h3 align=\"left\"><font color=#ff6200>Which Dimensionality Reduction Method? </font></h3>\n",
        "  \n",
        "    \n",
        "In this step, we are considering the application of dimensionality reduction techniques to simplify our data while retaining the essential information. Among various methods such as KernelPCA, ICA, ISOMAP, TSNE, and UMAP, I am starting with **PCA (Principal Component Analysis)**. Here's why:\n",
        "\n",
        "PCA is an excellent starting point because it works well in capturing linear relationships in the data, which is particularly relevant given the multicollinearity we identified in our dataset. It allows us to reduce the number of features in our dataset while still retaining a significant amount of the information, thus making our clustering analysis potentially more accurate and interpretable. Moreover, it is computationally efficient, which means it won't significantly increase the processing time.\n",
        "\n",
        "However, it's essential to note that we are keeping our options open. After applying PCA, if we find that the first few components do not capture a significant amount of variance, indicating a loss of vital information, we might consider exploring other non-linear methods. These methods can potentially provide a more nuanced approach to dimensionality reduction, capturing complex patterns that PCA might miss, albeit at the cost of increased computational time and complexity.\n",
        "\n"
      ],
      "metadata": {
        "id": "hrNx26e-3cCJ"
      }
    },
    {
      "cell_type": "markdown",
      "source": [
        "<div style=\"border-radius:10px; padding: 15px; background-color: #ffeacc; font-size:120%; text-align:left\">\n",
        "<h3 align=\"left\"><font color=#ff6200>Methodology </font></h3>\n",
        "\n",
        "I will apply PCA on all the available components and plot the cumulative variance explained by them. This process will allow me to visualize how much variance each additional principal component can explain, thereby helping me to pinpoint the optimal number of components to retain for the analysis:"
      ],
      "metadata": {
        "id": "RjbvMMlE3cCJ"
      }
    },
    {
      "cell_type": "code",
      "source": [
        "# Setting CustomerID as the index column\n",
        "customer_data_scaled.set_index('CustomerID', inplace=True)\n",
        "\n",
        "# Apply PCA\n",
        "pca = PCA().fit(customer_data_scaled)\n",
        "\n",
        "# Calculate the Cumulative Sum of the Explained Variance\n",
        "explained_variance_ratio = pca.explained_variance_ratio_\n",
        "cumulative_explained_variance = np.cumsum(explained_variance_ratio)\n",
        "\n",
        "# Set the optimal k value (based on our analysis, we can choose 6)\n",
        "optimal_k = 6\n",
        "\n",
        "# Set seaborn plot style\n",
        "sns.set(rc={'axes.facecolor': '#fcf0dc'}, style='darkgrid')\n",
        "\n",
        "# Plot the cumulative explained variance against the number of components\n",
        "plt.figure(figsize=(20, 10))\n",
        "\n",
        "# Bar chart for the explained variance of each component\n",
        "barplot = sns.barplot(x=list(range(1, len(cumulative_explained_variance) + 1)),\n",
        "                      y=explained_variance_ratio,\n",
        "                      color='#fcc36d',\n",
        "                      alpha=0.8)\n",
        "\n",
        "# Line plot for the cumulative explained variance\n",
        "lineplot, = plt.plot(range(0, len(cumulative_explained_variance)), cumulative_explained_variance,\n",
        "                     marker='o', linestyle='--', color='#ff6200', linewidth=2)\n",
        "\n",
        "# Plot optimal k value line\n",
        "optimal_k_line = plt.axvline(optimal_k - 1, color='red', linestyle='--', label=f'Optimal k value = {optimal_k}')\n",
        "\n",
        "# Set labels and title\n",
        "plt.xlabel('Number of Components', fontsize=14)\n",
        "plt.ylabel('Explained Variance', fontsize=14)\n",
        "plt.title('Cumulative Variance vs. Number of Components', fontsize=18)\n",
        "\n",
        "# Customize ticks and legend\n",
        "plt.xticks(range(0, len(cumulative_explained_variance)))\n",
        "plt.legend(handles=[barplot.patches[0], lineplot, optimal_k_line],\n",
        "           labels=['Explained Variance of Each Component', 'Cumulative Explained Variance', f'Optimal k value = {optimal_k}'],\n",
        "           loc=(0.62, 0.1),\n",
        "           frameon=True,\n",
        "           framealpha=1.0,\n",
        "           edgecolor='#ff6200')\n",
        "\n",
        "# Display the variance values for both graphs on the plots\n",
        "x_offset = -0.3\n",
        "y_offset = 0.01\n",
        "for i, (ev_ratio, cum_ev_ratio) in enumerate(zip(explained_variance_ratio, cumulative_explained_variance)):\n",
        "    plt.text(i, ev_ratio, f\"{ev_ratio:.2f}\", ha=\"center\", va=\"bottom\", fontsize=10)\n",
        "    if i > 0:\n",
        "        plt.text(i + x_offset, cum_ev_ratio + y_offset, f\"{cum_ev_ratio:.2f}\", ha=\"center\", va=\"bottom\", fontsize=10)\n",
        "\n",
        "plt.grid(axis='both')\n",
        "plt.show()"
      ],
      "metadata": {
        "execution": {
          "iopub.status.busy": "2023-09-13T18:53:34.063521Z",
          "iopub.execute_input": "2023-09-13T18:53:34.063845Z",
          "iopub.status.idle": "2023-09-13T18:53:34.901406Z",
          "shell.execute_reply.started": "2023-09-13T18:53:34.063817Z",
          "shell.execute_reply": "2023-09-13T18:53:34.900145Z"
        },
        "trusted": true,
        "id": "crvEX37Z3cCK"
      },
      "execution_count": null,
      "outputs": []
    },
    {
      "cell_type": "markdown",
      "source": [
        "<div style=\"border-radius:10px; padding: 15px; background-color: #ffeacc; font-size:120%; text-align:left\">\n",
        "<h3 align=\"left\"><font color=#ff6200>Conclusion </font></h3>\n",
        "    \n",
        "The plot and the cumulative explained variance values indicate how much of the total variance in the dataset is captured by each principal component, as well as the cumulative variance explained by the first n components.\n",
        "\n",
        "Here, we can observe that:\n",
        "\n",
        "- The first component explains approximately 28% of the variance.\n",
        "\n",
        "- The first two components together explain about 49% of the variance.\n",
        "\n",
        "- The first three components explain approximately 61% of the variance, and so on.\n",
        "\n",
        "    \n",
        "To choose the optimal number of components, we generally look for a point where adding another component doesn't significantly increase the cumulative explained variance, often referred to as the \"__elbow point__\" in the curve.\n",
        "\n",
        "From the plot, we can see that the increase in cumulative variance starts to slow down after the __6th component__ (which __captures about 81% of the total variance__).\n",
        "\n",
        "Considering the context of customer segmentation, we want to retain a sufficient amount of information to identify distinct customer groups effectively. Therefore, retaining __the first 6 components__ might be a balanced choice, as they together explain a substantial portion of the total variance while reducing the dimensionality of the dataset."
      ],
      "metadata": {
        "id": "HThmQ3fl3cCK"
      }
    },
    {
      "cell_type": "code",
      "source": [
        "# Creating a PCA object with 6 components\n",
        "pca = PCA(n_components=6)\n",
        "\n",
        "# Fitting and transforming the original data to the new PCA dataframe\n",
        "customer_data_pca = pca.fit_transform(customer_data_scaled)\n",
        "\n",
        "# Creating a new dataframe from the PCA dataframe, with columns labeled PC1, PC2, etc.\n",
        "customer_data_pca = pd.DataFrame(customer_data_pca, columns=['PC'+str(i+1) for i in range(pca.n_components_)])\n",
        "\n",
        "# Adding the CustomerID index back to the new PCA dataframe\n",
        "customer_data_pca.index = customer_data_scaled.index"
      ],
      "metadata": {
        "execution": {
          "iopub.status.busy": "2023-09-13T18:53:34.903596Z",
          "iopub.execute_input": "2023-09-13T18:53:34.90408Z",
          "iopub.status.idle": "2023-09-13T18:53:34.951795Z",
          "shell.execute_reply.started": "2023-09-13T18:53:34.904028Z",
          "shell.execute_reply": "2023-09-13T18:53:34.950143Z"
        },
        "trusted": true,
        "id": "-AShCtxj3cCL"
      },
      "execution_count": null,
      "outputs": []
    },
    {
      "cell_type": "code",
      "source": [
        "# Displaying the resulting dataframe based on the PCs\n",
        "customer_data_pca.head()"
      ],
      "metadata": {
        "execution": {
          "iopub.status.busy": "2023-09-13T18:53:34.954271Z",
          "iopub.execute_input": "2023-09-13T18:53:34.955588Z",
          "iopub.status.idle": "2023-09-13T18:53:34.999178Z",
          "shell.execute_reply.started": "2023-09-13T18:53:34.955544Z",
          "shell.execute_reply": "2023-09-13T18:53:34.997832Z"
        },
        "trusted": true,
        "id": "dzoeP3N63cCL"
      },
      "execution_count": null,
      "outputs": []
    },
    {
      "cell_type": "markdown",
      "source": [
        "<div style=\"border-radius:10px; padding: 15px; background-color: #ffeacc; font-size:120%; text-align:left\">\n",
        "\n",
        "Now, let's extract the coefficients corresponding to each principal component to better understand the transformation performed by PCA:"
      ],
      "metadata": {
        "id": "DiOz7oOQ3cCM"
      }
    },
    {
      "cell_type": "code",
      "source": [
        "# Define a function to highlight the top 3 absolute values in each column of a dataframe\n",
        "def highlight_top3(column):\n",
        "    top3 = column.abs().nlargest(3).index\n",
        "    return ['background-color:  #ffeacc' if i in top3 else '' for i in column.index]\n",
        "\n",
        "# Create the PCA component DataFrame and apply the highlighting function\n",
        "pc_df = pd.DataFrame(pca.components_.T, columns=['PC{}'.format(i+1) for i in range(pca.n_components_)],\n",
        "                     index=customer_data_scaled.columns)\n",
        "\n",
        "pc_df.style.apply(highlight_top3, axis=0)"
      ],
      "metadata": {
        "execution": {
          "iopub.status.busy": "2023-09-13T18:53:35.001755Z",
          "iopub.execute_input": "2023-09-13T18:53:35.003497Z",
          "iopub.status.idle": "2023-09-13T18:53:35.15951Z",
          "shell.execute_reply.started": "2023-09-13T18:53:35.003452Z",
          "shell.execute_reply": "2023-09-13T18:53:35.158325Z"
        },
        "trusted": true,
        "id": "dPwz-iGl3cCM"
      },
      "execution_count": null,
      "outputs": []
    },
    {
      "cell_type": "markdown",
      "source": [
        "<a id=\"kmeans\"></a>\n",
        "# <p style=\"background-color: #ff6200; font-family:calibri; color:white; font-size:140%; font-family:Verdana; text-align:center; border-radius:15px 50px;\">Step 9 | K-Means Clustering</p>\n",
        "⬆️ [Tabel of Contents](#contents_tabel)"
      ],
      "metadata": {
        "id": "CRBDh6Rp3cCN"
      }
    },
    {
      "cell_type": "markdown",
      "source": [
        "<div style=\"border-radius:10px; padding: 15px; background-color: #ffeacc; font-size:120%; text-align:left\">\n",
        "\n",
        "<h2 align=\"left\"><font color=#ff6200>K-Means:</font></h2>\n",
        "\n",
        "- __K-Means__ is an unsupervised machine learning algorithm that clusters data into a specified number of groups (K) by minimizing the __within-cluster sum-of-squares (WCSS)__, also known as __inertia__. The algorithm iteratively assigns each data point to the nearest centroid, then updates the centroids by calculating the mean of all assigned points. The process repeats until convergence or a stopping criterion is reached."
      ],
      "metadata": {
        "id": "q26ufdEs3cCO"
      }
    },
    {
      "cell_type": "markdown",
      "source": [
        "<div style=\"border-radius:10px; padding: 15px; background-color: #ffeacc; font-size:120%; text-align:left\">\n",
        "\n",
        "<h2 align=\"left\"><font color=#ff6200>Drawbacks of K-Means:</font></h2>\n",
        "\n",
        "\n",
        "Here are the main drawbacks of the K-means clustering algorithm and their corresponding solutions:\n",
        "\n",
        "- 1️⃣ __Inertia is influenced by the number of dimensions__: The value of inertia tends to increase in high-dimensional spaces due to the curse of dimensionality, which can distort the Euclidean distances between data points.\n",
        "\n",
        "> __Solution:__ Performing dimensionality reduction, such as __PCA__, before applying K-means to alleviate this issue and speed up computations.\n",
        "    \n",
        "___\n",
        "    \n",
        "- 2️⃣ __Dependence on Initial Centroid Placement__: The K-means algorithm might find a local minimum instead of a global minimum, based on where the centroids are initially placed.\n",
        "\n",
        "> __Solution:__ To enhance the likelihood of locating the global minimum, we can employ the __k-means++ initialization__ method.\n",
        "  \n",
        "___\n",
        "    \n",
        "- 3️⃣ __Requires specifying the number of clusters__: K-means requires specifying the number of clusters (K) beforehand, which may not be known in advance.\n",
        "\n",
        "> __Solution:__ Using methods such as the __elbow method__ and __silhouette analysis__ to estimate the optimal number of clusters.\n",
        "    \n",
        "___     \n",
        "    \n",
        "- 4️⃣ __Sensitivity to unevenly sized or sparse clusters__: K-means might struggle with clusters of different sizes or densities.\n",
        "\n",
        "> __Solution:__ Increasing the number of random initializations (n_init) or consider using algorithms that handle unevenly sized clusters better, like GMM or DBSCAN.\n",
        "    \n",
        "___\n",
        "    \n",
        "- 5️⃣ __Assumes convex and isotropic clusters__: K-means assumes that clusters are spherical and have similar variances, which is not always the case. It may struggle with elongated or irregularly shaped clusters.\n",
        "    \n",
        "> __Solution:__ Considering using clustering algorithms that do not make these assumptions, such as DBSCAN or Gaussian Mixture Model (GMM).\n",
        "    \n",
        "    \n",
        "<img src=\"https://github.com/FarzadNekouee/Retail_Customer_Segmentation_Recommendation_System/blob/master/kmeans_drawbacks.jpg?raw=true\" width=\"2400\">\n",
        "    \n",
        "___\n",
        "    \n",
        "Taking into account the aforementioned considerations, I initially applied PCA to the dataset. For the KMeans algorithm, I will set the `init` parameter to `k-means++` and `n_init` to `10`. To determine the optimal number of clusters, I will employ the elbow method and silhouette analysis. Additionally, it might be beneficial to explore the use of alternative clustering algorithms such as GMM and DBSCAN in future analyses to potentially enhance the segmentation results."
      ],
      "metadata": {
        "id": "IYRYtMa23cCO"
      }
    },
    {
      "cell_type": "markdown",
      "source": [
        "<a id=\"optimal_k\"></a>\n",
        "# <b><span style='color:#fcc36d'>Step 9.1 |</span><span style='color:#ff6200'> Determining the Optimal Number of Clusters</span></b>\n",
        "⬆️ [Tabel of Contents](#contents_tabel)"
      ],
      "metadata": {
        "id": "lu7HCyE93cCP"
      }
    },
    {
      "cell_type": "markdown",
      "source": [
        "<div style=\"border-radius:10px; padding: 15px; background-color: #ffeacc; font-size:120%; text-align:left\">\n",
        "\n",
        "To ascertain the optimal number of clusters (k) for segmenting customers, I will explore two renowned methods:\n",
        "\n",
        "* __Elbow Method__\n",
        "\n",
        "* __Silhouette Method__\n",
        "\n",
        "    \n",
        "It's common to utilize both methods in practice to corroborate the results."
      ],
      "metadata": {
        "id": "niWY-rxk3cCP"
      }
    },
    {
      "cell_type": "markdown",
      "source": [
        "<a id=\"elbow\"></a>\n",
        "## <b><span style='color:#fcc36d'>Step 9.1.1 |</span><span style='color:#ff6200'> Elbow Method</span></b>\n",
        "⬆️ [Tabel of Contents](#contents_tabel)"
      ],
      "metadata": {
        "id": "Ey27Hf9x3cCQ"
      }
    },
    {
      "cell_type": "markdown",
      "source": [
        "<div style=\"border-radius:10px; padding: 15px; background-color: #ffeacc; font-size:120%; text-align:left\">\n",
        "\n",
        "<h3 align=\"left\"><font color=#ff6200>What is the Elbow Method?</font></h3>\n",
        "    \n",
        "The Elbow Method is a technique for identifying the ideal number of clusters in a dataset. It involves iterating through the data, generating clusters for various values of k. The k-means algorithm calculates the sum of squared distances between each data point and its assigned cluster centroid, known as the __inertia__ or __WCSS__ score. By plotting the inertia score against the k value, we create a graph that typically exhibits an elbow shape, hence the name \"__Elbow Method__\". The __elbow point__ represents the k-value where the reduction in inertia achieved by increasing k becomes negligible, indicating the optimal stopping point for the number of clusters."
      ],
      "metadata": {
        "id": "e1z5rG8h3cCQ"
      }
    },
    {
      "cell_type": "markdown",
      "source": [
        "<div style=\"border-radius:10px; padding: 15px; background-color: #ffeacc; font-size:120%; text-align:left\">\n",
        "\n",
        "<h3 align=\"left\"><font color=#ff6200>Utilizing the YellowBrick Library</font></h3>\n",
        "\n",
        "In this section, I will employ the __YellowBrick__ library to facilitate the implementation of the __Elbow method__. YellowBrick, an extension of the Scikit-Learn API, is renowned for its ability to rapidly generate insightful visualizations in the field of machine learning."
      ],
      "metadata": {
        "id": "4hDawPBc3cCR"
      }
    },
    {
      "cell_type": "code",
      "source": [
        "# Set plot style, and background color\n",
        "sns.set(style='darkgrid', rc={'axes.facecolor': '#fcf0dc'})\n",
        "\n",
        "# Set the color palette for the plot\n",
        "sns.set_palette(['#ff6200'])\n",
        "\n",
        "# Instantiate the clustering model with the specified parameters\n",
        "km = KMeans(init='k-means++', n_init=10, max_iter=100, random_state=0)\n",
        "\n",
        "# Create a figure and axis with the desired size\n",
        "fig, ax = plt.subplots(figsize=(12, 5))\n",
        "\n",
        "# Instantiate the KElbowVisualizer with the model and range of k values, and disable the timing plot\n",
        "visualizer = KElbowVisualizer(km, k=(2, 15), timings=False, ax=ax)\n",
        "\n",
        "# Fit the data to the visualizer\n",
        "visualizer.fit(customer_data_pca)\n",
        "\n",
        "# Finalize and render the figure\n",
        "visualizer.show();"
      ],
      "metadata": {
        "execution": {
          "iopub.status.busy": "2023-09-13T18:53:35.161038Z",
          "iopub.execute_input": "2023-09-13T18:53:35.162463Z",
          "iopub.status.idle": "2023-09-13T18:53:53.587497Z",
          "shell.execute_reply.started": "2023-09-13T18:53:35.162418Z",
          "shell.execute_reply": "2023-09-13T18:53:53.586331Z"
        },
        "trusted": true,
        "id": "JkkLX12O3cCS"
      },
      "execution_count": null,
      "outputs": []
    },
    {
      "cell_type": "markdown",
      "source": [
        "<div style=\"border-radius:10px; padding: 15px; background-color: #ffeacc; font-size:120%; text-align:left\">\n",
        "\n",
        "<h3 align=\"left\"><font color=#ff6200>Optimal k Value: Elbow Method Insights</font></h3>\n",
        "\n",
        "The optimal value of k for the KMeans clustering algorithm can be found at the __elbow point__. Using the YellowBrick library for the Elbow method, we observe that the suggested optimal k value is __5__. However, __we don't have a very distinct elbow point in this case__, which is common in real-world data. From the plot, we can see that the inertia continues to decrease significantly up to k=5, indicating that __the optimum value of k could be between 3 and 7__. To choose the best k within this range, we can employ the __silhouette analysis__, another cluster quality evaluation method. Additionally, incorporating business insights can help determine a practical k value."
      ],
      "metadata": {
        "id": "Xk-GHLfc3cCS"
      }
    },
    {
      "cell_type": "markdown",
      "source": [
        "<a id=\"silhouette\"></a>\n",
        "## <b><span style='color:#fcc36d'>Step 9.1.2 |</span><span style='color:#ff6200'> Silhouette Method</span></b>\n",
        "⬆️ [Tabel of Contents](#contents_tabel)"
      ],
      "metadata": {
        "id": "dtoG-vki3cCT"
      }
    },
    {
      "cell_type": "markdown",
      "source": [
        "<div style=\"border-radius:10px; padding: 15px; background-color: #ffeacc; font-size:120%; text-align:left\">\n",
        "\n",
        "<h3 align=\"left\"><font color=#ff6200>What is the Silhouette Method?</font></h3>\n",
        "    \n",
        "The __Silhouette Method__ is an approach to find the optimal number of clusters in a dataset by evaluating the consistency within clusters and their separation from other clusters. It computes the __silhouette coefficient for each data point__, which measures how similar a point is to its own cluster compared to other clusters.\n",
        "\n",
        "____\n",
        "    \n",
        "<h3 align=\"left\"><font color=#ff6200>What is the Silhouette Coefficient?</font></h3>\n",
        "    \n",
        "To determine the silhouette coefficient for a given point i, follow these steps:\n",
        "\n",
        "* __Calculate a(i)__: Compute the average distance between point i and all other points within its cluster.\n",
        "* __Calculate b(i)__: Compute the average distance between point i and all points in the nearest cluster to its own.\n",
        "* __Compute the silhouette coefficient__, s(i), for point i using the following formula:\n",
        "    \n",
        "    $$ s(i) = \\frac{b(i) - a(i)}{\\max(b(i), a(i))} $$\n",
        "    \n",
        "__Note:__ The silhouette coefficient quantifies the similarity of a point to its own cluster (cohesion) relative to its separation from other clusters. This value ranges from -1 to 1, with higher values signifying that the point is well aligned with its cluster and has a low similarity to neighboring clusters.    \n",
        "\n",
        "____\n",
        "    \n",
        "<h3 align=\"left\"><font color=#ff6200>What is the Silhouette Score?</font></h3>\n",
        "    \n",
        "The __silhouette score__ is the __average silhouette coefficient__ calculated for all data points in a dataset. It provides an overall assessment of the clustering quality, taking into account both cohesion within clusters and separation between clusters. A higher silhouette score indicates a better clustering configuration.    \n",
        "    \n",
        "____\n",
        "       \n",
        "<h3 align=\"left\"><font color=#ff6200>What are the Advantages of Silhouette Method over the Elbow Method?</font></h3>\n",
        "    \n",
        "* The __Silhouette Method__ evaluates cluster quality by considering __both__ the __cohesion within clusters__ and their __separation__ from other clusters. This provides a more comprehensive measure of clustering performance compared to the __Elbow Method__, which only considers the __inertia__ (sum of squared distances within clusters).\n",
        "\n",
        "\n",
        "* The __Silhouette Method__ produces a silhouette score that directly quantifies the quality of clustering, making it easier to compare different values of k. In contrast, the __Elbow Method__ relies on the subjective interpretation of the elbow point, which can be less reliable in cases where the plot does not show a clear elbow.\n",
        "\n",
        "    \n",
        "* The __Silhouette Method__ generates a visual representation of silhouette coefficients for each data point, allowing for easier identification of fluctuations and outliers within clusters. This helps in determining the optimal number of clusters with higher confidence, as opposed to the __Elbow Method__, which relies on visual inspection of the inertia plot."
      ],
      "metadata": {
        "id": "mfOhU8Me3cCV"
      }
    },
    {
      "cell_type": "markdown",
      "source": [
        "<div style=\"border-radius:10px; padding: 15px; background-color: #ffeacc; font-size:120%; text-align:left\">\n",
        "\n",
        "<h3 align=\"left\"><font color=#ff6200>Methodology</font></h3>\n",
        "    \n",
        "In the following analysis:\n",
        "\n",
        "- I will initially choose a range of 2-6 for the number of clusters (k) based on the Elbow method from the previous section. Next, I will plot __Silhouette scores__ for each k value to determine the one with the highest score.\n",
        "\n",
        "\n",
        "- Subsequently, to fine-tune the selection of the most appropriate k, I will generate __Silhouette plots__ that visually display the __silhouette coefficients for each data point within various clusters__.\n",
        "\n",
        "\n",
        "The __YellowBrick__ library will be utilized once again to create these plots and facilitate a comparative analysis."
      ],
      "metadata": {
        "id": "cSTpfuI23cCW"
      }
    },
    {
      "cell_type": "code",
      "source": [
        "def silhouette_analysis(df, start_k, stop_k, figsize=(15, 16)):\n",
        "    \"\"\"\n",
        "    Perform Silhouette analysis for a range of k values and visualize the results.\n",
        "    \"\"\"\n",
        "\n",
        "    # Set the size of the figure\n",
        "    plt.figure(figsize=figsize)\n",
        "\n",
        "    # Create a grid with (stop_k - start_k + 1) rows and 2 columns\n",
        "    grid = gridspec.GridSpec(stop_k - start_k + 1, 2)\n",
        "\n",
        "    # Assign the first plot to the first row and both columns\n",
        "    first_plot = plt.subplot(grid[0, :])\n",
        "\n",
        "    # First plot: Silhouette scores for different k values\n",
        "    sns.set_palette(['darkorange'])\n",
        "\n",
        "    silhouette_scores = []\n",
        "\n",
        "    # Iterate through the range of k values\n",
        "    for k in range(start_k, stop_k + 1):\n",
        "        km = KMeans(n_clusters=k, init='k-means++', n_init=10, max_iter=100, random_state=0)\n",
        "        km.fit(df)\n",
        "        labels = km.predict(df)\n",
        "        score = silhouette_score(df, labels)\n",
        "        silhouette_scores.append(score)\n",
        "\n",
        "    best_k = start_k + silhouette_scores.index(max(silhouette_scores))\n",
        "\n",
        "    plt.plot(range(start_k, stop_k + 1), silhouette_scores, marker='o')\n",
        "    plt.xticks(range(start_k, stop_k + 1))\n",
        "    plt.xlabel('Number of clusters (k)')\n",
        "    plt.ylabel('Silhouette score')\n",
        "    plt.title('Average Silhouette Score for Different k Values', fontsize=15)\n",
        "\n",
        "    # Add the optimal k value text to the plot\n",
        "    optimal_k_text = f'The k value with the highest Silhouette score is: {best_k}'\n",
        "    plt.text(10, 0.23, optimal_k_text, fontsize=12, verticalalignment='bottom',\n",
        "             horizontalalignment='left', bbox=dict(facecolor='#fcc36d', edgecolor='#ff6200', boxstyle='round, pad=0.5'))\n",
        "\n",
        "\n",
        "    # Second plot (subplot): Silhouette plots for each k value\n",
        "    colors = sns.color_palette(\"bright\")\n",
        "\n",
        "    for i in range(start_k, stop_k + 1):\n",
        "        km = KMeans(n_clusters=i, init='k-means++', n_init=10, max_iter=100, random_state=0)\n",
        "        row_idx, col_idx = divmod(i - start_k, 2)\n",
        "\n",
        "        # Assign the plots to the second, third, and fourth rows\n",
        "        ax = plt.subplot(grid[row_idx + 1, col_idx])\n",
        "\n",
        "        visualizer = SilhouetteVisualizer(km, colors=colors, ax=ax)\n",
        "        visualizer.fit(df)\n",
        "\n",
        "        # Add the Silhouette score text to the plot\n",
        "        score = silhouette_score(df, km.labels_)\n",
        "        ax.text(0.97, 0.02, f'Silhouette Score: {score:.2f}', fontsize=12, \\\n",
        "                ha='right', transform=ax.transAxes, color='red')\n",
        "\n",
        "        ax.set_title(f'Silhouette Plot for {i} Clusters', fontsize=15)\n",
        "\n",
        "    plt.tight_layout()\n",
        "    plt.show()"
      ],
      "metadata": {
        "execution": {
          "iopub.status.busy": "2023-09-13T18:53:53.590122Z",
          "iopub.execute_input": "2023-09-13T18:53:53.59062Z",
          "iopub.status.idle": "2023-09-13T18:53:53.609123Z",
          "shell.execute_reply.started": "2023-09-13T18:53:53.590573Z",
          "shell.execute_reply": "2023-09-13T18:53:53.607443Z"
        },
        "trusted": true,
        "id": "gjIqHAzA3cCX"
      },
      "execution_count": null,
      "outputs": []
    },
    {
      "cell_type": "code",
      "source": [
        "silhouette_analysis(customer_data_pca, 3, 12, figsize=(20, 50))"
      ],
      "metadata": {
        "execution": {
          "iopub.status.busy": "2023-09-13T18:53:53.611076Z",
          "iopub.execute_input": "2023-09-13T18:53:53.611547Z",
          "iopub.status.idle": "2023-09-13T18:54:39.393437Z",
          "shell.execute_reply.started": "2023-09-13T18:53:53.611505Z",
          "shell.execute_reply": "2023-09-13T18:54:39.392251Z"
        },
        "trusted": true,
        "id": "mVdcPfr73cCY"
      },
      "execution_count": null,
      "outputs": []
    },
    {
      "cell_type": "markdown",
      "source": [
        "<div style=\"border-radius:10px; padding: 15px; background-color: #ffeacc; font-size:120%; text-align:left\">\n",
        "\n",
        "<h3 align=\"left\"><font color=#ff6200>Guidelines to Interpret Silhouette Plots and Determine the Optimal K:</font></h3>\n",
        "\n",
        "\n",
        "To interpret silhouette plots and identify the optimal number of clusters (\\( k \\)), consider the following criteria:\n",
        "\n",
        "- 1️⃣ __Analyze the Silhouette Plots__:\n",
        "   \n",
        "   * __Silhouette Score Width__:\n",
        "        - __Wide Widths (closer to +1)__: Indicate that the data points in the cluster are well separated from points in other clusters, suggesting well-defined clusters.\n",
        "        - __Narrow Widths (closer to -1)__: Show that data points in the cluster are not distinctly separated from other clusters, indicating poorly defined clusters.\n",
        "   \n",
        "   * __Average Silhouette Score__:\n",
        "        - __High Average Width__: A cluster with a high average silhouette score indicates well-separated clusters.\n",
        "        - __Low Average Width__: A cluster with a low average silhouette score indicates poor separation between clusters.\n",
        "\n",
        "____\n",
        "    \n",
        "    \n",
        "- 2️⃣ __Uniformity in Cluster Size__:\n",
        "   \n",
        "   2.1 __Cluster Thickness__:\n",
        "   - __Uniform Thickness__: Indicates that clusters have a roughly equal number of data points, suggesting a balanced clustering structure.\n",
        "   - __Variable Thickness__: Signifies an imbalance in the data point distribution across clusters, with some clusters having many data points and others too few.\n",
        "\n",
        "____\n",
        "    \n",
        "    \n",
        "- 3️⃣ __Peaks in Average Silhouette Score__:\n",
        "   - __Clear Peaks__: A clear peak in the __average__ silhouette score plot for a specific \\( k \\) value indicates this \\( k \\) might be optimal.\n",
        "\n",
        "____\n",
        "    \n",
        "    \n",
        "- 4️⃣ __Minimize Fluctuations in Silhouette Plot Widths__:\n",
        "   - __Uniform Widths__: Seek silhouette plots with similar widths across clusters, suggesting a more balanced and optimal clustering.\n",
        "   - __Variable Widths__: Avoid wide fluctuations in silhouette plot widths, indicating that clusters are not well-defined and may vary in compactness.\n",
        "\n",
        "____\n",
        "    \n",
        "    \n",
        "- 5️⃣ __Optimal Cluster Selection__:\n",
        "   - __Maximize the Overall Average Silhouette Score__: Choose the \\( k \\) value that gives the highest average silhouette score across all clusters, indicating well-defined clusters.\n",
        "   - __Avoid Below-Average Silhouette Scores__: Ensure most clusters have above-average silhouette scores to prevent suboptimal clustering structures.\n",
        "\n",
        "____\n",
        "    \n",
        "    \n",
        "- 6️⃣ __Visual Inspection of Silhouette Plots__:\n",
        "   - __Consistent Cluster Formation__: Visually inspect the silhouette plots for each \\( k \\) value to evaluate the consistency and structure of the formed clusters.\n",
        "   - __Cluster Compactness__: Look for more compact clusters, with data points having silhouette scores closer to +1, indicating better clustering.\n"
      ],
      "metadata": {
        "id": "H_KWvf5P3cCZ"
      }
    },
    {
      "cell_type": "markdown",
      "source": [
        "<div style=\"border-radius:10px; padding: 15px; background-color: #ffeacc; font-size:120%; text-align:left\">\n",
        "\n",
        "<h3 align=\"left\"><font color=#ff6200>Optimal k Value: Silhouette Method Insights</font></h3>\n",
        "\n",
        "Based on above guidelines and after carefully considering the silhouette plots, it's clear that choosing __\\( k = 3 \\)__ is the better option. This choice gives us clusters that are more evenly matched and well-defined, making our clustering solution stronger and more reliable."
      ],
      "metadata": {
        "id": "Dy-HoGb23cCb"
      }
    },
    {
      "cell_type": "markdown",
      "source": [
        "<a id=\"kmeans_model\"></a>\n",
        "# <b><span style='color:#fcc36d'>Step 9.2 |</span><span style='color:#ff6200'> Clustering Model - K-means</span></b>\n",
        "⬆️ [Tabel of Contents](#contents_tabel)"
      ],
      "metadata": {
        "id": "SA4Og-qU3cCc"
      }
    },
    {
      "cell_type": "markdown",
      "source": [
        "<div style=\"border-radius:10px; padding: 15px; background-color: #ffeacc; font-size:120%; text-align:left\">\n",
        "\n",
        "In this step, I am going to apply the K-means clustering algorithm to segment customers into different clusters based on their purchasing behaviors and other characteristics, using the optimal number of clusters determined in the previous step.\n",
        "\n",
        "It's important to note that the K-means algorithm might assign different labels to the clusters in each run. To address this, we have taken an additional step to swap the labels based on the frequency of samples in each cluster, ensuring a consistent label assignment across different runs."
      ],
      "metadata": {
        "id": "i6pWDtZ43cCd"
      }
    },
    {
      "cell_type": "code",
      "source": [
        "# Apply KMeans clustering using the optimal k\n",
        "kmeans = KMeans(n_clusters=3, init='k-means++', n_init=10, max_iter=100, random_state=0)\n",
        "kmeans.fit(customer_data_pca)\n",
        "\n",
        "# Get the frequency of each cluster\n",
        "cluster_frequencies = Counter(kmeans.labels_)\n",
        "\n",
        "# Create a mapping from old labels to new labels based on frequency\n",
        "label_mapping = {label: new_label for new_label, (label, _) in\n",
        "                 enumerate(cluster_frequencies.most_common())}\n",
        "\n",
        "# Reverse the mapping to assign labels as per your criteria\n",
        "label_mapping = {v: k for k, v in {2: 1, 1: 0, 0: 2}.items()}\n",
        "\n",
        "# Apply the mapping to get the new labels\n",
        "new_labels = np.array([label_mapping[label] for label in kmeans.labels_])\n",
        "\n",
        "# Append the new cluster labels back to the original dataset\n",
        "customer_data_cleaned['cluster'] = new_labels\n",
        "\n",
        "# Append the new cluster labels to the PCA version of the dataset\n",
        "customer_data_pca['cluster'] = new_labels"
      ],
      "metadata": {
        "execution": {
          "iopub.status.busy": "2023-09-13T18:54:39.39505Z",
          "iopub.execute_input": "2023-09-13T18:54:39.395437Z",
          "iopub.status.idle": "2023-09-13T18:54:40.646406Z",
          "shell.execute_reply.started": "2023-09-13T18:54:39.395391Z",
          "shell.execute_reply": "2023-09-13T18:54:40.645336Z"
        },
        "trusted": true,
        "id": "qnfbiRj33cCd"
      },
      "execution_count": null,
      "outputs": []
    },
    {
      "cell_type": "code",
      "source": [
        "# Display the first few rows of the original dataframe\n",
        "customer_data_cleaned.head()"
      ],
      "metadata": {
        "execution": {
          "iopub.status.busy": "2023-09-13T18:54:40.647782Z",
          "iopub.execute_input": "2023-09-13T18:54:40.648308Z",
          "iopub.status.idle": "2023-09-13T18:54:40.673915Z",
          "shell.execute_reply.started": "2023-09-13T18:54:40.648279Z",
          "shell.execute_reply": "2023-09-13T18:54:40.672743Z"
        },
        "trusted": true,
        "id": "1DGIiXfs3cCf"
      },
      "execution_count": null,
      "outputs": []
    },
    {
      "cell_type": "markdown",
      "source": [
        "<a id=\"evaluation\"></a>\n",
        "# <p style=\"background-color: #ff6200; font-family:calibri; color:white; font-size:140%; font-family:Verdana; text-align:center; border-radius:15px 50px;\">Step 10 | Clustering Evaluation</p>\n",
        "⬆️ [Tabel of Contents](#contents_tabel)"
      ],
      "metadata": {
        "id": "T33KhtMY3cCf"
      }
    },
    {
      "cell_type": "markdown",
      "source": [
        "<div style=\"border-radius:10px; padding: 15px; background-color: #ffeacc; font-size:120%; text-align:left\">\n",
        "\n",
        "After determining the optimal number of clusters (which is 3 in our case) using elbow and silhouette analyses, I move onto the evaluation step to assess the quality of the clusters formed. This step is essential to validate the effectiveness of the clustering and to ensure that the clusters are __coherent__ and __well-separated__. The evaluation metrics and a visualization technique I plan to use are outlined below:\n",
        "    \n",
        "- 1️⃣ __3D Visualization of Top PCs__\n",
        "\n",
        "    \n",
        "- 2️⃣ __Cluster Distribution Visualization__\n",
        "    \n",
        "    \n",
        "- 3️⃣ __Evaluation Metrics__\n",
        "    \n",
        "    * Silhouette Score\n",
        "    * Calinski Harabasz Score\n",
        "    * Davies Bouldin Score\n",
        "       \n",
        "____  \n",
        "    \n",
        "**Note**: We are using the PCA version of the dataset for evaluation because this is the space where the clusters were actually formed, capturing the most significant patterns in the data. Evaluating in this space ensures a more accurate representation of the cluster quality, helping us understand the true cohesion and separation achieved during clustering. This approach also aids in creating a clearer 3D visualization using the top principal components, illustrating the actual separation between clusters."
      ],
      "metadata": {
        "id": "T1oPKkgg3cCg"
      }
    },
    {
      "cell_type": "markdown",
      "source": [
        "<a id=\"3d_visualization\"></a>\n",
        "# <b><span style='color:#fcc36d'>Step 10.1 |</span><span style='color:#ff6200'>  3D Visualization of Top Principal Components</span></b>\n",
        "⬆️ [Tabel of Contents](#contents_tabel)"
      ],
      "metadata": {
        "id": "n0P3YGFU3cCh"
      }
    },
    {
      "cell_type": "markdown",
      "source": [
        "<div style=\"border-radius:10px; padding: 15px; background-color: #ffeacc; font-size:120%; text-align:left\">\n",
        "\n",
        "In this part, I am going to choose the top 3 PCs (which capture the most variance in the data) and use them to create a 3D visualization. This will allow us to visually inspect the quality of separation and cohesion of clusters to some extent:"
      ],
      "metadata": {
        "id": "qs-wnA0x3cCh"
      }
    },
    {
      "cell_type": "code",
      "source": [
        "# Setting up the color scheme for the clusters (RGB order)\n",
        "colors = ['#e8000b', '#1ac938', '#023eff']"
      ],
      "metadata": {
        "execution": {
          "iopub.status.busy": "2023-09-13T18:54:40.675525Z",
          "iopub.execute_input": "2023-09-13T18:54:40.675979Z",
          "iopub.status.idle": "2023-09-13T18:54:40.682008Z",
          "shell.execute_reply.started": "2023-09-13T18:54:40.675939Z",
          "shell.execute_reply": "2023-09-13T18:54:40.680554Z"
        },
        "trusted": true,
        "id": "-w2R7pEk3cCi"
      },
      "execution_count": null,
      "outputs": []
    },
    {
      "cell_type": "code",
      "source": [
        "# Create separate data frames for each cluster\n",
        "cluster_0 = customer_data_pca[customer_data_pca['cluster'] == 0]\n",
        "cluster_1 = customer_data_pca[customer_data_pca['cluster'] == 1]\n",
        "cluster_2 = customer_data_pca[customer_data_pca['cluster'] == 2]\n",
        "\n",
        "# Create a 3D scatter plot\n",
        "fig = go.Figure()\n",
        "\n",
        "# Add data points for each cluster separately and specify the color\n",
        "fig.add_trace(go.Scatter3d(x=cluster_0['PC1'], y=cluster_0['PC2'], z=cluster_0['PC3'],\n",
        "                           mode='markers', marker=dict(color=colors[0], size=5, opacity=0.4), name='Cluster 0'))\n",
        "fig.add_trace(go.Scatter3d(x=cluster_1['PC1'], y=cluster_1['PC2'], z=cluster_1['PC3'],\n",
        "                           mode='markers', marker=dict(color=colors[1], size=5, opacity=0.4), name='Cluster 1'))\n",
        "fig.add_trace(go.Scatter3d(x=cluster_2['PC1'], y=cluster_2['PC2'], z=cluster_2['PC3'],\n",
        "                           mode='markers', marker=dict(color=colors[2], size=5, opacity=0.4), name='Cluster 2'))\n",
        "\n",
        "# Set the title and layout details\n",
        "fig.update_layout(\n",
        "    title=dict(text='3D Visualization of Customer Clusters in PCA Space', x=0.5),\n",
        "    scene=dict(\n",
        "        xaxis=dict(backgroundcolor=\"#fcf0dc\", gridcolor='white', title='PC1'),\n",
        "        yaxis=dict(backgroundcolor=\"#fcf0dc\", gridcolor='white', title='PC2'),\n",
        "        zaxis=dict(backgroundcolor=\"#fcf0dc\", gridcolor='white', title='PC3'),\n",
        "    ),\n",
        "    width=900,\n",
        "    height=800\n",
        ")\n",
        "\n",
        "# Show the plot\n",
        "fig.show()"
      ],
      "metadata": {
        "execution": {
          "iopub.status.busy": "2023-09-13T18:54:40.683651Z",
          "iopub.execute_input": "2023-09-13T18:54:40.684105Z",
          "iopub.status.idle": "2023-09-13T18:54:40.789915Z",
          "shell.execute_reply.started": "2023-09-13T18:54:40.684063Z",
          "shell.execute_reply": "2023-09-13T18:54:40.788652Z"
        },
        "trusted": true,
        "id": "_ya7xxfA3cCi"
      },
      "execution_count": null,
      "outputs": []
    },
    {
      "cell_type": "markdown",
      "source": [
        "<a id=\"cluster_distributuion\"></a>\n",
        "# <b><span style='color:#fcc36d'>Step 10.2 |</span><span style='color:#ff6200'>  Cluster Distribution Visualization</span></b>\n",
        "⬆️ [Tabel of Contents](#contents_tabel)"
      ],
      "metadata": {
        "id": "B01upDrz3cCj"
      }
    },
    {
      "cell_type": "markdown",
      "source": [
        "<div style=\"border-radius:10px; padding: 15px; background-color: #ffeacc; font-size:120%; text-align:left\">\n",
        "    \n",
        "I am going to utilize a bar plot to visualize the percentage of customers in each cluster, which helps in understanding if the clusters are balanced and significant:"
      ],
      "metadata": {
        "id": "bkFwU45Y3cCk"
      }
    },
    {
      "cell_type": "code",
      "source": [
        "# Calculate the percentage of customers in each cluster\n",
        "cluster_percentage = (customer_data_pca['cluster'].value_counts(normalize=True) * 100).reset_index()\n",
        "cluster_percentage.columns = ['Cluster', 'Percentage']\n",
        "cluster_percentage.sort_values(by='Cluster', inplace=True)\n",
        "\n",
        "# Create a horizontal bar plot\n",
        "plt.figure(figsize=(10, 4))\n",
        "sns.barplot(x='Percentage', y='Cluster', data=cluster_percentage, orient='h', palette=colors)\n",
        "\n",
        "# Adding percentages on the bars\n",
        "for index, value in enumerate(cluster_percentage['Percentage']):\n",
        "    plt.text(value+0.5, index, f'{value:.2f}%')\n",
        "\n",
        "plt.title('Distribution of Customers Across Clusters', fontsize=14)\n",
        "plt.xticks(ticks=np.arange(0, 50, 5))\n",
        "plt.xlabel('Percentage (%)')\n",
        "\n",
        "# Show the plot\n",
        "plt.show()"
      ],
      "metadata": {
        "execution": {
          "iopub.status.busy": "2023-09-13T18:54:40.791581Z",
          "iopub.execute_input": "2023-09-13T18:54:40.792202Z",
          "iopub.status.idle": "2023-09-13T18:54:41.174245Z",
          "shell.execute_reply.started": "2023-09-13T18:54:40.792163Z",
          "shell.execute_reply": "2023-09-13T18:54:41.173238Z"
        },
        "trusted": true,
        "id": "QFHfF8Vj3cCl"
      },
      "execution_count": null,
      "outputs": []
    },
    {
      "cell_type": "markdown",
      "source": [
        "<div style=\"border-radius:10px; padding: 15px; background-color: #ffeacc; font-size:120%; text-align:left\">\n",
        "<h3 align=\"left\"><font color=#ff6200>Inference</font></h3>\n",
        "    \n",
        "The distribution of customers across the clusters, as depicted by the bar plot, suggests a fairly balanced distribution with clusters 0 and 1 holding around 41% of customers each and cluster 2 accommodating approximately 18% of the customers.\n",
        "\n",
        "This balanced distribution indicates that our clustering process has been largely successful in identifying meaningful patterns within the data, rather than merely grouping noise or outliers. It implies that each cluster represents a substantial and distinct segment of the customer base, thereby offering valuable insights for future business strategies.\n",
        "\n",
        "Moreover, the fact that no cluster contains a very small percentage of customers, assures us that each cluster is significant and not just representing outliers or noise in the data. This setup allows for a more nuanced understanding and analysis of different customer segments, facilitating effective and informed decision-making.\n"
      ],
      "metadata": {
        "id": "747cXoGV3cCl"
      }
    },
    {
      "cell_type": "markdown",
      "source": [
        "<a id=\"evaluations_metrics\"></a>\n",
        "# <b><span style='color:#fcc36d'>Step 10.3 |</span><span style='color:#ff6200'> Evaluation Metrics</span></b>\n",
        "⬆️ [Tabel of Contents](#contents_tabel)"
      ],
      "metadata": {
        "id": "FKglY-GQ3cCm"
      }
    },
    {
      "cell_type": "markdown",
      "source": [
        "<div style=\"border-radius:10px; padding: 15px; background-color: #ffeacc; font-size:120%; text-align:left\">\n",
        "\n",
        "To further scrutinize the quality of our clustering, I will employ the following metrics:\n",
        "\n",
        "- __Silhouette Score__: A measure to evaluate the separation distance between the clusters. Higher values indicate better cluster separation. It ranges from -1 to 1.\n",
        "    \n",
        "    \n",
        "- __Calinski Harabasz Score__: This score is used to evaluate the dispersion between and within clusters. A higher score indicates better defined clusters.\n",
        "\n",
        "    \n",
        "- __Davies Bouldin Score__: It assesses the average similarity between each cluster and its most similar cluster. Lower values indicate better cluster separation."
      ],
      "metadata": {
        "id": "q_YbtRMz3cCm"
      }
    },
    {
      "cell_type": "code",
      "source": [
        "# Compute number of customers\n",
        "num_observations = len(customer_data_pca)\n",
        "\n",
        "# Separate the features and the cluster labels\n",
        "X = customer_data_pca.drop('cluster', axis=1)\n",
        "clusters = customer_data_pca['cluster']\n",
        "\n",
        "# Compute the metrics\n",
        "sil_score = silhouette_score(X, clusters)\n",
        "calinski_score = calinski_harabasz_score(X, clusters)\n",
        "davies_score = davies_bouldin_score(X, clusters)\n",
        "\n",
        "# Create a table to display the metrics and the number of observations\n",
        "table_data = [\n",
        "    [\"Number of Observations\", num_observations],\n",
        "    [\"Silhouette Score\", sil_score],\n",
        "    [\"Calinski Harabasz Score\", calinski_score],\n",
        "    [\"Davies Bouldin Score\", davies_score]\n",
        "]\n",
        "\n",
        "# Print the table\n",
        "print(tabulate(table_data, headers=[\"Metric\", \"Value\"], tablefmt='pretty'))"
      ],
      "metadata": {
        "execution": {
          "iopub.status.busy": "2023-09-13T18:54:41.175493Z",
          "iopub.execute_input": "2023-09-13T18:54:41.175874Z",
          "iopub.status.idle": "2023-09-13T18:54:41.527974Z",
          "shell.execute_reply.started": "2023-09-13T18:54:41.175844Z",
          "shell.execute_reply": "2023-09-13T18:54:41.526107Z"
        },
        "trusted": true,
        "id": "G3l8CRKU3cCn"
      },
      "execution_count": null,
      "outputs": []
    },
    {
      "cell_type": "markdown",
      "source": [
        "<div style=\"border-radius:10px; padding: 15px; background-color: #ffeacc; font-size:120%; text-align:left\">\n",
        "<h3 align=\"left\"><font color=#ff6200>Clustering Quality Inference</font></h3>\n",
        "    \n",
        "    \n",
        "- The __Silhouette Score__ of approximately 0.236, although not close to 1, still indicates a fair amount of separation between the clusters. It suggests that the clusters are somewhat distinct, but there might be slight overlaps between them. Generally, a score closer to 1 would be ideal, indicating more distinct and well-separated clusters.\n",
        "\n",
        "    \n",
        "- The __Calinski Harabasz Score__ is 1257.17, which is considerably high, indicating that the clusters are well-defined. A higher score in this metric generally signals better cluster definitions, thus implying that our clustering has managed to find substantial structure in the data.\n",
        "\n",
        "    \n",
        "- The __Davies Bouldin Score__ of 1.37 is a reasonable score, indicating a moderate level of similarity between each cluster and its most similar one. A lower score is generally better as it indicates less similarity between clusters, and thus, our score here suggests a decent separation between the clusters.\n",
        "\n",
        "\n",
        "In conclusion, the metrics suggest that the clustering is of good quality, with clusters being well-defined and fairly separated. However, there might still be room for further optimization to enhance cluster separation and definition, potentially by trying other clustering and dimensionality reduction algorithms.\n",
        "\n"
      ],
      "metadata": {
        "id": "brzj-c-R3cCo"
      }
    },
    {
      "cell_type": "markdown",
      "source": [
        "<a id=\"profiling\"></a>\n",
        "# <p style=\"background-color: #ff6200; font-family:calibri; color:white; font-size:140%; font-family:Verdana; text-align:center; border-radius:15px 50px;\">Step 11 | Cluster Analysis and Profiling</p>\n",
        "⬆️ [Tabel of Contents](#contents_tabel)"
      ],
      "metadata": {
        "id": "IC_RigTo3cCo"
      }
    },
    {
      "cell_type": "markdown",
      "source": [
        "<div style=\"border-radius:10px; padding: 15px; background-color: #ffeacc; font-size:120%; text-align:left\">\n",
        "    \n",
        "In this section, I am going to analyze the characteristics of each cluster to understand the distinct behaviors and preferences of different customer segments and also profile each cluster to identify the key traits that define the customers in each cluster."
      ],
      "metadata": {
        "id": "5sZxzjvK3cCq"
      }
    },
    {
      "cell_type": "markdown",
      "source": [
        "<a id=\"radar_chart\"></a>\n",
        "# <b><span style='color:#fcc36d'>Step 11.1 |</span><span style='color:#ff6200'> Radar Chart Approach</span></b>\n",
        "⬆️ [Tabel of Contents](#contents_tabel)"
      ],
      "metadata": {
        "id": "Z921rn4g3cCq"
      }
    },
    {
      "cell_type": "markdown",
      "source": [
        "<div style=\"border-radius:10px; padding: 15px; background-color: #ffeacc; font-size:120%; text-align:left\">\n",
        "    \n",
        "First of all, I am going to create radar charts to visualize the centroid values of each cluster across different features. This can give a quick visual comparison of the profiles of different clusters.To construct the radar charts, it's essential to first compute the centroid for each cluster. This centroid represents the mean value for all features within a specific cluster. Subsequently, I will display these centroids on the radar charts, facilitating a clear visualization of the central tendencies of each feature across the various clusters:"
      ],
      "metadata": {
        "id": "B3coDfqi3cCr"
      }
    },
    {
      "cell_type": "code",
      "source": [
        "# Setting 'CustomerID' column as index and assigning it to a new dataframe\n",
        "df_customer = customer_data_cleaned.set_index('CustomerID')\n",
        "\n",
        "# Standardize the data (excluding the cluster column)\n",
        "scaler = StandardScaler()\n",
        "df_customer_standardized = scaler.fit_transform(df_customer.drop(columns=['cluster'], axis=1))\n",
        "\n",
        "# Create a new dataframe with standardized values and add the cluster column back\n",
        "df_customer_standardized = pd.DataFrame(df_customer_standardized, columns=df_customer.columns[:-1], index=df_customer.index)\n",
        "df_customer_standardized['cluster'] = df_customer['cluster']\n",
        "\n",
        "# Calculate the centroids of each cluster\n",
        "cluster_centroids = df_customer_standardized.groupby('cluster').mean()\n",
        "\n",
        "# Function to create a radar chart\n",
        "def create_radar_chart(ax, angles, data, color, cluster):\n",
        "    # Plot the data and fill the area\n",
        "    ax.fill(angles, data, color=color, alpha=0.4)\n",
        "    ax.plot(angles, data, color=color, linewidth=2, linestyle='solid')\n",
        "\n",
        "    # Add a title\n",
        "    ax.set_title(f'Cluster {cluster}', size=20, color=color, y=1.1)\n",
        "\n",
        "# Set data\n",
        "labels=np.array(cluster_centroids.columns)\n",
        "num_vars = len(labels)\n",
        "\n",
        "# Compute angle of each axis\n",
        "angles = np.linspace(0, 2 * np.pi, num_vars, endpoint=False).tolist()\n",
        "\n",
        "# The plot is circular, so we need to \"complete the loop\" and append the start to the end\n",
        "labels = np.concatenate((labels, [labels[0]]))\n",
        "angles += angles[:1]\n",
        "\n",
        "# Initialize the figure\n",
        "fig, ax = plt.subplots(figsize=(20, 10), subplot_kw=dict(polar=True), nrows=1, ncols=3)\n",
        "\n",
        "# Create radar chart for each cluster\n",
        "for i, color in enumerate(colors):\n",
        "    data = cluster_centroids.loc[i].tolist()\n",
        "    data += data[:1]  # Complete the loop\n",
        "    create_radar_chart(ax[i], angles, data, color, i)\n",
        "\n",
        "# Add input data\n",
        "ax[0].set_xticks(angles[:-1])\n",
        "ax[0].set_xticklabels(labels[:-1])\n",
        "\n",
        "ax[1].set_xticks(angles[:-1])\n",
        "ax[1].set_xticklabels(labels[:-1])\n",
        "\n",
        "ax[2].set_xticks(angles[:-1])\n",
        "ax[2].set_xticklabels(labels[:-1])\n",
        "\n",
        "# Add a grid\n",
        "ax[0].grid(color='grey', linewidth=0.5)\n",
        "\n",
        "# Display the plot\n",
        "plt.tight_layout()\n",
        "plt.show()"
      ],
      "metadata": {
        "execution": {
          "iopub.status.busy": "2023-09-13T18:54:41.53086Z",
          "iopub.execute_input": "2023-09-13T18:54:41.531526Z",
          "iopub.status.idle": "2023-09-13T18:54:42.822105Z",
          "shell.execute_reply.started": "2023-09-13T18:54:41.531468Z",
          "shell.execute_reply": "2023-09-13T18:54:42.820775Z"
        },
        "trusted": true,
        "id": "Wx8MK3hI3cCr"
      },
      "execution_count": null,
      "outputs": []
    },
    {
      "cell_type": "markdown",
      "source": [
        "<div style=\"border-radius:10px; padding: 15px; background-color: #ffeacc; font-size:120%; text-align:left\">\n",
        "    \n",
        "<h2 align=\"left\"><font color=#ff6200>Customer Profiles Derived from Radar Chart Analysis</font></h2>\n",
        "    \n",
        "<h3 align=\"left\"><font color=red>Cluster 0 (Red Chart):</font></h3>\n",
        "\n",
        "🎯 Profile: __Sporadic Shoppers with a Preference for Weekend Shopping__  \n",
        "\n",
        "- Customers in this cluster tend to spend less, with a lower number of transactions and products purchased.  \n",
        "- They have a slight tendency to shop during the weekends, as indicated by the very high `Day_of_Week` value.  \n",
        "- Their spending trend is relatively stable but on the lower side, and they have a low monthly spending variation (low `Monthly_Spending_Std`).  \n",
        "- These customers have not engaged in many cancellations, showing a low cancellation frequency and rate.  \n",
        "- The average transaction value is on the lower side, indicating that when they do shop, they tend to spend less per transaction.  \n",
        "\n",
        "____\n",
        "    \n",
        "<h3 align=\"left\"><font color=green>Cluster 1 (Green Chart):</font></h3>    \n",
        "\n",
        "🎯 Profile: __Infrequent Big Spenders with a High Spending Trend__  \n",
        "    \n",
        "- Customers in this cluster show a moderate level of spending, but their transactions are not very frequent, as indicated by the high `Days_Since_Last_Purchase` and `Average_Days_Between_Purchases`.  \n",
        "- They have a very high spending trend, indicating that their spending has been increasing over time.  \n",
        "- These customers prefer shopping late in the day, as indicated by the high `Hour` value, and they mainly reside in the UK.  \n",
        "- They have a tendency to cancel a moderate number of transactions, with a medium cancellation frequency and rate.  \n",
        "- Their average transaction value is relatively high, meaning that when they shop, they tend to make substantial purchases.  \n",
        "\n",
        "____\n",
        "    \n",
        "<h3 align=\"left\"><font color=blue>Cluster 2 (Blue Chart):</font></h3>   \n",
        "\n",
        "🎯 Profile: __Frequent High-Spenders with a High Rate of Cancellations__\n",
        "    \n",
        "- Customers in this cluster are high spenders with a very high total spend, and they purchase a wide variety of unique products.  \n",
        "- They engage in frequent transactions, but also have a high cancellation frequency and rate.  \n",
        "- These customers have a very low average time between purchases, and they tend to shop early in the day (low `Hour` value).  \n",
        "- Their monthly spending shows high variability, indicating that their spending patterns might be less predictable compared to other clusters.  \n",
        "- Despite their high spending, they show a low spending trend, suggesting that their high spending levels might be decreasing over time.  "
      ],
      "metadata": {
        "id": "_0WrBDdC3cCs"
      }
    },
    {
      "cell_type": "markdown",
      "source": [
        "<a id=\"histogram\"></a>\n",
        "# <b><span style='color:#fcc36d'>Step 11.2 |</span><span style='color:#ff6200'> Histogram Chart Approach</span></b>\n",
        "⬆️ [Tabel of Contents](#contents_tabel)"
      ],
      "metadata": {
        "id": "3bofhQeF3cCx"
      }
    },
    {
      "cell_type": "markdown",
      "source": [
        "<div style=\"border-radius:10px; padding: 15px; background-color: #ffeacc; font-size:120%; text-align:left\">\n",
        "    \n",
        "To validate the profiles identified from the radar charts, we can plot histograms for each feature segmented by the cluster labels. These histograms will allow us to visually inspect the distribution of feature values within each cluster, thereby confirming or refining the profiles we have created based on the radar charts."
      ],
      "metadata": {
        "id": "rEtX82cw3cCx"
      }
    },
    {
      "cell_type": "code",
      "source": [
        "# Plot histograms for each feature segmented by the clusters\n",
        "features = customer_data_cleaned.columns[1:-1]\n",
        "clusters = customer_data_cleaned['cluster'].unique()\n",
        "clusters.sort()\n",
        "\n",
        "# Setting up the subplots\n",
        "n_rows = len(features)\n",
        "n_cols = len(clusters)\n",
        "fig, axes = plt.subplots(n_rows, n_cols, figsize=(20, 3*n_rows))\n",
        "\n",
        "# Plotting histograms\n",
        "for i, feature in enumerate(features):\n",
        "    for j, cluster in enumerate(clusters):\n",
        "        data = customer_data_cleaned[customer_data_cleaned['cluster'] == cluster][feature]\n",
        "        axes[i, j].hist(data, bins=20, color=colors[j], edgecolor='w', alpha=0.7)\n",
        "        axes[i, j].set_title(f'Cluster {cluster} - {feature}', fontsize=15)\n",
        "        axes[i, j].set_xlabel('')\n",
        "        axes[i, j].set_ylabel('')\n",
        "\n",
        "# Adjusting layout to prevent overlapping\n",
        "plt.tight_layout()\n",
        "plt.show()"
      ],
      "metadata": {
        "execution": {
          "iopub.status.busy": "2023-09-13T18:54:42.823616Z",
          "iopub.execute_input": "2023-09-13T18:54:42.824Z",
          "iopub.status.idle": "2023-09-13T18:55:00.675141Z",
          "shell.execute_reply.started": "2023-09-13T18:54:42.823968Z",
          "shell.execute_reply": "2023-09-13T18:55:00.67381Z"
        },
        "trusted": true,
        "id": "rskKlMdL3cCz"
      },
      "execution_count": null,
      "outputs": []
    },
    {
      "cell_type": "markdown",
      "source": [
        "<div style=\"border-radius:10px; padding: 15px; background-color: #ffeacc; font-size:120%; text-align:left\">\n",
        "\n",
        "The detailed insights from the histograms provide a more nuanced understanding of each cluster, helping in refining the profiles to represent the customer behaviors more accurately. Based on the detailed analysis from both the radar charts and the histograms, here are the refined profiles and titles for each cluster:"
      ],
      "metadata": {
        "id": "oNX3o3fr3cC0"
      }
    },
    {
      "cell_type": "markdown",
      "source": [
        "<img src=\"https://github.com/FarzadNekouee/Retail_Customer_Segmentation_Recommendation_System/blob/master/profiles.png?raw=true\" width=\"2400\">"
      ],
      "metadata": {
        "id": "vv5zV-1I3cC1"
      }
    },
    {
      "cell_type": "markdown",
      "source": [
        "<a id=\"recommendation_system\"></a>\n",
        "# <p style=\"background-color: #ff6200; font-family:calibri; color:white; font-size:140%; font-family:Verdana; text-align:center; border-radius:15px 50px;\">Step 12 | Recommendation System</p>\n",
        "⬆️ [Tabel of Contents](#contents_tabel)"
      ],
      "metadata": {
        "id": "xl-SBJyv3cC1"
      }
    },
    {
      "cell_type": "markdown",
      "source": [
        "<div style=\"border-radius:10px; padding: 15px; background-color: #ffeacc; font-size:120%; text-align:left\">\n",
        "\n",
        "In the final phase of this project, I am set to develop a recommendation system to enhance the online shopping experience. This system will suggest products to customers based on the purchasing patterns prevalent in their respective clusters. Earlier in the project, during the customer data preparation stage, I isolated a small fraction (5%) of the customers identified as outliers and reserved them in a separate dataset called `outliers_data`.\n",
        "\n",
        "Now, focusing on the core 95% of the customer group, I analyze the cleansed customer data to pinpoint the top-selling products within each cluster. Leveraging this information, the system will craft personalized recommendations, suggesting __the top three products__ popular within their cluster that they have not yet purchased. This not only facilitates targeted marketing strategies but also enriches the personal shopping experience, potentially boosting sales. For the outlier group, a basic approach could be to recommend random products, as a starting point to engage them."
      ],
      "metadata": {
        "id": "88PVphdI3cC2"
      }
    },
    {
      "cell_type": "code",
      "source": [
        "\n",
        "def generate_recommendations(outliers_data, df, customer_data_cleaned):\n",
        "    # Step 1: Extract the CustomerIDs of the outliers and remove their transactions from the main dataframe\n",
        "    outlier_customer_ids = outliers_data['CustomerID'].astype('float').unique()\n",
        "    df_filtered = df[~df['CustomerID'].isin(outlier_customer_ids)]\n",
        "\n",
        "    # Step 2: Ensure consistent data type for CustomerID across both dataframes before merging\n",
        "    customer_data_cleaned['CustomerID'] = customer_data_cleaned['CustomerID'].astype('float')\n",
        "\n",
        "    # Step 3: Merge the transaction data with the customer data to get the cluster information for each transaction\n",
        "    merged_data = df_filtered.merge(customer_data_cleaned[['CustomerID', 'cluster']], on='CustomerID', how='inner')\n",
        "\n",
        "    # Step 4: Identify the top 10 best-selling products in each cluster based on the total quantity sold\n",
        "    best_selling_products = merged_data.groupby(['cluster', 'StockCode', 'Description'])['Quantity'].sum().reset_index()\n",
        "    best_selling_products = best_selling_products.sort_values(by=['cluster', 'Quantity'], ascending=[True, False])\n",
        "    top_products_per_cluster = best_selling_products.groupby('cluster').head(10)\n",
        "\n",
        "    # Step 5: Create a record of products purchased by each customer in each cluster\n",
        "    customer_purchases = merged_data.groupby(['CustomerID', 'cluster', 'StockCode'])['Quantity'].sum().reset_index()\n",
        "\n",
        "    # Step 6: Generate recommendations for each customer in each cluster\n",
        "    recommendations = []\n",
        "    for cluster in top_products_per_cluster['cluster'].unique():\n",
        "        top_products = top_products_per_cluster[top_products_per_cluster['cluster'] == cluster]\n",
        "        customers_in_cluster = customer_data_cleaned[customer_data_cleaned['cluster'] == cluster]['CustomerID']\n",
        "\n",
        "        for customer in customers_in_cluster:\n",
        "            # Identify products already purchased by the customer\n",
        "            customer_purchased_products = customer_purchases[(customer_purchases['CustomerID'] == customer) &\n",
        "                                                             (customer_purchases['cluster'] == cluster)]['StockCode'].tolist()\n",
        "\n",
        "            # Find top 3 products in the best-selling list that the customer hasn't purchased yet\n",
        "            top_products_not_purchased = top_products[~top_products['StockCode'].isin(customer_purchased_products)]\n",
        "            top_3_products_not_purchased = top_products_not_purchased.head(3)\n",
        "\n",
        "            # Append the recommendations to the list\n",
        "            recommendations.append([customer, cluster] + top_3_products_not_purchased[['StockCode', 'Description']].values.flatten().tolist())\n",
        "\n",
        "    # Step 7: Create a dataframe from the recommendations list and merge it with the original customer data\n",
        "    recommendations_df = pd.DataFrame(recommendations, columns=['CustomerID', 'cluster', 'Rec1_StockCode', 'Rec1_Description',\n",
        "                                                     'Rec2_StockCode', 'Rec2_Description', 'Rec3_StockCode', 'Rec3_Description'])\n",
        "    customer_data_with_recommendations = customer_data_cleaned.merge(recommendations_df, on=['CustomerID', 'cluster'], how='right')\n",
        "\n",
        "    # Returning both the merged data and a sampled subset of the last six columns for 10 customers\n",
        "    sampled_data = customer_data_with_recommendations.set_index('CustomerID').iloc[:, -6:].sample(1, random_state=0)\n",
        "\n",
        "    return customer_data_with_recommendations, sampled_data\n",
        "\n",
        "# Example usage\n",
        "# Assuming your dataframes are defined as outliers_data, df, and customer_data_cleaned\n",
        "result_with_recommendations, sampled_output = generate_recommendations(outliers_data, df, customer_data_cleaned)\n",
        "\n",
        "# Accessing the merged data\n",
        "print(result_with_recommendations.head())\n",
        "\n",
        "# Accessing the sampled subset\n",
        "print(sampled_output)"
      ],
      "metadata": {
        "execution": {
          "iopub.status.busy": "2023-09-13T18:55:00.676982Z",
          "iopub.execute_input": "2023-09-13T18:55:00.67739Z",
          "iopub.status.idle": "2023-09-13T18:55:12.163214Z",
          "shell.execute_reply.started": "2023-09-13T18:55:00.67733Z",
          "shell.execute_reply": "2023-09-13T18:55:12.161971Z"
        },
        "trusted": true,
        "id": "390JHa4n3cC3"
      },
      "execution_count": null,
      "outputs": []
    },
    {
      "cell_type": "code",
      "source": [
        "# Display 10 random rows from the customer_data_with_recommendations dataframe\n"
      ],
      "metadata": {
        "execution": {
          "iopub.status.busy": "2023-09-13T18:55:12.165049Z",
          "iopub.execute_input": "2023-09-13T18:55:12.165925Z",
          "iopub.status.idle": "2023-09-13T18:55:12.18709Z",
          "shell.execute_reply.started": "2023-09-13T18:55:12.165886Z",
          "shell.execute_reply": "2023-09-13T18:55:12.185665Z"
        },
        "trusted": true,
        "id": "ULLi2ZhK3cC4"
      },
      "execution_count": null,
      "outputs": []
    },
    {
      "cell_type": "code",
      "source": [
        "import pickle"
      ],
      "metadata": {
        "id": "g8zXzcGUI5M3"
      },
      "execution_count": null,
      "outputs": []
    },
    {
      "cell_type": "code",
      "source": [
        "pickle.dump(customer_data_with_recommendations,open('file.pkl','wb'))"
      ],
      "metadata": {
        "id": "c2SF-ZhcJYec"
      },
      "execution_count": null,
      "outputs": []
    },
    {
      "cell_type": "code",
      "source": [
        "pickle.dump((result_with_recommendations, sampled_output),open('file2.pkl','wb'))"
      ],
      "metadata": {
        "id": "q_qzyId16k8u"
      },
      "execution_count": null,
      "outputs": []
    },
    {
      "cell_type": "code",
      "source": [],
      "metadata": {
        "id": "Uuh5rhPD-erZ"
      },
      "execution_count": null,
      "outputs": []
    },
    {
      "cell_type": "markdown",
      "source": [
        "<div style=\"display: flex; align-items: center; justify-content: center; border-radius: 10px; padding: 20px; background-color: #ffeacc; font-size: 120%; text-align: center;\">\n",
        "\n",
        "<strong>🎯 If you need more information or want to explore the code, feel free to visit the project repository on <a href=\"https://github.com/FarzadNekouee/Retail_Customer_Segmentation_Recommendation_System\">GitHub</a> 🎯</strong>\n",
        "</div>\n"
      ],
      "metadata": {
        "id": "uYaKjqMy3cC4"
      }
    },
    {
      "cell_type": "markdown",
      "source": [
        "<h2 align=\"left\"><font color='#ff6200'>Best Regards!</font></h2>"
      ],
      "metadata": {
        "id": "zvpyjeLd3cC5"
      }
    }
  ]
}